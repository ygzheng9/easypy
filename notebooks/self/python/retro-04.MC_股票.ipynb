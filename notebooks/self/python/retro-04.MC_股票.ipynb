{
 "cells": [
  {
   "cell_type": "code",
   "execution_count": 2,
   "metadata": {},
   "outputs": [],
   "source": [
    "# -*- coding: utf-8 -*-\n",
    "from datetime import datetime\n",
    "import json\n",
    "import numpy as np\n",
    "import pandas as pd\n",
    "from pandas_datareader import data as wb\n",
    "from scipy.stats import norm, gmean"
   ]
  },
  {
   "cell_type": "code",
   "execution_count": 62,
   "metadata": {},
   "outputs": [],
   "source": [
    "START_DATE = '2017-1-1' # Date from which we want to get the financial year.\n",
    "YEARS = 20 # Years until retirement\n",
    "DAYS_IN_YEAR = 253 # Average number of trading days in the year\n",
    "PORTFOLIO_VALUE = 1000"
   ]
  },
  {
   "cell_type": "code",
   "execution_count": 5,
   "metadata": {},
   "outputs": [],
   "source": [
    "def get_portfolio():\n",
    "    with open('./data/portfolio.json', 'r') as portfolio_file:\n",
    "        portfolio_json = portfolio_file.read()\n",
    "        return json.loads(portfolio_json)['portfolio']\n",
    "\n",
    "portfolio_data = get_portfolio()\n"
   ]
  },
  {
   "cell_type": "code",
   "execution_count": 61,
   "metadata": {},
   "outputs": [
    {
     "data": {
      "text/plain": [
       "[{'ticker': '^FTM', 'name': 'FTSE 250', 'type': 'index', 'weight': 0.1},\n",
       " {'ticker': 'VEMAX',\n",
       "  'name': 'Vanguard Emerging Markets',\n",
       "  'type': 'stock',\n",
       "  'weight': 0.8},\n",
       " {'ticker': 'UU.L',\n",
       "  'name': 'United Utilities',\n",
       "  'type': 'stock',\n",
       "  'weight': 0.1},\n",
       " {'ticker': 'BHP.L', 'name': 'BHP Group', 'type': 'stock', 'weight': 0.1}]"
      ]
     },
     "execution_count": 61,
     "metadata": {},
     "output_type": "execute_result"
    }
   ],
   "source": [
    "portfolio_data"
   ]
  },
  {
   "cell_type": "code",
   "execution_count": 64,
   "metadata": {},
   "outputs": [],
   "source": [
    "# 测试：type = 'stock' 从 yahoo 获取数据，返回值是 Series\n",
    "test_data = wb.DataReader(portfolio_data[1]['ticker'], 'yahoo', start=START_DATE)['Adj Close']"
   ]
  },
  {
   "cell_type": "code",
   "execution_count": 72,
   "metadata": {},
   "outputs": [
    {
     "data": {
      "text/plain": [
       "DatetimeIndex(['2017-01-03', '2017-01-04', '2017-01-05', '2017-01-06',\n",
       "               '2017-01-09', '2017-01-10', '2017-01-11', '2017-01-12',\n",
       "               '2017-01-13', '2017-01-17',\n",
       "               ...\n",
       "               '2020-03-13', '2020-03-16', '2020-03-17', '2020-03-18',\n",
       "               '2020-03-19', '2020-03-20', '2020-03-23', '2020-03-24',\n",
       "               '2020-03-25', '2020-03-26'],\n",
       "              dtype='datetime64[ns]', name='Date', length=813, freq=None)"
      ]
     },
     "execution_count": 72,
     "metadata": {},
     "output_type": "execute_result"
    }
   ],
   "source": [
    "test_data.index"
   ]
  },
  {
   "cell_type": "code",
   "execution_count": 50,
   "metadata": {},
   "outputs": [],
   "source": [
    "def get_simulation(data):\n",
    "    ### 参数 data 是 wb.DataReader 的返回值:\n",
    "    ##    Date\n",
    "    ##    2020-03-26    15380.71\n",
    "    ##    2020-03-25    14819.91 \n",
    "    \n",
    "    # Get the logarithmic returns of the % change of prices from one trading day to the next.\n",
    "    log_returns = np.log(1 + data.pct_change()) \n",
    "    # Get the mean of these returns\n",
    "    u = log_returns.mean() \n",
    "    # Get the variance of these returns \n",
    "    var = log_returns.var()\n",
    "    # Get the change in the average value of these values\n",
    "    drift = u - (0.5 * var)\n",
    "    # Get the standard deviation\n",
    "    stdev = log_returns.std()\n",
    "    \n",
    "    \n",
    "    # 这是核心：根据历史数据，使用 Monte Carlo stimulation，生成未来的模拟\n",
    "    # How many days are we going to run the stimulation for\n",
    "    t_intervals = DAYS_IN_YEAR * YEARS\n",
    "    # How many simulations of this financial instrument are we going to run? \n",
    "    iterations = 10\n",
    "    # Create the Monte Carlo stimulation of daily percent changes of the financial instruments.\n",
    "    # t_intervals: 未来要模拟多少天\n",
    "    # iterations: 模拟多少轮，每一轮中都是 t_interals 天\n",
    "    # daily_returns 模拟未来每天的涨幅/跌幅，一共 iterations 轮\n",
    "    daily_returns = np.exp(drift + stdev * norm.ppf(np.random.rand(t_intervals, iterations)))\n",
    "    \n",
    "    # price_list 的第一行是最近的股票金额，乘以 daily_returns 中每天的涨幅/跌幅，计算后续每天的金额\n",
    "    # Create an numpy array filled with zeros with the same shape as the daily_returns numpy array.\n",
    "    price_list = np.zeros_like(daily_returns)\n",
    "    # Set the most recent trading day's data as the start prices\n",
    "    price_list[0] = data.iloc[-1]\n",
    "    # For each day in the simulation, compute the price of the stock after multiplying \n",
    "    # the previous's price by the current day's price.\n",
    "    for t in range(1, t_intervals):\n",
    "        price_list[t] = price_list[t - 1] * daily_returns[t]\n",
    "\n",
    "    # 最后一天的金额 / 起始值 得到总的变化比例\n",
    "    # 因为模拟了 iterations 轮，再 gmean 求几何均值\n",
    "    # Get all the percentage returns for all the simulations for this financial instructment.\n",
    "    asset_returns = price_list[-1] / price_list[0]\n",
    "    # Get and return the geometric mean (because we are dealingn with percentages)\n",
    "    # of all these simulations for this financial instrument.   \n",
    "    # 这是一个 scalar，一个 stock 只返回一个值\n",
    "    return gmean(asset_returns)"
   ]
  },
  {
   "cell_type": "code",
   "execution_count": 51,
   "metadata": {},
   "outputs": [],
   "source": [
    "def get_data(stock):\n",
    "    ## 参数是对象： {'ticker': '^FTM', 'name': 'FTSE 250', 'type': 'index', 'weight': 0.1}\n",
    "    ### wb.DataReader 返回值格式：\n",
    "    ##    Date\n",
    "    ##    2020-03-26    15380.71\n",
    "    ##    2020-03-25    14819.91 \n",
    "    ## get_simulation 返回值是一个数\n",
    "    \n",
    "    data = pd.DataFrame()\n",
    "    \n",
    "    # type: index/stock 指数/股票 从两个不同的地方获取数据\n",
    "    if stock['type'] == 'index':\n",
    "        data = wb.DataReader(stock['ticker'], 'stooq', start=START_DATE)['Close']\n",
    "        return get_simulation(data)\n",
    "    \n",
    "    data = wb.DataReader(stock['ticker'], 'yahoo', start=START_DATE)['Adj Close']\n",
    "    return get_simulation(data)"
   ]
  },
  {
   "cell_type": "code",
   "execution_count": null,
   "metadata": {},
   "outputs": [],
   "source": []
  },
  {
   "cell_type": "code",
   "execution_count": 52,
   "metadata": {},
   "outputs": [],
   "source": [
    "portfolio = pd.DataFrame(portfolio_data).assign(returns = [get_data(stock) for stock in portfolio_data])"
   ]
  },
  {
   "cell_type": "code",
   "execution_count": 53,
   "metadata": {},
   "outputs": [
    {
     "data": {
      "text/html": [
       "<div>\n",
       "<style scoped>\n",
       "    .dataframe tbody tr th:only-of-type {\n",
       "        vertical-align: middle;\n",
       "    }\n",
       "\n",
       "    .dataframe tbody tr th {\n",
       "        vertical-align: top;\n",
       "    }\n",
       "\n",
       "    .dataframe thead th {\n",
       "        text-align: right;\n",
       "    }\n",
       "</style>\n",
       "<table border=\"1\" class=\"dataframe\">\n",
       "  <thead>\n",
       "    <tr style=\"text-align: right;\">\n",
       "      <th></th>\n",
       "      <th>ticker</th>\n",
       "      <th>name</th>\n",
       "      <th>type</th>\n",
       "      <th>weight</th>\n",
       "      <th>returns</th>\n",
       "    </tr>\n",
       "  </thead>\n",
       "  <tbody>\n",
       "    <tr>\n",
       "      <td>0</td>\n",
       "      <td>^FTM</td>\n",
       "      <td>FTSE 250</td>\n",
       "      <td>index</td>\n",
       "      <td>0.1</td>\n",
       "      <td>1.704453</td>\n",
       "    </tr>\n",
       "    <tr>\n",
       "      <td>1</td>\n",
       "      <td>VEMAX</td>\n",
       "      <td>Vanguard Emerging Markets</td>\n",
       "      <td>stock</td>\n",
       "      <td>0.8</td>\n",
       "      <td>0.992251</td>\n",
       "    </tr>\n",
       "    <tr>\n",
       "      <td>2</td>\n",
       "      <td>UU.L</td>\n",
       "      <td>United Utilities</td>\n",
       "      <td>stock</td>\n",
       "      <td>0.1</td>\n",
       "      <td>4.001700</td>\n",
       "    </tr>\n",
       "    <tr>\n",
       "      <td>3</td>\n",
       "      <td>BHP.L</td>\n",
       "      <td>BHP Group</td>\n",
       "      <td>stock</td>\n",
       "      <td>0.1</td>\n",
       "      <td>1.556770</td>\n",
       "    </tr>\n",
       "  </tbody>\n",
       "</table>\n",
       "</div>"
      ],
      "text/plain": [
       "  ticker                       name   type  weight   returns\n",
       "0   ^FTM                   FTSE 250  index     0.1  1.704453\n",
       "1  VEMAX  Vanguard Emerging Markets  stock     0.8  0.992251\n",
       "2   UU.L           United Utilities  stock     0.1  4.001700\n",
       "3  BHP.L                  BHP Group  stock     0.1  1.556770"
      ]
     },
     "execution_count": 53,
     "metadata": {},
     "output_type": "execute_result"
    }
   ],
   "source": [
    "portfolio"
   ]
  },
  {
   "cell_type": "code",
   "execution_count": 60,
   "metadata": {},
   "outputs": [
    {
     "name": "stdout",
     "output_type": "stream",
     "text": [
      "1.520093293635971\n",
      "Estimated value of Portfolio in 2060 : £1,520.09 \n",
      "Expected Portfolio Return: 152.01%\n",
      "Estimated Income £60.80\n"
     ]
    }
   ],
   "source": [
    "\n",
    "def get_expected_portfolio_return(porfolio):\n",
    "    return np.sum(portfolio['weight'] * porfolio['returns'])\n",
    "  \n",
    "expected_portfolio_return = get_expected_portfolio_return(portfolio)\n",
    "final_value = expected_portfolio_return * PORTFOLIO_VALUE\n",
    "\n",
    "print('Estimated value of Portfolio in {} : £{:,.2f} \\nExpected Portfolio Return: {:,.2f}%'.format(datetime.now().year + YEARS, final_value, expected_portfolio_return * 100))   \n",
    "\n",
    "# the income we can expect from it (using the 4% drawdown rule). \n",
    "print('Estimated Income £{:,.2f}'.format(final_value * 0.04))"
   ]
  },
  {
   "cell_type": "code",
   "execution_count": 10,
   "metadata": {},
   "outputs": [
    {
     "data": {
      "text/plain": [
       "array([[-1.62556935, -0.35702068],\n",
       "       [-1.43228425,  0.14106065],\n",
       "       [ 1.16846513,  0.80822364],\n",
       "       [-1.19204524,  0.88260446]])"
      ]
     },
     "execution_count": 10,
     "metadata": {},
     "output_type": "execute_result"
    }
   ],
   "source": [
    "norm.ppf(np.random.rand(4, 2))"
   ]
  },
  {
   "cell_type": "code",
   "execution_count": null,
   "metadata": {},
   "outputs": [],
   "source": []
  },
  {
   "cell_type": "code",
   "execution_count": null,
   "metadata": {},
   "outputs": [],
   "source": []
  }
 ],
 "metadata": {
  "kernelspec": {
   "display_name": "Python 3",
   "language": "python",
   "name": "python3"
  },
  "language_info": {
   "codemirror_mode": {
    "name": "ipython",
    "version": 3
   },
   "file_extension": ".py",
   "mimetype": "text/x-python",
   "name": "python",
   "nbconvert_exporter": "python",
   "pygments_lexer": "ipython3",
   "version": "3.7.4"
  }
 },
 "nbformat": 4,
 "nbformat_minor": 4
}
