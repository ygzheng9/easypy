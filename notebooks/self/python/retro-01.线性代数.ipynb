{
 "cells": [
  {
   "cell_type": "code",
   "execution_count": 108,
   "metadata": {},
   "outputs": [],
   "source": [
    "# 代码自动完成提示 tab 键\n",
    "%config IPCompleter.greedy=True\n",
    "\n",
    "# 一个 cell 可以多行输出\n",
    "from IPython.core.interactiveshell import InteractiveShell\n",
    "InteractiveShell.ast_node_interactivity = \"all\" "
   ]
  },
  {
   "cell_type": "code",
   "execution_count": null,
   "metadata": {},
   "outputs": [],
   "source": [
    "# vector, 向量，列向量，即使是矩阵的行，也是显示成列向量；\n",
    "# matrix 按行，按列，对角阵，单位阵，全是 1 的矩阵；\n",
    "\n",
    "# vector 内积 inner product, dot product，得一个数 scalar\n",
    "# vector * vector\n",
    "\n",
    "# 列的线性组合\n",
    "# matrix * vector \n",
    "# matrix * matrix\n",
    "\n",
    "# vector 和 vector 的外积, 也即：一个列向量，张成矩阵\n",
    "\n",
    "# 向量投影\n",
    "\n",
    "# 解 n 元一次方程，方阵求逆\n",
    "\n",
    "# 特征值，特征向量\n",
    "# SVD 分解\n",
    "\n",
    "# QR 分解\n"
   ]
  },
  {
   "cell_type": "code",
   "execution_count": 34,
   "metadata": {},
   "outputs": [],
   "source": [
    "import numpy as np\n",
    "from scipy import linalg, sparse"
   ]
  },
  {
   "cell_type": "code",
   "execution_count": 2,
   "metadata": {},
   "outputs": [],
   "source": [
    "# 列向量\n",
    "v = np.array([1,2,3])"
   ]
  },
  {
   "cell_type": "code",
   "execution_count": 5,
   "metadata": {},
   "outputs": [
    {
     "data": {
      "text/plain": [
       "array([1, 4, 9])"
      ]
     },
     "execution_count": 5,
     "metadata": {},
     "output_type": "execute_result"
    }
   ],
   "source": [
    "# 对应位置相乘，还是 vector\n",
    "v * v"
   ]
  },
  {
   "cell_type": "code",
   "execution_count": 6,
   "metadata": {},
   "outputs": [
    {
     "data": {
      "text/plain": [
       "14"
      ]
     },
     "execution_count": 6,
     "metadata": {},
     "output_type": "execute_result"
    }
   ],
   "source": [
    "# 向量内积运算，\n",
    "np.dot(v,v)"
   ]
  },
  {
   "cell_type": "code",
   "execution_count": 7,
   "metadata": {},
   "outputs": [
    {
     "data": {
      "text/plain": [
       "14"
      ]
     },
     "execution_count": 7,
     "metadata": {},
     "output_type": "execute_result"
    }
   ],
   "source": [
    "# 手工模拟内积运算\n",
    "sum(v * v)"
   ]
  },
  {
   "cell_type": "code",
   "execution_count": 9,
   "metadata": {},
   "outputs": [
    {
     "data": {
      "text/plain": [
       "array([[1, 2, 3],\n",
       "       [4, 5, 6],\n",
       "       [7, 8, 9]])"
      ]
     },
     "execution_count": 9,
     "metadata": {},
     "output_type": "execute_result"
    }
   ],
   "source": [
    "# 矩阵, 按行\n",
    "M = np.array([[1, 2, 3], [4, 5, 6], [7, 8, 9]])\n",
    "\n",
    "M"
   ]
  },
  {
   "cell_type": "code",
   "execution_count": 10,
   "metadata": {},
   "outputs": [
    {
     "data": {
      "text/plain": [
       "array([14, 32, 50])"
      ]
     },
     "execution_count": 10,
     "metadata": {},
     "output_type": "execute_result"
    }
   ],
   "source": [
    "# 列的线性组合\n",
    "np.dot(M, v)"
   ]
  },
  {
   "cell_type": "code",
   "execution_count": 21,
   "metadata": {},
   "outputs": [
    {
     "data": {
      "text/plain": [
       "array([[1, 0, 0],\n",
       "       [1, 1, 0],\n",
       "       [0, 1, 1]])"
      ]
     },
     "execution_count": 21,
     "metadata": {},
     "output_type": "execute_result"
    }
   ],
   "source": [
    "# 因为是按行创建，但是我们希望是指定列向量，所以在 transpose 一下\n",
    "N = np.array([[1,1,0], [0,1,1], [0,0,1]])\n",
    "N = N.T\n",
    "\n",
    "N"
   ]
  },
  {
   "cell_type": "code",
   "execution_count": 22,
   "metadata": {},
   "outputs": [
    {
     "data": {
      "text/plain": [
       "array([[ 3,  5,  3],\n",
       "       [ 9, 11,  6],\n",
       "       [15, 17,  9]])"
      ]
     },
     "execution_count": 22,
     "metadata": {},
     "output_type": "execute_result"
    }
   ],
   "source": [
    "# 列的线性组合\n",
    "np.dot(M, N)"
   ]
  },
  {
   "cell_type": "code",
   "execution_count": 23,
   "metadata": {},
   "outputs": [
    {
     "data": {
      "text/plain": [
       "array([[ 3,  5,  3],\n",
       "       [ 9, 11,  6],\n",
       "       [15, 17,  9]])"
      ]
     },
     "execution_count": 23,
     "metadata": {},
     "output_type": "execute_result"
    }
   ],
   "source": [
    "# 也是列的线性组合\n",
    "M @ N"
   ]
  },
  {
   "cell_type": "code",
   "execution_count": 32,
   "metadata": {},
   "outputs": [
    {
     "data": {
      "text/plain": [
       "matrix([[1, 2, 3]])"
      ]
     },
     "execution_count": 32,
     "metadata": {},
     "output_type": "execute_result"
    }
   ],
   "source": [
    "# 由一个向量，张成一个矩阵\n",
    "\n",
    "# 向量转成矩阵后，默认是 1*n\n",
    "v_matrix = np.asmatrix(v)\n",
    "v_matrix"
   ]
  },
  {
   "cell_type": "code",
   "execution_count": 33,
   "metadata": {},
   "outputs": [
    {
     "data": {
      "text/plain": [
       "(1, 3)"
      ]
     },
     "execution_count": 33,
     "metadata": {},
     "output_type": "execute_result"
    }
   ],
   "source": [
    "v_matrix.shape"
   ]
  },
  {
   "cell_type": "code",
   "execution_count": 29,
   "metadata": {},
   "outputs": [
    {
     "data": {
      "text/plain": [
       "matrix([[1, 2, 3],\n",
       "        [2, 4, 6],\n",
       "        [3, 6, 9]])"
      ]
     },
     "execution_count": 29,
     "metadata": {},
     "output_type": "execute_result"
    }
   ],
   "source": [
    "# 张成方阵：列向量 * 行向量\n",
    "v_matrix.T @ v_matrix"
   ]
  },
  {
   "cell_type": "code",
   "execution_count": 74,
   "metadata": {},
   "outputs": [
    {
     "data": {
      "text/plain": [
       "array([[ 0, -3, -2],\n",
       "       [ 2,  2,  1],\n",
       "       [ 3,  1,  3]])"
      ]
     },
     "execution_count": 74,
     "metadata": {},
     "output_type": "execute_result"
    }
   ],
   "source": [
    "# 特征值，特征向量\n",
    "A = np.array([[0,2,3], [-3, 2,1], [-2,1,3]]).T\n",
    "\n",
    "A"
   ]
  },
  {
   "cell_type": "code",
   "execution_count": 75,
   "metadata": {},
   "outputs": [],
   "source": [
    "eigVals, eigVects = linalg.eig(A)"
   ]
  },
  {
   "cell_type": "code",
   "execution_count": 76,
   "metadata": {},
   "outputs": [
    {
     "data": {
      "text/plain": [
       "array([1.78554932+2.95111266j, 1.78554932-2.95111266j,\n",
       "       1.42890136+0.j        ])"
      ]
     },
     "execution_count": 76,
     "metadata": {},
     "output_type": "execute_result"
    }
   ],
   "source": [
    "eigVals"
   ]
  },
  {
   "cell_type": "code",
   "execution_count": 77,
   "metadata": {},
   "outputs": [
    {
     "data": {
      "text/plain": [
       "array([[-0.69374688+0.j        , -0.69374688-0.j        ,\n",
       "        -0.30568793+0.j        ],\n",
       "       [ 0.19624857+0.34577512j,  0.19624857-0.34577512j,\n",
       "        -0.42305559+0.j        ],\n",
       "       [ 0.32498679+0.50499992j,  0.32498679-0.50499992j,\n",
       "         0.85298233+0.j        ]])"
      ]
     },
     "execution_count": 77,
     "metadata": {},
     "output_type": "execute_result"
    }
   ],
   "source": [
    "# 这里显示还是按照行向量显示，但是列向量才是特征向量\n",
    "eigVects"
   ]
  },
  {
   "cell_type": "code",
   "execution_count": 96,
   "metadata": {},
   "outputs": [
    {
     "data": {
      "text/plain": [
       "array([-0.69374688+0.j        ,  0.19624857+0.34577512j,\n",
       "        0.32498679+0.50499992j])"
      ]
     },
     "execution_count": 96,
     "metadata": {},
     "output_type": "execute_result"
    }
   ],
   "source": [
    "# 第一个特征向量\n",
    "eigVects[:, 0]"
   ]
  },
  {
   "cell_type": "code",
   "execution_count": 78,
   "metadata": {},
   "outputs": [
    {
     "data": {
      "text/plain": [
       "array([[ 0, -3],\n",
       "       [ 2,  2],\n",
       "       [ 3,  1]])"
      ]
     },
     "execution_count": 78,
     "metadata": {},
     "output_type": "execute_result"
    }
   ],
   "source": [
    "# SVD\n",
    "B = np.array([[0,2,3], [-3, 2,1]]).T\n",
    "\n",
    "B"
   ]
  },
  {
   "cell_type": "code",
   "execution_count": 140,
   "metadata": {},
   "outputs": [
    {
     "data": {
      "text/plain": [
       "array([[ 0.48471372,  0.80296442, -0.34684399],\n",
       "       [-0.62402665,  0.03960025, -0.78039897],\n",
       "       [-0.6128975 ,  0.59470998,  0.52026598]])"
      ]
     },
     "execution_count": 140,
     "metadata": {},
     "output_type": "execute_result"
    },
    {
     "data": {
      "text/plain": [
       "array([4.52966162, 2.54600974])"
      ]
     },
     "execution_count": 140,
     "metadata": {},
     "output_type": "execute_result"
    },
    {
     "data": {
      "text/plain": [
       "array([[-0.68145174, -0.73186305],\n",
       "       [ 0.73186305, -0.68145174]])"
      ]
     },
     "execution_count": 140,
     "metadata": {},
     "output_type": "execute_result"
    },
    {
     "data": {
      "text/plain": [
       "array([20.51783442,  6.48216558])"
      ]
     },
     "execution_count": 140,
     "metadata": {},
     "output_type": "execute_result"
    }
   ],
   "source": [
    "# 返回值是 vt，不是 v\n",
    "# s 是 vector，而不是对角阵\n",
    "u, s, vt = linalg.svd(B)\n",
    "\n",
    "u\n",
    "s\n",
    "vt\n",
    "\n",
    "# 和手工计算结果比对用\n",
    "s * s"
   ]
  },
  {
   "cell_type": "code",
   "execution_count": 144,
   "metadata": {},
   "outputs": [
    {
     "data": {
      "text/plain": [
       "array([[13,  7],\n",
       "       [ 7, 14]])"
      ]
     },
     "execution_count": 144,
     "metadata": {},
     "output_type": "execute_result"
    },
    {
     "data": {
      "text/plain": [
       "array([[13,  7],\n",
       "       [ 7, 14]])"
      ]
     },
     "execution_count": 144,
     "metadata": {},
     "output_type": "execute_result"
    },
    {
     "data": {
      "text/plain": [
       "array([ 6.48216558+0.j, 20.51783442+0.j])"
      ]
     },
     "execution_count": 144,
     "metadata": {},
     "output_type": "execute_result"
    },
    {
     "data": {
      "text/plain": [
       "array([[-0.73186305,  0.68145174],\n",
       "       [-0.68145174, -0.73186305]])"
      ]
     },
     "execution_count": 144,
     "metadata": {},
     "output_type": "execute_result"
    }
   ],
   "source": [
    "# 手工计算 svd\n",
    "C = B.T @ B\n",
    "C\n",
    "\n",
    "# 第二种写法\n",
    "np.dot(B.T, B)\n",
    "\n",
    "eigVals, eigVects = linalg.eig(C)\n",
    "\n",
    "# 是 svd 返回的 s 的平方，但是没有按大小排列\n",
    "eigVals\n",
    "\n",
    "# 和 svd 中返回的 vt 一致，注意：\n",
    "# 1. svd 是按照特征值从大到小返回，但是 eig 返回的不是，所以顺序不同；\n",
    "# 2. 向量各分量值差一个负号，其实是一样的；\n",
    "eigVects.T"
   ]
  },
  {
   "cell_type": "code",
   "execution_count": 153,
   "metadata": {},
   "outputs": [
    {
     "data": {
      "text/plain": [
       "array([ 6.48216558+0.j, 20.51783442+0.j])"
      ]
     },
     "execution_count": 153,
     "metadata": {},
     "output_type": "execute_result"
    },
    {
     "data": {
      "text/plain": [
       "array([20.51783442+0.j,  6.48216558+0.j])"
      ]
     },
     "execution_count": 153,
     "metadata": {},
     "output_type": "execute_result"
    },
    {
     "data": {
      "text/plain": [
       "array([[-0.68145174, -0.73186305],\n",
       "       [-0.73186305,  0.68145174]])"
      ]
     },
     "execution_count": 153,
     "metadata": {},
     "output_type": "execute_result"
    }
   ],
   "source": [
    "# 由于 eigValus 不是从大到小排序，这里排一下序\n",
    "# 从大到小排序，返回的 index的 array，但是可以直接当下标用\n",
    "eigVals\n",
    "\n",
    "idx = np.argsort(eigVals)[::-1]\n",
    "\n",
    "# 和 svd 的结果，顺序就一致了\n",
    "eigVals[idx]\n",
    "eigVects[:, idx]"
   ]
  },
  {
   "cell_type": "code",
   "execution_count": 100,
   "metadata": {},
   "outputs": [
    {
     "data": {
      "text/plain": [
       "array([[4.52966162, 0.        ],\n",
       "       [0.        , 2.54600974],\n",
       "       [0.        , 0.        ]])"
      ]
     },
     "execution_count": 100,
     "metadata": {},
     "output_type": "execute_result"
    }
   ],
   "source": [
    "# 还原回去\n",
    "# 由于 s 是 vector，需要变成 3 * 2 的矩阵，先做对角阵，然后再增加全零行\n",
    "s_matrix = np.diag(s)\n",
    "\n",
    "s_matrix = np.vstack([s_matrix, np.array([0, 0])])\n",
    "s_matrix"
   ]
  },
  {
   "cell_type": "code",
   "execution_count": 102,
   "metadata": {},
   "outputs": [
    {
     "data": {
      "text/plain": [
       "array([[-3.87898743e-17, -3.00000000e+00],\n",
       "       [ 2.00000000e+00,  2.00000000e+00],\n",
       "       [ 3.00000000e+00,  1.00000000e+00]])"
      ]
     },
     "execution_count": 102,
     "metadata": {},
     "output_type": "execute_result"
    }
   ],
   "source": [
    "# 矩阵乘法\n",
    "u @ s_matrix @ vt"
   ]
  },
  {
   "cell_type": "code",
   "execution_count": 109,
   "metadata": {},
   "outputs": [
    {
     "data": {
      "text/plain": [
       "array([[-0.68145174,  0.73186305],\n",
       "       [-0.73186305, -0.68145174]])"
      ]
     },
     "execution_count": 109,
     "metadata": {},
     "output_type": "execute_result"
    },
    {
     "data": {
      "text/plain": [
       "array([-0.68145174,  0.73186305])"
      ]
     },
     "execution_count": 109,
     "metadata": {},
     "output_type": "execute_result"
    },
    {
     "data": {
      "text/plain": [
       "array([-0.68145174, -0.73186305])"
      ]
     },
     "execution_count": 109,
     "metadata": {},
     "output_type": "execute_result"
    }
   ],
   "source": [
    "v = vt.T\n",
    "\n",
    "v\n",
    "\n",
    "# 这是第一行，而不是第一列\n",
    "v[0]\n",
    "\n",
    "# 第一列\n",
    "v[:, 0]"
   ]
  },
  {
   "cell_type": "code",
   "execution_count": 121,
   "metadata": {},
   "outputs": [
    {
     "data": {
      "text/plain": [
       "matrix([[-0.68145174,  0.73186305],\n",
       "        [-0.73186305, -0.68145174]])"
      ]
     },
     "execution_count": 121,
     "metadata": {},
     "output_type": "execute_result"
    },
    {
     "data": {
      "text/plain": [
       "array([[-0.68145174, -0.73186305],\n",
       "       [ 0.73186305, -0.68145174]])"
      ]
     },
     "execution_count": 121,
     "metadata": {},
     "output_type": "execute_result"
    }
   ],
   "source": [
    "# 把多维数组，转成矩阵，  ndarray --> matrix\n",
    "v_matrix = np.asmatrix(v)\n",
    "v_matrix\n",
    "\n",
    "# 矩阵求逆\n",
    "linalg.inv(v_matrix)"
   ]
  },
  {
   "cell_type": "code",
   "execution_count": 124,
   "metadata": {},
   "outputs": [
    {
     "data": {
      "text/plain": [
       "array([-2.14517784, -0.63104043])"
      ]
     },
     "execution_count": 124,
     "metadata": {},
     "output_type": "execute_result"
    }
   ],
   "source": [
    "# 方程组求解\n",
    "linalg.solve(v_matrix, np.array([1,2]))"
   ]
  },
  {
   "cell_type": "code",
   "execution_count": 135,
   "metadata": {},
   "outputs": [
    {
     "data": {
      "text/plain": [
       "0.0"
      ]
     },
     "execution_count": 135,
     "metadata": {},
     "output_type": "execute_result"
    },
    {
     "data": {
      "text/plain": [
       "0.0"
      ]
     },
     "execution_count": 135,
     "metadata": {},
     "output_type": "execute_result"
    },
    {
     "data": {
      "text/plain": [
       "1.0"
      ]
     },
     "execution_count": 135,
     "metadata": {},
     "output_type": "execute_result"
    },
    {
     "data": {
      "text/plain": [
       "array([-0.68145174, -0.73186305])"
      ]
     },
     "execution_count": 135,
     "metadata": {},
     "output_type": "execute_result"
    },
    {
     "data": {
      "text/plain": [
       "array([[0.46437648, 0.49872935],\n",
       "       [0.49872935, 0.53562352]])"
      ]
     },
     "execution_count": 135,
     "metadata": {},
     "output_type": "execute_result"
    },
    {
     "data": {
      "text/plain": [
       "0.46437647394902754"
      ]
     },
     "execution_count": 135,
     "metadata": {},
     "output_type": "execute_result"
    },
    {
     "data": {
      "text/plain": [
       "0.49872934886420695"
      ]
     },
     "execution_count": 135,
     "metadata": {},
     "output_type": "execute_result"
    }
   ],
   "source": [
    "v1 = v[:, 0]\n",
    "v2 = v[:, 1]\n",
    "\n",
    "# 正交 内积\n",
    "np.dot(v1, v2)\n",
    "# 也是 内积\n",
    "np.inner(v1, v2)\n",
    "\n",
    "# 模长 1\n",
    "np.inner(v1, v1)\n",
    "\n",
    "# 向量张开 \n",
    "v1\n",
    "np.outer(v1, v1)\n",
    "\n",
    "-0.68145174 * -0.68145174\n",
    "-0.68145174 * -0.73186305"
   ]
  },
  {
   "cell_type": "code",
   "execution_count": 162,
   "metadata": {},
   "outputs": [
    {
     "data": {
      "text/plain": [
       "array([[ 0, -3],\n",
       "       [ 2,  2],\n",
       "       [ 3,  1]])"
      ]
     },
     "execution_count": 162,
     "metadata": {},
     "output_type": "execute_result"
    },
    {
     "data": {
      "text/plain": [
       "array([[ 0.        ,  0.93792284, -0.34684399],\n",
       "       [-0.5547002 , -0.28859164, -0.78039897],\n",
       "       [-0.83205029,  0.19239443,  0.52026598]])"
      ]
     },
     "execution_count": 162,
     "metadata": {},
     "output_type": "execute_result"
    },
    {
     "data": {
      "text/plain": [
       "-1.942890293094024e-16"
      ]
     },
     "execution_count": 162,
     "metadata": {},
     "output_type": "execute_result"
    },
    {
     "data": {
      "text/plain": [
       "6.938893903907228e-17"
      ]
     },
     "execution_count": 162,
     "metadata": {},
     "output_type": "execute_result"
    },
    {
     "data": {
      "text/plain": [
       "-5.551115123125783e-17"
      ]
     },
     "execution_count": 162,
     "metadata": {},
     "output_type": "execute_result"
    },
    {
     "data": {
      "text/plain": [
       "1.0"
      ]
     },
     "execution_count": 162,
     "metadata": {},
     "output_type": "execute_result"
    },
    {
     "data": {
      "text/plain": [
       "array([[-3.60555128, -1.94145069],\n",
       "       [ 0.        , -3.19855737],\n",
       "       [ 0.        ,  0.        ]])"
      ]
     },
     "execution_count": 162,
     "metadata": {},
     "output_type": "execute_result"
    }
   ],
   "source": [
    "B\n",
    "\n",
    "q, r = linalg.qr(B)\n",
    "\n",
    "q\n",
    "\n",
    "# q 的列向量，正交，且单位化\n",
    "np.dot(q[:, 0], q[:, 1])\n",
    "np.dot(q[:, 2], q[:, 1])\n",
    "np.dot(q[:, 2], q[:, 0])\n",
    "\n",
    "np.dot(q[:, 0], q[:, 0])\n",
    "\n",
    "\n",
    "# r 的列向量，是 q 列向量的线性组合，结果是 B 的一个列，也即：B 的一列，在 q 下的坐标\n",
    "r"
   ]
  },
  {
   "cell_type": "code",
   "execution_count": 169,
   "metadata": {},
   "outputs": [
    {
     "data": {
      "text/plain": [
       "array([1, 2, 3, 4])"
      ]
     },
     "execution_count": 169,
     "metadata": {},
     "output_type": "execute_result"
    },
    {
     "data": {
      "text/plain": [
       "array([3, 0, 2, 1])"
      ]
     },
     "execution_count": 169,
     "metadata": {},
     "output_type": "execute_result"
    },
    {
     "data": {
      "text/plain": [
       "array([4, 3, 2, 1])"
      ]
     },
     "execution_count": 169,
     "metadata": {},
     "output_type": "execute_result"
    },
    {
     "data": {
      "text/plain": [
       "array([1, 2, 0, 3])"
      ]
     },
     "execution_count": 169,
     "metadata": {},
     "output_type": "execute_result"
    }
   ],
   "source": [
    "a = np.array([2,4,3,1])\n",
    "# 从小到大排序\n",
    "np.sort(a)\n",
    "np.argsort(a)\n",
    "\n",
    "\n",
    "# 从大到小排序\n",
    "np.sort(a)[::-1]\n",
    "np.argsort(a)[::-1]"
   ]
  },
  {
   "cell_type": "code",
   "execution_count": null,
   "metadata": {},
   "outputs": [],
   "source": []
  }
 ],
 "metadata": {
  "kernelspec": {
   "display_name": "Python 3",
   "language": "python",
   "name": "python3"
  },
  "language_info": {
   "codemirror_mode": {
    "name": "ipython",
    "version": 3
   },
   "file_extension": ".py",
   "mimetype": "text/x-python",
   "name": "python",
   "nbconvert_exporter": "python",
   "pygments_lexer": "ipython3",
   "version": "3.7.4"
  }
 },
 "nbformat": 4,
 "nbformat_minor": 2
}
