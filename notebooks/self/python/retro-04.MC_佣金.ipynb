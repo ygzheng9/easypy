{
 "cells": [
  {
   "cell_type": "markdown",
   "metadata": {},
   "source": [
    "## https://pbpython.com/monte-carlo.html"
   ]
  },
  {
   "cell_type": "markdown",
   "metadata": {},
   "source": [
    "### There are two components to running a Monte Carlo simulation:\n",
    "\n",
    "+ the equation to evaluate\n",
    "+ the random variables for the input"
   ]
  },
  {
   "cell_type": "code",
   "execution_count": 1,
   "metadata": {},
   "outputs": [],
   "source": [
    "import pandas as pd\n",
    "import numpy as np\n",
    "import seaborn as sns\n",
    "\n"
   ]
  },
  {
   "cell_type": "code",
   "execution_count": null,
   "metadata": {},
   "outputs": [],
   "source": [
    "sns.set_style('whitegrid')"
   ]
  },
  {
   "cell_type": "code",
   "execution_count": 2,
   "metadata": {},
   "outputs": [],
   "source": [
    "## create random samples based on a predefined distribution.\n",
    "\n",
    "## As described above, we know that our historical percent to target performance is centered around a a mean of 100% and standard deviation of 10%.\n",
    "\n",
    "avg = 1\n",
    "std_dev = .1\n",
    "num_reps = 500\n",
    "num_simulations = 1000"
   ]
  },
  {
   "cell_type": "code",
   "execution_count": 3,
   "metadata": {},
   "outputs": [],
   "source": [
    "# 生成随机数（符合某种概率分布，这里是正态）\n",
    "pct_to_target = np.random.normal(avg, std_dev, num_reps).round(2)"
   ]
  },
  {
   "cell_type": "code",
   "execution_count": 6,
   "metadata": {},
   "outputs": [],
   "source": [
    "# 如果不是正态分布，而是柱状图分布，则使用 choice\n",
    "sales_target_values = [75_000, 100_000, 200_000, 300_000, 400_000, 500_000]\n",
    "sales_target_prob = [.3, .3, .2, .1, .05, .05]\n",
    "sales_target = np.random.choice(sales_target_values, num_reps, p=sales_target_prob)"
   ]
  },
  {
   "cell_type": "code",
   "execution_count": 8,
   "metadata": {},
   "outputs": [],
   "source": [
    "df = pd.DataFrame(index=range(num_reps), data={'Pct_To_Target': pct_to_target,\n",
    "                                               'Sales_Target': sales_target})\n",
    "\n",
    "df['Sales'] = df['Pct_To_Target'] * df['Sales_Target']"
   ]
  },
  {
   "cell_type": "code",
   "execution_count": 16,
   "metadata": {},
   "outputs": [
    {
     "data": {
      "text/plain": [
       "<matplotlib.axes._subplots.AxesSubplot at 0x1180b5810>"
      ]
     },
     "execution_count": 16,
     "metadata": {},
     "output_type": "execute_result"
    },
    {
     "data": {
      "image/png": "[encoded data removed]",
      "text/plain": [
       "<Figure size 432x288 with 1 Axes>"
      ]
     },
     "metadata": {
      "needs_background": "light"
     },
     "output_type": "display_data"
    }
   ],
   "source": [
    "# Simple histogram to confirm distribution looks as expected\n",
    "df['Pct_To_Target'].plot(kind='hist', title='Historical % to Target Distribution')"
   ]
  },
  {
   "cell_type": "code",
   "execution_count": 17,
   "metadata": {},
   "outputs": [
    {
     "data": {
      "text/plain": [
       "<matplotlib.axes._subplots.AxesSubplot at 0x1182e7690>"
      ]
     },
     "execution_count": 17,
     "metadata": {},
     "output_type": "execute_result"
    },
    {
     "data": {
      "image/png": "[encoded data removed]",
      "text/plain": [
       "<Figure size 432x288 with 1 Axes>"
      ]
     },
     "metadata": {
      "needs_background": "light"
     },
     "output_type": "display_data"
    }
   ],
   "source": [
    "# Look at the sales target distribution\n",
    "df['Sales_Target'].plot(kind='hist', title='Historical Sales Target Distribution')"
   ]
  },
  {
   "cell_type": "code",
   "execution_count": 10,
   "metadata": {},
   "outputs": [],
   "source": [
    "def calc_commission_rate(x):\n",
    "    \"\"\" Return the commission rate based on the table:\n",
    "    0-90% = 2%\n",
    "    91-99% = 3%\n",
    "    >= 100 = 4%\n",
    "    \"\"\"\n",
    "    if x <= .90:\n",
    "        return .02\n",
    "    if x <= .99:\n",
    "        return .03\n",
    "    else:\n",
    "        return .04"
   ]
  },
  {
   "cell_type": "code",
   "execution_count": 11,
   "metadata": {},
   "outputs": [],
   "source": [
    "df['Commission_Rate'] = df['Pct_To_Target'].apply(calc_commission_rate)\n",
    "df['Commission_Amount'] = df['Commission_Rate'] * df['Sales']"
   ]
  },
  {
   "cell_type": "code",
   "execution_count": 13,
   "metadata": {},
   "outputs": [],
   "source": [
    "# 记录每次循环的结果，每个元素是一个 数组，有三个元素\n",
    "# Define a list to keep all the results from each simulation that we want to analyze\n",
    "all_stats = []\n",
    "\n",
    "# Loop through many simulations\n",
    "for i in range(num_simulations):\n",
    "    # 每次循环，生成随机数，也即：模型的参数\n",
    "    # Choose random inputs for the sales targets and percent to target\n",
    "    sales_target = np.random.choice(sales_target_values, num_reps, p=sales_target_prob)\n",
    "    pct_to_target = np.random.normal(avg, std_dev, num_reps).round(2)\n",
    "\n",
    "    # Build the dataframe based on the inputs and number of reps\n",
    "    df = pd.DataFrame(index=range(num_reps), data={'Pct_To_Target': pct_to_target,\n",
    "                                                   'Sales_Target': sales_target})\n",
    "\n",
    "    # 设置模型的逻辑：根据模型的参数，计算其他值；\n",
    "    # Back into the sales number using the percent to target rate\n",
    "    df['Sales'] = df['Pct_To_Target'] * df['Sales_Target']\n",
    "\n",
    "    # Determine the commissions rate and calculate it\n",
    "    df['Commission_Rate'] = df['Pct_To_Target'].apply(calc_commission_rate)\n",
    "    df['Commission_Amount'] = df['Commission_Rate'] * df['Sales']\n",
    "\n",
    "    # We want to track sales,commission amounts and sales targets over all the simulations\n",
    "    all_stats.append([df['Sales'].sum().round(0),\n",
    "                      df['Commission_Amount'].sum().round(0),\n",
    "                      df['Sales_Target'].sum().round(0)])"
   ]
  },
  {
   "cell_type": "code",
   "execution_count": 14,
   "metadata": {},
   "outputs": [],
   "source": [
    "results_df = pd.DataFrame.from_records(all_stats, columns=['Sales',\n",
    "                                                           'Commission_Amount',\n",
    "                                                           'Sales_Target'])"
   ]
  },
  {
   "cell_type": "code",
   "execution_count": 20,
   "metadata": {},
   "outputs": [
    {
     "data": {
      "text/html": [
       "<style  type=\"text/css\" >\n",
       "</style><table id=\"T_5d88b2c2_7020_11ea_9d82_8c85908f0b60\" ><thead>    <tr>        <th class=\"blank level0\" ></th>        <th class=\"col_heading level0 col0\" >Sales</th>        <th class=\"col_heading level0 col1\" >Commission_Amount</th>        <th class=\"col_heading level0 col2\" >Sales_Target</th>    </tr></thead><tbody>\n",
       "                <tr>\n",
       "                        <th id=\"T_5d88b2c2_7020_11ea_9d82_8c85908f0b60level0_row0\" class=\"row_heading level0 row0\" >count</th>\n",
       "                        <td id=\"T_5d88b2c2_7020_11ea_9d82_8c85908f0b60row0_col0\" class=\"data row0 col0\" >1,000.0</td>\n",
       "                        <td id=\"T_5d88b2c2_7020_11ea_9d82_8c85908f0b60row0_col1\" class=\"data row0 col1\" >1,000.0</td>\n",
       "                        <td id=\"T_5d88b2c2_7020_11ea_9d82_8c85908f0b60row0_col2\" class=\"data row0 col2\" >1,000.0</td>\n",
       "            </tr>\n",
       "            <tr>\n",
       "                        <th id=\"T_5d88b2c2_7020_11ea_9d82_8c85908f0b60level0_row1\" class=\"row_heading level0 row1\" >mean</th>\n",
       "                        <td id=\"T_5d88b2c2_7020_11ea_9d82_8c85908f0b60row1_col0\" class=\"data row1 col0\" >83,626,861.0</td>\n",
       "                        <td id=\"T_5d88b2c2_7020_11ea_9d82_8c85908f0b60row1_col1\" class=\"data row1 col1\" >2,855,204.0</td>\n",
       "                        <td id=\"T_5d88b2c2_7020_11ea_9d82_8c85908f0b60row1_col2\" class=\"data row1 col2\" >83,623,050.0</td>\n",
       "            </tr>\n",
       "            <tr>\n",
       "                        <th id=\"T_5d88b2c2_7020_11ea_9d82_8c85908f0b60level0_row2\" class=\"row_heading level0 row2\" >std</th>\n",
       "                        <td id=\"T_5d88b2c2_7020_11ea_9d82_8c85908f0b60row2_col0\" class=\"data row2 col0\" >2,726,758.0</td>\n",
       "                        <td id=\"T_5d88b2c2_7020_11ea_9d82_8c85908f0b60row2_col1\" class=\"data row2 col1\" >103,207.0</td>\n",
       "                        <td id=\"T_5d88b2c2_7020_11ea_9d82_8c85908f0b60row2_col2\" class=\"data row2 col2\" >2,691,248.0</td>\n",
       "            </tr>\n",
       "            <tr>\n",
       "                        <th id=\"T_5d88b2c2_7020_11ea_9d82_8c85908f0b60level0_row3\" class=\"row_heading level0 row3\" >min</th>\n",
       "                        <td id=\"T_5d88b2c2_7020_11ea_9d82_8c85908f0b60row3_col0\" class=\"data row3 col0\" >74,732,500.0</td>\n",
       "                        <td id=\"T_5d88b2c2_7020_11ea_9d82_8c85908f0b60row3_col1\" class=\"data row3 col1\" >2,519,732.0</td>\n",
       "                        <td id=\"T_5d88b2c2_7020_11ea_9d82_8c85908f0b60row3_col2\" class=\"data row3 col2\" >75,075,000.0</td>\n",
       "            </tr>\n",
       "            <tr>\n",
       "                        <th id=\"T_5d88b2c2_7020_11ea_9d82_8c85908f0b60level0_row4\" class=\"row_heading level0 row4\" >25%</th>\n",
       "                        <td id=\"T_5d88b2c2_7020_11ea_9d82_8c85908f0b60row4_col0\" class=\"data row4 col0\" >81,799,312.0</td>\n",
       "                        <td id=\"T_5d88b2c2_7020_11ea_9d82_8c85908f0b60row4_col1\" class=\"data row4 col1\" >2,782,624.0</td>\n",
       "                        <td id=\"T_5d88b2c2_7020_11ea_9d82_8c85908f0b60row4_col2\" class=\"data row4 col2\" >81,825,000.0</td>\n",
       "            </tr>\n",
       "            <tr>\n",
       "                        <th id=\"T_5d88b2c2_7020_11ea_9d82_8c85908f0b60level0_row5\" class=\"row_heading level0 row5\" >50%</th>\n",
       "                        <td id=\"T_5d88b2c2_7020_11ea_9d82_8c85908f0b60row5_col0\" class=\"data row5 col0\" >83,572,625.0</td>\n",
       "                        <td id=\"T_5d88b2c2_7020_11ea_9d82_8c85908f0b60row5_col1\" class=\"data row5 col1\" >2,852,488.0</td>\n",
       "                        <td id=\"T_5d88b2c2_7020_11ea_9d82_8c85908f0b60row5_col2\" class=\"data row5 col2\" >83,650,000.0</td>\n",
       "            </tr>\n",
       "            <tr>\n",
       "                        <th id=\"T_5d88b2c2_7020_11ea_9d82_8c85908f0b60level0_row6\" class=\"row_heading level0 row6\" >75%</th>\n",
       "                        <td id=\"T_5d88b2c2_7020_11ea_9d82_8c85908f0b60row6_col0\" class=\"data row6 col0\" >85,284,688.0</td>\n",
       "                        <td id=\"T_5d88b2c2_7020_11ea_9d82_8c85908f0b60row6_col1\" class=\"data row6 col1\" >2,924,539.0</td>\n",
       "                        <td id=\"T_5d88b2c2_7020_11ea_9d82_8c85908f0b60row6_col2\" class=\"data row6 col2\" >85,400,000.0</td>\n",
       "            </tr>\n",
       "            <tr>\n",
       "                        <th id=\"T_5d88b2c2_7020_11ea_9d82_8c85908f0b60level0_row7\" class=\"row_heading level0 row7\" >max</th>\n",
       "                        <td id=\"T_5d88b2c2_7020_11ea_9d82_8c85908f0b60row7_col0\" class=\"data row7 col0\" >92,739,500.0</td>\n",
       "                        <td id=\"T_5d88b2c2_7020_11ea_9d82_8c85908f0b60row7_col1\" class=\"data row7 col1\" >3,194,218.0</td>\n",
       "                        <td id=\"T_5d88b2c2_7020_11ea_9d82_8c85908f0b60row7_col2\" class=\"data row7 col2\" >93,050,000.0</td>\n",
       "            </tr>\n",
       "    </tbody></table>"
      ],
      "text/plain": [
       "<pandas.io.formats.style.Styler at 0x118252810>"
      ]
     },
     "execution_count": 20,
     "metadata": {},
     "output_type": "execute_result"
    }
   ],
   "source": [
    "results_df.describe().round(0).style.format('{:,}')"
   ]
  },
  {
   "cell_type": "code",
   "execution_count": 21,
   "metadata": {},
   "outputs": [
    {
     "data": {
      "text/plain": [
       "<matplotlib.axes._subplots.AxesSubplot at 0x1181ef2d0>"
      ]
     },
     "execution_count": 21,
     "metadata": {},
     "output_type": "execute_result"
    },
    {
     "data": {
      "image/png": "[encoded data removed]",
      "text/plain": [
       "<Figure size 432x288 with 1 Axes>"
      ]
     },
     "metadata": {
      "needs_background": "light"
     },
     "output_type": "display_data"
    }
   ],
   "source": [
    "results_df['Commission_Amount'].plot(kind='hist', title=\"Total Commission Amount\")"
   ]
  },
  {
   "cell_type": "code",
   "execution_count": 22,
   "metadata": {},
   "outputs": [
    {
     "data": {
      "text/plain": [
       "<matplotlib.axes._subplots.AxesSubplot at 0x1185af710>"
      ]
     },
     "execution_count": 22,
     "metadata": {},
     "output_type": "execute_result"
    },
    {
     "data": {
      "image/png": "[encoded data removed]",
      "text/plain": [
       "<Figure size 432x288 with 1 Axes>"
      ]
     },
     "metadata": {
      "needs_background": "light"
     },
     "output_type": "display_data"
    }
   ],
   "source": [
    "results_df['Sales'].plot(kind='hist')"
   ]
  },
  {
   "cell_type": "code",
   "execution_count": null,
   "metadata": {},
   "outputs": [],
   "source": []
  }
 ],
 "metadata": {
  "kernelspec": {
   "display_name": "Python 3",
   "language": "python",
   "name": "python3"
  },
  "language_info": {
   "codemirror_mode": {
    "name": "ipython",
    "version": 3
   },
   "file_extension": ".py",
   "mimetype": "text/x-python",
   "name": "python",
   "nbconvert_exporter": "python",
   "pygments_lexer": "ipython3",
   "version": "3.7.4"
  }
 },
 "nbformat": 4,
 "nbformat_minor": 4
}
