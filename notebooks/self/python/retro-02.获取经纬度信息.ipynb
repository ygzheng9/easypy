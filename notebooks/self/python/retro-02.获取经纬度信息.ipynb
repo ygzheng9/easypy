{
 "cells": [
  {
   "cell_type": "code",
   "execution_count": 1,
   "metadata": {},
   "outputs": [],
   "source": [
    "\n",
    "from urllib import parse\n",
    "from urllib.request import urlopen\n",
    "import json"
   ]
  },
  {
   "cell_type": "code",
   "execution_count": 20,
   "metadata": {},
   "outputs": [],
   "source": [
    "%config InlineBackend.figure_format = 'retina'\n",
    "\n",
    "# 代码自动完成提示 tab 键\n",
    "%config IPCompleter.greedy=True\n",
    "\n",
    "# 一个 cell 可以多行输出\n",
    "from IPython.core.interactiveshell import InteractiveShell\n",
    "InteractiveShell.ast_node_interactivity = \"all\" "
   ]
  },
  {
   "cell_type": "code",
   "execution_count": 21,
   "metadata": {},
   "outputs": [],
   "source": [
    "def get_city_pairs():\n",
    "    pairs = [['上海', '北京'], ['上海', '杭州'], ['上海', '成都'], ['成都', '重庆'],\n",
    "             ['重庆', '上海'], ['上海', '丹阳']]\n",
    "    return pairs\n",
    "\n",
    "\n",
    "def get_pairs_coord(city_pairs):\n",
    "    l = []\n",
    "    for p in city_pairs:\n",
    "        l.append(p[0])\n",
    "        l.append(p[1])\n",
    "    l = list(set(l))\n",
    "\n",
    "    coords = {}\n",
    "    for city in l:\n",
    "        coords[city] = get_coord(city)\n",
    "\n",
    "    coords_pairs = []\n",
    "    for p in city_pairs:\n",
    "        fm = coords[p[0]]\n",
    "        to = coords[p[1]]\n",
    "\n",
    "        pairs = [fm, to]\n",
    "        coords_pairs.append(pairs)\n",
    "\n",
    "    return coords_pairs\n",
    "\n",
    "\n",
    "def get_coord(addr):\n",
    "    # 需填入自己申请应用后生成的ak\n",
    "    ak = 'S0m0FgYzW7CnV8QpTmbGUrqai8g0XgjF'\n",
    "    url = 'http://api.map.baidu.com/geocoding/v3/?address={}&output=json&ak={}'.format(\n",
    "        parse.quote(addr), ak)\n",
    "\n",
    "    req = urlopen(url)\n",
    "    response = req.read().decode()\n",
    "    #将返回的数据转化成json格式\n",
    "    responseJson = json.loads(response)\n",
    "    # 获取经纬度\n",
    "    lng = responseJson.get('result')['location']['lng']\n",
    "    lat = responseJson.get('result')['location']['lat']\n",
    "    return (lng, lat)"
   ]
  },
  {
   "cell_type": "code",
   "execution_count": 22,
   "metadata": {},
   "outputs": [
    {
     "name": "stdout",
     "output_type": "stream",
     "text": [
      "[[(121.48053886017651, 31.235929042252014), (116.4133836971231, 39.910924547299565)], [(121.48053886017651, 31.235929042252014), (120.21551180372168, 30.25308298169347)], [(121.48053886017651, 31.235929042252014), (104.08153351042463, 30.655821878416408)], [(104.08153351042463, 30.655821878416408), (106.55843415537664, 29.568996245338923)], [(106.55843415537664, 29.568996245338923), (121.48053886017651, 31.235929042252014)], [(121.48053886017651, 31.235929042252014), (119.61250060471407, 32.01592027416992)]]\n"
     ]
    }
   ],
   "source": [
    "pairs = get_pairs_coord(get_city_pairs())\n",
    "\n",
    "print(pairs)  "
   ]
  }
 ],
 "metadata": {
  "kernelspec": {
   "display_name": "Python 3",
   "language": "python",
   "name": "python3"
  },
  "language_info": {
   "codemirror_mode": {
    "name": "ipython",
    "version": 3
   },
   "file_extension": ".py",
   "mimetype": "text/x-python",
   "name": "python",
   "nbconvert_exporter": "python",
   "pygments_lexer": "ipython3",
   "version": "3.7.4"
  }
 },
 "nbformat": 4,
 "nbformat_minor": 2
}
