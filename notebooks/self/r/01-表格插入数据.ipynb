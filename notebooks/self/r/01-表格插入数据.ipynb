{
 "cells": [
  {
   "cell_type": "code",
   "execution_count": 1,
   "metadata": {},
   "outputs": [
    {
     "name": "stderr",
     "output_type": "stream",
     "text": [
      "── Attaching packages ─────────────────────────────────────── tidyverse 1.2.1 ──\n",
      "✔ ggplot2 3.1.0       ✔ purrr   0.3.0  \n",
      "✔ tibble  2.0.1       ✔ dplyr   0.8.0.1\n",
      "✔ tidyr   0.8.2       ✔ stringr 1.4.0  \n",
      "✔ readr   1.3.1       ✔ forcats 0.4.0  \n",
      "── Conflicts ────────────────────────────────────────── tidyverse_conflicts() ──\n",
      "✖ dplyr::filter() masks stats::filter()\n",
      "✖ dplyr::lag()    masks stats::lag()\n"
     ]
    }
   ],
   "source": [
    "library(tidyverse)"
   ]
  },
  {
   "cell_type": "markdown",
   "metadata": {},
   "source": [
    "# tibble 是 dataFrame 的现代版，优先使用"
   ]
  },
  {
   "cell_type": "code",
   "execution_count": 2,
   "metadata": {},
   "outputs": [],
   "source": [
    "df <- tibble(x = 1:6, y = 6:1)"
   ]
  },
  {
   "cell_type": "code",
   "execution_count": 3,
   "metadata": {},
   "outputs": [
    {
     "data": {
      "text/html": [
       "<table>\n",
       "<thead><tr><th scope=col>x</th><th scope=col>y</th></tr></thead>\n",
       "<tbody>\n",
       "\t<tr><td>1</td><td>6</td></tr>\n",
       "\t<tr><td>2</td><td>5</td></tr>\n",
       "\t<tr><td>3</td><td>4</td></tr>\n",
       "\t<tr><td>4</td><td>3</td></tr>\n",
       "\t<tr><td>5</td><td>2</td></tr>\n",
       "\t<tr><td>6</td><td>1</td></tr>\n",
       "</tbody>\n",
       "</table>\n"
      ],
      "text/latex": [
       "\\begin{tabular}{r|ll}\n",
       " x & y\\\\\n",
       "\\hline\n",
       "\t 1 & 6\\\\\n",
       "\t 2 & 5\\\\\n",
       "\t 3 & 4\\\\\n",
       "\t 4 & 3\\\\\n",
       "\t 5 & 2\\\\\n",
       "\t 6 & 1\\\\\n",
       "\\end{tabular}\n"
      ],
      "text/markdown": [
       "\n",
       "| x | y |\n",
       "|---|---|\n",
       "| 1 | 6 |\n",
       "| 2 | 5 |\n",
       "| 3 | 4 |\n",
       "| 4 | 3 |\n",
       "| 5 | 2 |\n",
       "| 6 | 1 |\n",
       "\n"
      ],
      "text/plain": [
       "  x y\n",
       "1 1 6\n",
       "2 2 5\n",
       "3 3 4\n",
       "4 4 3\n",
       "5 5 2\n",
       "6 6 1"
      ]
     },
     "metadata": {},
     "output_type": "display_data"
    }
   ],
   "source": [
    "df"
   ]
  },
  {
   "cell_type": "code",
   "execution_count": 6,
   "metadata": {},
   "outputs": [
    {
     "data": {
      "text/html": [
       "<table>\n",
       "<thead><tr><th scope=col>x</th><th scope=col>y</th></tr></thead>\n",
       "<tbody>\n",
       "\t<tr><td>1</td><td>6</td></tr>\n",
       "\t<tr><td>2</td><td>5</td></tr>\n",
       "\t<tr><td>7</td><td>9</td></tr>\n",
       "\t<tr><td>3</td><td>4</td></tr>\n",
       "\t<tr><td>4</td><td>3</td></tr>\n",
       "\t<tr><td>5</td><td>2</td></tr>\n",
       "\t<tr><td>6</td><td>1</td></tr>\n",
       "\t<tr><td>7</td><td>0</td></tr>\n",
       "</tbody>\n",
       "</table>\n"
      ],
      "text/latex": [
       "\\begin{tabular}{r|ll}\n",
       " x & y\\\\\n",
       "\\hline\n",
       "\t 1 & 6\\\\\n",
       "\t 2 & 5\\\\\n",
       "\t 7 & 9\\\\\n",
       "\t 3 & 4\\\\\n",
       "\t 4 & 3\\\\\n",
       "\t 5 & 2\\\\\n",
       "\t 6 & 1\\\\\n",
       "\t 7 & 0\\\\\n",
       "\\end{tabular}\n"
      ],
      "text/markdown": [
       "\n",
       "| x | y |\n",
       "|---|---|\n",
       "| 1 | 6 |\n",
       "| 2 | 5 |\n",
       "| 7 | 9 |\n",
       "| 3 | 4 |\n",
       "| 4 | 3 |\n",
       "| 5 | 2 |\n",
       "| 6 | 1 |\n",
       "| 7 | 0 |\n",
       "\n"
      ],
      "text/plain": [
       "  x y\n",
       "1 1 6\n",
       "2 2 5\n",
       "3 7 9\n",
       "4 3 4\n",
       "5 4 3\n",
       "6 5 2\n",
       "7 6 1\n",
       "8 7 0"
      ]
     },
     "metadata": {},
     "output_type": "display_data"
    }
   ],
   "source": [
    "# 插入行，指定位置插入行\n",
    "df %>%\n",
    "  add_row(x = 7, y = 0) %>%\n",
    "  add_row(x = 7, y = 9, .before = 3)"
   ]
  },
  {
   "cell_type": "code",
   "execution_count": 7,
   "metadata": {},
   "outputs": [
    {
     "data": {
      "text/html": [
       "<table>\n",
       "<thead><tr><th scope=col>x</th><th scope=col>y</th><th scope=col>z</th></tr></thead>\n",
       "<tbody>\n",
       "\t<tr><td>1</td><td>6</td><td>2</td></tr>\n",
       "\t<tr><td>2</td><td>5</td><td>3</td></tr>\n",
       "\t<tr><td>3</td><td>4</td><td>4</td></tr>\n",
       "\t<tr><td>4</td><td>3</td><td>5</td></tr>\n",
       "\t<tr><td>5</td><td>2</td><td>6</td></tr>\n",
       "\t<tr><td>6</td><td>1</td><td>7</td></tr>\n",
       "</tbody>\n",
       "</table>\n"
      ],
      "text/latex": [
       "\\begin{tabular}{r|lll}\n",
       " x & y & z\\\\\n",
       "\\hline\n",
       "\t 1 & 6 & 2\\\\\n",
       "\t 2 & 5 & 3\\\\\n",
       "\t 3 & 4 & 4\\\\\n",
       "\t 4 & 3 & 5\\\\\n",
       "\t 5 & 2 & 6\\\\\n",
       "\t 6 & 1 & 7\\\\\n",
       "\\end{tabular}\n"
      ],
      "text/markdown": [
       "\n",
       "| x | y | z |\n",
       "|---|---|---|\n",
       "| 1 | 6 | 2 |\n",
       "| 2 | 5 | 3 |\n",
       "| 3 | 4 | 4 |\n",
       "| 4 | 3 | 5 |\n",
       "| 5 | 2 | 6 |\n",
       "| 6 | 1 | 7 |\n",
       "\n"
      ],
      "text/plain": [
       "  x y z\n",
       "1 1 6 2\n",
       "2 2 5 3\n",
       "3 3 4 4\n",
       "4 4 3 5\n",
       "5 5 2 6\n",
       "6 6 1 7"
      ]
     },
     "metadata": {},
     "output_type": "display_data"
    }
   ],
   "source": [
    "# 插入列\n",
    "df %>% \n",
    "  add_column(z = 2:7)"
   ]
  },
  {
   "cell_type": "code",
   "execution_count": 8,
   "metadata": {},
   "outputs": [],
   "source": [
    "# 两个表格合并，行、列\n",
    "df1 = tibble(a = 1:2, b = 3:4)\n",
    "df2 = tibble(a = 7:8, b = 9:10)"
   ]
  },
  {
   "cell_type": "code",
   "execution_count": 9,
   "metadata": {},
   "outputs": [
    {
     "data": {
      "text/html": [
       "<table>\n",
       "<thead><tr><th scope=col>a</th><th scope=col>b</th></tr></thead>\n",
       "<tbody>\n",
       "\t<tr><td>1 </td><td> 3</td></tr>\n",
       "\t<tr><td>2 </td><td> 4</td></tr>\n",
       "\t<tr><td>7 </td><td> 9</td></tr>\n",
       "\t<tr><td>8 </td><td>10</td></tr>\n",
       "</tbody>\n",
       "</table>\n"
      ],
      "text/latex": [
       "\\begin{tabular}{r|ll}\n",
       " a & b\\\\\n",
       "\\hline\n",
       "\t 1  &  3\\\\\n",
       "\t 2  &  4\\\\\n",
       "\t 7  &  9\\\\\n",
       "\t 8  & 10\\\\\n",
       "\\end{tabular}\n"
      ],
      "text/markdown": [
       "\n",
       "| a | b |\n",
       "|---|---|\n",
       "| 1  |  3 |\n",
       "| 2  |  4 |\n",
       "| 7  |  9 |\n",
       "| 8  | 10 |\n",
       "\n"
      ],
      "text/plain": [
       "  a b \n",
       "1 1  3\n",
       "2 2  4\n",
       "3 7  9\n",
       "4 8 10"
      ]
     },
     "metadata": {},
     "output_type": "display_data"
    }
   ],
   "source": [
    "df1 %>%\n",
    "  bind_rows(df2)"
   ]
  },
  {
   "cell_type": "code",
   "execution_count": 10,
   "metadata": {},
   "outputs": [
    {
     "data": {
      "text/html": [
       "<table>\n",
       "<thead><tr><th scope=col>a</th><th scope=col>b</th><th scope=col>a1</th><th scope=col>b1</th></tr></thead>\n",
       "<tbody>\n",
       "\t<tr><td>1 </td><td>3 </td><td>7 </td><td> 9</td></tr>\n",
       "\t<tr><td>2 </td><td>4 </td><td>8 </td><td>10</td></tr>\n",
       "</tbody>\n",
       "</table>\n"
      ],
      "text/latex": [
       "\\begin{tabular}{r|llll}\n",
       " a & b & a1 & b1\\\\\n",
       "\\hline\n",
       "\t 1  & 3  & 7  &  9\\\\\n",
       "\t 2  & 4  & 8  & 10\\\\\n",
       "\\end{tabular}\n"
      ],
      "text/markdown": [
       "\n",
       "| a | b | a1 | b1 |\n",
       "|---|---|---|---|\n",
       "| 1  | 3  | 7  |  9 |\n",
       "| 2  | 4  | 8  | 10 |\n",
       "\n"
      ],
      "text/plain": [
       "  a b a1 b1\n",
       "1 1 3 7   9\n",
       "2 2 4 8  10"
      ]
     },
     "metadata": {},
     "output_type": "display_data"
    }
   ],
   "source": [
    "# 列相同的，会加上1/2区分\n",
    "df1 %>%\n",
    "  bind_cols(df2)"
   ]
  },
  {
   "cell_type": "code",
   "execution_count": null,
   "metadata": {},
   "outputs": [],
   "source": []
  }
 ],
 "metadata": {
  "kernelspec": {
   "display_name": "R",
   "language": "R",
   "name": "ir"
  },
  "language_info": {
   "codemirror_mode": "r",
   "file_extension": ".r",
   "mimetype": "text/x-r-source",
   "name": "R",
   "pygments_lexer": "r",
   "version": "3.5.2"
  }
 },
 "nbformat": 4,
 "nbformat_minor": 2
}
