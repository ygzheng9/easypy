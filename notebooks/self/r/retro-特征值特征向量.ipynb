{
 "cells": [
  {
   "cell_type": "code",
   "execution_count": 1,
   "metadata": {},
   "outputs": [
    {
     "data": {
      "text/html": [
       "<table>\n",
       "<tbody>\n",
       "\t<tr><td>13</td><td>-4</td><td> 2</td></tr>\n",
       "\t<tr><td>-4</td><td>11</td><td>-2</td></tr>\n",
       "\t<tr><td> 2</td><td>-2</td><td> 8</td></tr>\n",
       "</tbody>\n",
       "</table>\n"
      ],
      "text/latex": [
       "\\begin{tabular}{lll}\n",
       "\t 13 & -4 &  2\\\\\n",
       "\t -4 & 11 & -2\\\\\n",
       "\t  2 & -2 &  8\\\\\n",
       "\\end{tabular}\n"
      ],
      "text/markdown": [
       "\n",
       "| 13 | -4 |  2 |\n",
       "| -4 | 11 | -2 |\n",
       "|  2 | -2 |  8 |\n",
       "\n"
      ],
      "text/plain": [
       "     [,1] [,2] [,3]\n",
       "[1,] 13   -4    2  \n",
       "[2,] -4   11   -2  \n",
       "[3,]  2   -2    8  "
      ]
     },
     "metadata": {},
     "output_type": "display_data"
    }
   ],
   "source": [
    "# 对阵矩阵的特征值 特征向量\n",
    "\n",
    "A <- matrix(c(13, -4, 2, -4, 11, -2, 2, -2, 8), 3, 3, byrow=TRUE)\n",
    "A\n"
   ]
  },
  {
   "cell_type": "code",
   "execution_count": 3,
   "metadata": {},
   "outputs": [
    {
     "data": {
      "text/plain": [
       "eigen() decomposition\n",
       "$values\n",
       "[1] 17  8  7\n",
       "\n",
       "$vectors\n",
       "           [,1]       [,2]      [,3]\n",
       "[1,]  0.7453560  0.6666667 0.0000000\n",
       "[2,] -0.5962848  0.6666667 0.4472136\n",
       "[3,]  0.2981424 -0.3333333 0.8944272\n"
      ]
     },
     "metadata": {},
     "output_type": "display_data"
    }
   ],
   "source": [
    "# 特征值\n",
    "ev <- eigen(A)\n",
    "ev"
   ]
  },
  {
   "cell_type": "code",
   "execution_count": 13,
   "metadata": {},
   "outputs": [
    {
     "data": {
      "text/html": [
       "<ol class=list-inline>\n",
       "\t<li>0.74535599249993</li>\n",
       "\t<li>-0.596284793999944</li>\n",
       "\t<li>0.298142396999972</li>\n",
       "</ol>\n"
      ],
      "text/latex": [
       "\\begin{enumerate*}\n",
       "\\item 0.74535599249993\n",
       "\\item -0.596284793999944\n",
       "\\item 0.298142396999972\n",
       "\\end{enumerate*}\n"
      ],
      "text/markdown": [
       "1. 0.74535599249993\n",
       "2. -0.596284793999944\n",
       "3. 0.298142396999972\n",
       "\n",
       "\n"
      ],
      "text/plain": [
       "[1]  0.7453560 -0.5962848  0.2981424"
      ]
     },
     "metadata": {},
     "output_type": "display_data"
    }
   ],
   "source": [
    "# 特征向量，第一列 对应的 特征值 是最大的\n",
    "primary <- ev$vectors[,1]"
   ]
  },
  {
   "cell_type": "code",
   "execution_count": 14,
   "metadata": {},
   "outputs": [
    {
     "ename": "ERROR",
     "evalue": "Error in Weights(primary): could not find function \"Weights\"\n",
     "output_type": "error",
     "traceback": [
      "Error in Weights(primary): could not find function \"Weights\"\nTraceback:\n"
     ]
    }
   ],
   "source": [
    "# 求出三个分量的权重\n"
   ]
  },
  {
   "cell_type": "code",
   "execution_count": null,
   "metadata": {},
   "outputs": [],
   "source": []
  }
 ],
 "metadata": {
  "kernelspec": {
   "display_name": "R",
   "language": "R",
   "name": "ir"
  },
  "language_info": {
   "codemirror_mode": "r",
   "file_extension": ".r",
   "mimetype": "text/x-r-source",
   "name": "R",
   "pygments_lexer": "r",
   "version": "3.5.2"
  }
 },
 "nbformat": 4,
 "nbformat_minor": 2
}
