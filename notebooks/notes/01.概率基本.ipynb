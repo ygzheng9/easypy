{
 "cells": [
  {
   "cell_type": "markdown",
   "metadata": {},
   "source": [
    "## 复利\n",
    "1. 本金 100，年利息 100%，按`年`计息，3年后总金额 \n",
    "    $$ S_3 = 100 * \\left(1 + 100 \\%\\right)^3 = 800 $$\n",
    "\n",
    "2. 如果是`半年`计息，那么 \n",
    "    $$ S_3 = 100 * \\left(1 + 50 \\%\\right)^6 \\approx 1139 $$\n",
    "\n",
    "3. 如果是`每个月`计息，那么 \n",
    "    $$ S_3 = 100 * \\left(1 + \\frac{100}{12} \\%  \\right)^{12 * 3} \\approx 1784 $$\n",
    "\n",
    "4. 如果是`每天`计息，那么\n",
    "    $$ S_3 = 100 * \\left(1 + \\frac{100}{365} \\%  \\right)^{365 * 3} \\approx 2000 $$\n",
    "    \n",
    "5. 把时间`无限细分`，那么\n",
    "    $$ S_3 = 100 * \\lim_{n\\to\\infty}  \\left(1 + \\frac{100}{n} \\%  \\right)^{n * 3}  $$\n"
   ]
  },
  {
   "cell_type": "markdown",
   "metadata": {},
   "source": [
    "## $e$ 表示增长率 100 % ，间隔是无限短；\n",
    "\n",
    "$$\n",
    "e = \\lim_{n\\to\\infty} (1 + \\frac{1}{n})^{n} \n",
    "$$"
   ]
  },
  {
   "cell_type": "markdown",
   "metadata": {},
   "source": [
    "\n",
    "$$ \\bbox[yellow,5px]\n",
    "{\n",
    "e^x=\\lim_{n\\to\\infty} \\left( 1+\\frac{x}{n} \\right)^n\n",
    "}\n",
    "$$"
   ]
  },
  {
   "cell_type": "markdown",
   "metadata": {},
   "source": [
    "## $i$ 作为指数表示旋转，纯虚数表示单位圆，只是弧度不同\n",
    "\n",
    "$$\n",
    "e^{i\\theta} = cos(\\theta) + i * sin(\\theta)\n",
    "$$\n",
    "\n",
    "1. $\\theta$ 是 `弧度`，是 角速度 * 时间，也即： $ \\theta = \\omega * t $ , 在应用中，$\\omega$ 一般固定，变动的是 $t$，也即，是 时间的函数；\n",
    "\n",
    "2. 如果指数的底不是 $e$ 通过变换 $ x = e^{lnx} $ 还是可以变成底是 $e$，比如：\n",
    "$$\n",
    "2^{i\\theta} =  (e^{ln2})^{i \\theta} = e^{i*ln2*\\theta} = cos(\\theta *ln2) + i * sin(\\theta * ln2)\n",
    "$$\n",
    "\n",
    "### 欧拉公式\n",
    "\n",
    "$$\n",
    "e^{i\\theta} = cos(\\theta) + i * sin(\\theta)  \\\\[4ex]\n",
    "e^{i * \\pi} = cos(\\pi) + i * sin(\\pi) = -1\n",
    "$$\n",
    "\n",
    "$$ \\bbox[yellow,5px]\n",
    "{\n",
    "e^{i * \\pi}  = -1\n",
    "}\n",
    "$$\n",
    "\n",
    "### 复数表示不是单位圆\n",
    "$$\n",
    "e^{a + b*i} = e^a * e^{i*b} = e^a * (cos(b) + i*sin(b))\n",
    "$$"
   ]
  },
  {
   "cell_type": "markdown",
   "metadata": {},
   "source": [
    "## 指数表示连续作用\n",
    "\n",
    "$$a^x = 1 * a^x = init * {growthRate}^{growTime} $$\n",
    "\n",
    "1. 指数是自然数：$3^2 = 1 * 3^2$ 表示 初始值为1，单位时间增长率 3，增长了 2 个单位时间，最后的值是多少；\n",
    "\n",
    "3. 指数是负数，表示 `时间倒流`, $3^{-2} = \\frac{1}{3^{2}}$ \n"
   ]
  },
  {
   "cell_type": "markdown",
   "metadata": {},
   "source": [
    "$$\n",
    "\\begin{align} \n",
    "3^2 & = 1 * 3^2 \\\\[2ex]\n",
    "3^1 & = 1 * 3^1 \\\\[2ex]\n",
    "3^0 & = 1 * 3^0 \\\\[2ex]\n",
    "3^{2.4} & = 1 * 3^{2.4} \\\\[2ex]\n",
    "3^{-2} & = 1 * \\frac{1}{3^{2}} \\\\[2ex]\n",
    "0^3 &= 1 * 0^3 = 0 \\\\[2ex]\n",
    "0^0 &= 1 * 0^0 = 1\n",
    "\\end{align}\n",
    "$$"
   ]
  },
  {
   "cell_type": "markdown",
   "metadata": {},
   "source": [
    "# $i^i$ 的含义\n",
    "\n",
    "$$\n",
    "\\begin{align}\n",
    "& i^i = (e^{ln(i)})^i \\\\[2ex]\n",
    "& \\Rightarrow ln(i) = x \\\\[2ex] \n",
    "& \\Rightarrow e^x = i  \\\\[2ex]\n",
    "& \\Rightarrow e^{i*\\frac{\\pi}{2}} = cos(\\frac{\\pi}{2}) + i * sin(\\frac{\\pi}{2}) = 0 + i * 1 = i  \\\\[2ex]\n",
    "& \\Rightarrow x = i*\\frac{\\pi}{2} =  ln(i) \\\\[2ex]\n",
    "& i^i = e^{i* i*\\frac{\\pi}{2}} = e^{-\\frac{\\pi}{2}}  \\\\[2ex]\n",
    "\\end{align}\n",
    "$$\n",
    "\n",
    "$$ \\bbox[yellow, 5px]\n",
    "{\n",
    "i^i = e^{-\\frac{\\pi}{2}}\n",
    "}\n",
    "$$"
   ]
  },
  {
   "cell_type": "markdown",
   "metadata": {},
   "source": [
    "## 傅里叶分解：三角函数\n",
    "$\\text{1. 选取的基} $\n",
    "$$\n",
    "\\{ 1, sinx, cosx, sin2x, cos2x, sin3x, con3x, ..., sin(nx), cos(mx) \\}\n",
    "$$ \n"
   ]
  },
  {
   "cell_type": "markdown",
   "metadata": {},
   "source": [
    "$ \\text{2. 这组基的正交性质}  $\n",
    "$$ \n",
    "\\begin{align}\n",
    "\\int_{0}^{2\\pi} 1 * cos(mx) dx & = 0 \\\\\n",
    "\\int_{0}^{2\\pi} 1 * sin(nx) dx & = 0 \\\\\n",
    "\\int_{0}^{2\\pi} cos(mx) * sin(nx) dx & =   \n",
    "\\begin{cases}\n",
    "0, & \\text{if $m$ != $n$} \\\\[4ex]\n",
    "\\pi, & \\text{if $m$ = $n$}\n",
    "\\end{cases}  \n",
    "\\end{align}\n",
    "$$"
   ]
  },
  {
   "cell_type": "markdown",
   "metadata": {},
   "source": [
    "$ \\text{ 3. $cos(nx)$ 的系数 利用 函数内积公式 计算 }  $\n",
    "$$ \n",
    "\\begin{align}\n",
    "\\langle  f(x), cos(nx) \\rangle = & + b_0 * \\langle 1, cos(nx) \\rangle \\\\[2ex] & + b_1 * \\langle cos(x), cos(nx) \\rangle + \\dots + b_n * \\langle cos(nx), cos(nx) \\rangle \\\\[2ex] & + a_1 * \\langle sin(x), cos(nx) \\rangle  + \\dots + a_m * \\langle sin(mx), cos(nx) \\rangle + \\dots  \\\\[2ex]\n",
    "\\end{align}\n",
    "$$"
   ]
  },
  {
   "cell_type": "markdown",
   "metadata": {},
   "source": [
    "$$\n",
    "\\require{enclose}\\begin{array}{rl}\n",
    "\\begin{align}\n",
    "\\langle  f(x), cos(nx) \\rangle = & + \\enclose{updiagonalstrike}{b_0 * \\langle 1, cos(nx) \\rangle} \\\\[2ex] & + \\enclose{updiagonalstrike}{b_1 * \\langle cos(x), cos(nx) \\rangle} + \\dots + b_n * \\langle cos(nx), cos(nx) \\rangle \\\\[2ex] & + \\enclose{updiagonalstrike}{a_1 * \\langle sin(x), cos(nx) \\rangle } + \\dots + \\enclose{updiagonalstrike}{a_m * \\langle sin(mx), cos(nx) \\rangle} + \\dots  \\\\[2ex] \n",
    "\\end{align}\n",
    "\\end{array}\n",
    "$$"
   ]
  },
  {
   "cell_type": "markdown",
   "metadata": {},
   "source": [
    "$$\n",
    "\\begin{align}\n",
    "b_n & = \\frac{\\langle  f(x), cos(nx) \\rangle}{\\langle cos(nx), cos(nx) \\rangle} \\\\[2ex]\n",
    "& = \\frac{1}{\\pi} * \\int_{0}^{2\\pi} f(x) * cos(nx) dx \n",
    "\\end{align}\n",
    "$$"
   ]
  },
  {
   "cell_type": "markdown",
   "metadata": {},
   "source": [
    "## 三角函数 和 复数指数 是一回事\n",
    "$ \\text{1. 选取的基}$\n",
    "$$\n",
    "e^{int}, e^{imt}\n",
    "$$\n",
    "\n",
    "$ \\text{2. 这组基的正交性}$\n",
    "$$\n",
    "\\begin{align}\n",
    "\\langle e^{int}, e^{imt} \\rangle & = \\int_{0}^{\\infty} e^{int} * e^{-imt} dt \\\\[4ex]\n",
    "& = \\int_{0}^{\\infty} e^{i(n - m)t}  dt \\\\[4ex]\n",
    "& = \\int_{0}^{2\\pi} e^{i(n - m)t}  dt   \\longrightarrow \\text{$e^{i*\\omega*t}$ 是周期函数} \\\\[4ex]\n",
    "& = \n",
    "\\begin{cases}\n",
    "0, & \\text{$m \\neq n$} \\\\[4ex]\n",
    "2 \\pi, & \\text{$m = n, t \\in [0, 2\\pi] $}  \n",
    "\\end{cases}\n",
    "\\end{align}\n",
    "$$\n",
    "\n",
    "$ \\text{3. 根据欧拉公式}$\n",
    "$$\n",
    "e^{i\\theta} = cos\\theta + i * sin\\theta\n",
    "$$"
   ]
  },
  {
   "cell_type": "markdown",
   "metadata": {},
   "source": [
    "$ \\text{4. 时域 和 频域 的转换}$\n",
    "$$\n",
    "\\begin{align}\n",
    "f(t) &= \\sum_{\\omega = 0}^{\\infty} F(\\omega) * e^{i \\omega t}  \\longrightarrow \\omega 是变量，是离散的， F(\\omega) 是权重，e^{i \\omega t} 是选取的基 \\\\[4ex]\n",
    "& = \\int_{0}^{\\infty} F(\\omega) * e^{i \\omega t} d\\omega     \\longrightarrow \\omega 由离散变成连续 \\\\[4ex]\n",
    "\\end{align}\n",
    "$$"
   ]
  },
  {
   "cell_type": "markdown",
   "metadata": {},
   "source": [
    "$$\n",
    "\\begin{align}\n",
    "F(\\omega) & = \\frac{\\langle f(x), e^{i \\omega t} \\rangle}{\\langle e^{i \\omega t}, e^{i \\omega t} \\rangle} & \\text{$ \\longrightarrow 此时的 \\omega 是固定的， t 是变量 $} \\\\[4ex]\n",
    "& = \\frac{ \\int_{0}^{\\infty} f(t) * e^{- i \\omega t} dt } { \\int_{0}^{\\infty} e^{ i \\omega t} * e^{- i \\omega t} dt}  & \\text{$ \\longrightarrow 函数内积时，复数要取共轭 $} \\\\[4ex]\n",
    "&= \\frac {1}{2\\pi} * \\int_{0}^{2\\pi} f(t) * e^{- i \\omega t} dt & \\text{$t \\in [0, 2\\pi]$}\n",
    "\\end{align}\n",
    "$$"
   ]
  },
  {
   "cell_type": "markdown",
   "metadata": {},
   "source": [
    "## 拉普拉斯变换\n",
    "\n",
    "1. 任何一个函数，都可以用幂函数来表示；\n",
    "$$\n",
    "\\begin{align}\n",
    "A(x) & = \\sum_{i = 0}^{ \\infty} a_i * x^i  \\longrightarrow 一系列幂函数的相加，有点类似于 泰勒展开  \\\\[4ex]\n",
    "& = \\sum_{i = 0}^{ \\infty} a(i) * x^i  \\longrightarrow 如果将 a_i 看成一组离散的函数数列，可以用 a(i) 来表示 \n",
    "\\end{align}\n",
    "$$"
   ]
  },
  {
   "cell_type": "markdown",
   "metadata": {},
   "source": [
    "2. 当 i 由离散变成连续后，就变成了积分的形式\n",
    "\n",
    "$$\n",
    "\\begin{align}\n",
    "A(x) & = \\int_{0}^{ \\infty} a_i * x^i di  \\longrightarrow 变量是 i，不是 x；i 由 离散 变成连续  \\\\[4ex]\n",
    "& = \\int_{0}^{ \\infty} f(t) * x^t dt \\longrightarrow t 和 i 是同一回事，f(t) 就是 a_i 的另一种写法  \\\\[4ex]\n",
    "& = \\int_{0}^{ \\infty} f(t) * e^{(lnx)*t} dt \\longrightarrow x = e^{lnx}  \\\\[4ex]\n",
    "& = \\int_{0}^{ \\infty} f(t) * e^{-s*t} dt \\longrightarrow s = -ln(x), 且 x \\in [0,1]，即：s \\in (0, +\\infty)\n",
    "\\end{align}\n",
    "$$"
   ]
  },
  {
   "cell_type": "markdown",
   "metadata": {},
   "source": [
    "3. 我们希望函数收敛，也即 $x^i$ 不能无穷大，所以 $x \\in [0,1] $\n",
    "\n",
    "4. 做变量替换，令 $ s = -ln(x) $ 则 $ s \\in (0, +\\infty)$"
   ]
  },
  {
   "cell_type": "markdown",
   "metadata": {},
   "source": [
    "$$\n",
    "\\begin{align}\n",
    "F(s) & = \\int_{0}^{ \\infty} f(t) * e^{-st} dt  \\\\\n",
    "F(s) & = \\mathcal{L}[f(t)]\n",
    "\\end{align}\n",
    "$$"
   ]
  },
  {
   "cell_type": "markdown",
   "metadata": {},
   "source": [
    "5. $A(x)$ 中 $x \\in [0,1]$，在 $F(s)$ 中，$ s = -ln(x) \\rightarrow s \\in (0, + \\infty) $"
   ]
  },
  {
   "cell_type": "markdown",
   "metadata": {},
   "source": [
    "### 补充：\n",
    "1. 当 $ a(i) \\equiv 1$ 时\n",
    "\n",
    "$$ \n",
    "\\begin{align}\n",
    "A(x) & = 1 + x + x^2 + x^3 + \\dots + x^n   \\\\[2ex]\n",
    "& = \\sum_{i=0}^{n}x^n \\\\[2ex]\n",
    "& = \\frac{1}{1-x}, |x| \\le 1\n",
    "\\end{align}\n",
    "$$"
   ]
  },
  {
   "cell_type": "markdown",
   "metadata": {},
   "source": [
    "2. 当 $ a(i) = \\frac{1}{n!} $ 时\n",
    "\n",
    "$$ \n",
    "\\begin{align}\n",
    "A(x) & = 1 + x + \\frac{1}{2!} x^2 + \\frac{1}{3!} x^3 + \\dots + \\frac{1}{n!} x^n   \\\\[2ex]\n",
    "& = e^x  \\longrightarrow x对于任意实数均成立，其实上式就是 e^x 在 x=0 处的泰勒展开\n",
    "\\end{align}\n",
    "$$\n"
   ]
  },
  {
   "cell_type": "markdown",
   "metadata": {},
   "source": [
    "3. 从上面的例子可以看出，取一个定义在正整数或非负的整数上的离散函数 $a(n)$，然后进行加和操作，结果却能够产生一个连续函数。注意其中的离散函数 $a(n)$ 的变量为n，加和得出的结果却是关于变量x。总之，这是幂级数的一种性质，也属于一种离散求和的情况。"
   ]
  },
  {
   "cell_type": "markdown",
   "metadata": {},
   "source": [
    "4. 这里说的是“变换”，其实数学中还有一个概念叫做“算子”，而变换和算子的最本质区别在于，经过“算子”运算，变量没有变，比如微分就是一种典型的算子，而经过“变换”运算则会改变变量的形式。"
   ]
  },
  {
   "cell_type": "markdown",
   "metadata": {},
   "source": [
    "## 傅里叶变换 与 拉普拉斯变换\n",
    "\n",
    "1. 傅里叶变换取频谱到时域的形式\n",
    "$$\n",
    "\\begin{align}\n",
    "F(\\omega) &= \\frac {1}{2\\pi} * \\int_{0}^{2\\pi} f(t) * e^{- i \\omega t} dt & \\text{$t \\in [0, 2\\pi]$} \\\\[2ex]\n",
    "& = \\int_{0}^{2\\pi} g(t) * e^{- i \\omega t} dt & \\text{$g(t) = \\frac{1}{2\\pi} f(x) $ 是一回事} \\\\[2ex]\n",
    "& = \\int_{-\\infty}^{+\\infty} g(t) * e^{- i \\omega t} dt & \\text{这里需要思考为什么是 $(-\\infty, +\\infty)$}\n",
    "\\end{align}\n",
    "$$"
   ]
  },
  {
   "cell_type": "markdown",
   "metadata": {},
   "source": [
    "2. 由于 $ e^{-i \\omega t} $ 是单位圆，是有界的，如果上式可积分，那么要求 $ \\int_{-\\infty}^{+\\infty} g(t) dt 不能是无穷大 $"
   ]
  },
  {
   "cell_type": "markdown",
   "metadata": {},
   "source": [
    "3. 如果 $ f(x) = x^2 $, 那么通过 $e^{-x}$ 进行变换，得到结果 $ \\lim_{x = 0}^{\\infty} ( f(x) * e^{-x}) = 0 $"
   ]
  },
  {
   "cell_type": "markdown",
   "metadata": {},
   "source": [
    "4. 但是，如果 $ f(x) = x^x $, 那么 $ e^{-x} $ 就不能起到收敛效果"
   ]
  },
  {
   "cell_type": "markdown",
   "metadata": {},
   "source": [
    "5. 处理手段就是： \n",
    "$$\n",
    "\\lim_{x=0}^{+\\infty}f(x)*e^{- \\sigma x} = 0 , x \\in R\n",
    "$$"
   ]
  },
  {
   "cell_type": "markdown",
   "metadata": {},
   "source": [
    "6. 对于这个收敛的函数，进行傅里叶变换\n",
    "$$\n",
    "\\begin{align}\n",
    "F(\\omega) & = \\int_{0}^{+\\infty} f(t) * e^{- \\sigma t } * e^{-i \\omega t } dt   \\\\[2ex]\n",
    "& = \\int_{0}^{+\\infty} f(t) * e^{-(\\sigma + \\omega i)t } dt  \\\\[2ex]\n",
    "& = \\int_{0}^{+\\infty} f(t) * e^{-st} dt  \\longrightarrow s = \\sigma + \\omega i \\\\[2ex]\n",
    "F(s) & = \\int_{0}^{+\\infty} f(t) * e^{-st} dt  \\longrightarrow 左边 F 的自变量由 \\omega 变成 s\n",
    "\\end{align}\n",
    "$$\n"
   ]
  },
  {
   "cell_type": "markdown",
   "metadata": {},
   "source": [
    "7. 傅里叶使用 $e^{i \\omega t}$ 来逼近原函数，是单位圆；\n",
    "8. 拉普拉斯使用 $e^{(\\sigma + \\omega i) t} = e^{\\sigma t} * e^{i \\omega t} $ 来逼近原函数，其中 $e^{\\sigma t}$ 是单位圆半径扩大的比例，是变幅三角函数（幅度越来越大，这样才能追上发散的 $x^2$）；"
   ]
  },
  {
   "cell_type": "markdown",
   "metadata": {},
   "source": [
    "## 泰勒展开\n",
    "\n",
    "$$\n",
    "\\begin{align}\n",
    "f(x) & = \\sum_{n=0}^{+\\infty} \\frac{f^n(x_0)}{n!} * (x - x_0) ^ n  \\rightarrow 在 x_0 点的展开，理论上 x_0 是任意的，实际中会取导数容易求的点 \\\\[2ex]\n",
    "& = \\sum_{n=0}^{+\\infty} \\frac{f^n(0)}{n!} * x ^ n  \\rightarrow 取 x_0 = 0 ，变成了幂函数的多项式，最受欢迎\n",
    "\\end{align}\n",
    "$$\n",
    "\n"
   ]
  },
  {
   "cell_type": "markdown",
   "metadata": {},
   "source": [
    "### 高阶导数中，三角函数，$ e^x $ 最好用\n",
    "\n",
    "$$\n",
    "\\begin{align}\n",
    "sin'(x) & = cos(x) \\\\\n",
    "cos'(x) & = -sin(x) \\\\\n",
    "(-sin(x))' & = -cos(x) \\\\\n",
    "(-cos(x))' & = sin(x)  \\rightarrow 一个循环 \\\\\n",
    "\\end{align}\n",
    "$$"
   ]
  },
  {
   "cell_type": "markdown",
   "metadata": {},
   "source": [
    "$$\n",
    "(e^{ax})' = a*e^{ax}  \\rightarrow a 是放大系数\n",
    "$$"
   ]
  },
  {
   "cell_type": "code",
   "execution_count": null,
   "metadata": {},
   "outputs": [],
   "source": []
  }
 ],
 "metadata": {
  "kernelspec": {
   "display_name": "Python 3",
   "language": "python",
   "name": "python3"
  },
  "language_info": {
   "codemirror_mode": {
    "name": "ipython",
    "version": 3
   },
   "file_extension": ".py",
   "mimetype": "text/x-python",
   "name": "python",
   "nbconvert_exporter": "python",
   "pygments_lexer": "ipython3",
   "version": "3.6.5"
  }
 },
 "nbformat": 4,
 "nbformat_minor": 2
}
