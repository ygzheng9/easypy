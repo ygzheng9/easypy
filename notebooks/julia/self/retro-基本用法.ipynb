{
 "cells": [
  {
   "cell_type": "code",
   "execution_count": 4,
   "metadata": {},
   "outputs": [
    {
     "data": {
      "text/plain": [
       "9"
      ]
     },
     "execution_count": 4,
     "metadata": {},
     "output_type": "execute_result"
    }
   ],
   "source": [
    "5+4"
   ]
  },
  {
   "cell_type": "code",
   "execution_count": 5,
   "metadata": {},
   "outputs": [
    {
     "data": {
      "text/plain": [
       "81"
      ]
     },
     "execution_count": 5,
     "metadata": {},
     "output_type": "execute_result"
    }
   ],
   "source": [
    "3^4"
   ]
  },
  {
   "cell_type": "code",
   "execution_count": 6,
   "metadata": {},
   "outputs": [
    {
     "data": {
      "text/plain": [
       "1×3 Array{Int64,2}:\n",
       " 10  20  30"
      ]
     },
     "execution_count": 6,
     "metadata": {},
     "output_type": "execute_result"
    }
   ],
   "source": [
    "A = [10 20 30]"
   ]
  },
  {
   "cell_type": "code",
   "execution_count": 7,
   "metadata": {},
   "outputs": [
    {
     "data": {
      "text/plain": [
       "1×3 Array{Int64,2}:\n",
       " 10  20  30"
      ]
     },
     "execution_count": 7,
     "metadata": {},
     "output_type": "execute_result"
    }
   ],
   "source": [
    "A"
   ]
  },
  {
   "cell_type": "code",
   "execution_count": 8,
   "metadata": {},
   "outputs": [
    {
     "data": {
      "text/plain": [
       "3-element Array{Int64,1}:\n",
       " 10\n",
       " 20\n",
       " 30"
      ]
     },
     "execution_count": 8,
     "metadata": {},
     "output_type": "execute_result"
    }
   ],
   "source": [
    "A = [10, 20, 30]"
   ]
  },
  {
   "cell_type": "code",
   "execution_count": 9,
   "metadata": {},
   "outputs": [
    {
     "data": {
      "text/plain": [
       "10"
      ]
     },
     "execution_count": 9,
     "metadata": {},
     "output_type": "execute_result"
    }
   ],
   "source": [
    "A[1]"
   ]
  },
  {
   "cell_type": "code",
   "execution_count": 10,
   "metadata": {},
   "outputs": [
    {
     "data": {
      "text/plain": [
       "99"
      ]
     },
     "execution_count": 10,
     "metadata": {},
     "output_type": "execute_result"
    }
   ],
   "source": [
    "A[2] = 99"
   ]
  },
  {
   "cell_type": "code",
   "execution_count": 11,
   "metadata": {},
   "outputs": [
    {
     "data": {
      "text/plain": [
       "3-element Array{Int64,1}:\n",
       " 10\n",
       " 99\n",
       " 30"
      ]
     },
     "execution_count": 11,
     "metadata": {},
     "output_type": "execute_result"
    }
   ],
   "source": [
    "A"
   ]
  },
  {
   "cell_type": "code",
   "execution_count": 12,
   "metadata": {},
   "outputs": [
    {
     "data": {
      "text/plain": [
       "3×3 Array{Int64,2}:\n",
       " 1  2  3\n",
       " 4  5  6\n",
       " 7  8  9"
      ]
     },
     "execution_count": 12,
     "metadata": {},
     "output_type": "execute_result"
    }
   ],
   "source": [
    "M= [1 2 3;4 5 6;7 8 9]"
   ]
  },
  {
   "cell_type": "code",
   "execution_count": 13,
   "metadata": {},
   "outputs": [
    {
     "data": {
      "text/plain": [
       "3×3 Array{Int64,2}:\n",
       " 1  99  3\n",
       " 4   5  6\n",
       " 7   8  9"
      ]
     },
     "execution_count": 13,
     "metadata": {},
     "output_type": "execute_result"
    }
   ],
   "source": [
    "M[1,2]=99\n",
    "M"
   ]
  },
  {
   "cell_type": "code",
   "execution_count": 14,
   "metadata": {},
   "outputs": [
    {
     "data": {
      "text/plain": [
       "3×3 LinearAlgebra.Adjoint{Int64,Array{Int64,2}}:\n",
       "  1  4  7\n",
       " 99  5  8\n",
       "  3  6  9"
      ]
     },
     "execution_count": 14,
     "metadata": {},
     "output_type": "execute_result"
    }
   ],
   "source": [
    "M'"
   ]
  },
  {
   "cell_type": "code",
   "execution_count": 15,
   "metadata": {},
   "outputs": [
    {
     "data": {
      "text/plain": [
       "3×3 Array{Float64,2}:\n",
       " -0.00515464  -1.48969     0.994845 \n",
       "  0.0103093   -0.0206186   0.0103093\n",
       " -0.00515464   1.17698    -0.671821 "
      ]
     },
     "execution_count": 15,
     "metadata": {},
     "output_type": "execute_result"
    }
   ],
   "source": [
    "inv(M)"
   ]
  },
  {
   "cell_type": "code",
   "execution_count": 16,
   "metadata": {},
   "outputs": [
    {
     "data": {
      "text/plain": [
       "Dict{String,Any} with 2 entries:\n",
       "  \"name\" => \"Craig\"\n",
       "  \"Year\" => 2017"
      ]
     },
     "execution_count": 16,
     "metadata": {},
     "output_type": "execute_result"
    }
   ],
   "source": [
    "D=Dict(\"name\" => \"Craig\", \"Year\" => 2017)"
   ]
  },
  {
   "cell_type": "code",
   "execution_count": 19,
   "metadata": {},
   "outputs": [
    {
     "data": {
      "text/plain": [
       "2"
      ]
     },
     "execution_count": 19,
     "metadata": {},
     "output_type": "execute_result"
    }
   ],
   "source": [
    "D.count"
   ]
  },
  {
   "cell_type": "code",
   "execution_count": 20,
   "metadata": {},
   "outputs": [
    {
     "name": "stdout",
     "output_type": "stream",
     "text": [
      "120"
     ]
    }
   ],
   "source": [
    "fact=1 \n",
    "for i in range(1,5) \n",
    "     fact = fact*i \n",
    "end \n",
    "print(fact)"
   ]
  },
  {
   "cell_type": "code",
   "execution_count": 1,
   "metadata": {},
   "outputs": [
    {
     "ename": "UndefVarError",
     "evalue": "UndefVarError: diagm not defined",
     "output_type": "error",
     "traceback": [
      "UndefVarError: diagm not defined",
      "",
      "Stacktrace:",
      " [1] top-level scope at In[1]:1"
     ]
    }
   ],
   "source": [
    "Λ = diagm([0.1, 0.2, 0.4, 0.5])"
   ]
  },
  {
   "cell_type": "code",
   "execution_count": 2,
   "metadata": {},
   "outputs": [
    {
     "data": {
      "text/plain": [
       "20-element Array{Float64,1}:\n",
       " 0.42040204250030433 \n",
       " 0.5308741117052187  \n",
       " 0.6599782307608182  \n",
       " 0.026367140735882755\n",
       " 0.7953161998753744  \n",
       " 0.6822657125322154  \n",
       " 0.11143472831823886 \n",
       " 0.22777985484775432 \n",
       " 0.09273305761912054 \n",
       " 0.10088182905864906 \n",
       " 0.11615080697947566 \n",
       " 0.9561303914066519  \n",
       " 0.2528859394365164  \n",
       " 0.539882618968714   \n",
       " 0.9025622195774248  \n",
       " 0.8117975943192293  \n",
       " 0.6303371344567728  \n",
       " 0.8998268896963089  \n",
       " 0.9859675628405529  \n",
       " 0.010330121577521556"
      ]
     },
     "execution_count": 2,
     "metadata": {},
     "output_type": "execute_result"
    }
   ],
   "source": [
    "x = rand(20)"
   ]
  },
  {
   "cell_type": "code",
   "execution_count": 3,
   "metadata": {},
   "outputs": [
    {
     "data": {
      "text/plain": [
       "7-element Array{Float64,1}:\n",
       " 0.11143472831823886\n",
       " 0.09273305761912054\n",
       " 0.11615080697947566\n",
       " 0.2528859394365164 \n",
       " 0.9025622195774248 \n",
       " 0.6303371344567728 \n",
       " 0.9859675628405529 "
      ]
     },
     "execution_count": 3,
     "metadata": {},
     "output_type": "execute_result"
    }
   ],
   "source": [
    "x[7:2:end]"
   ]
  },
  {
   "cell_type": "code",
   "execution_count": 4,
   "metadata": {},
   "outputs": [
    {
     "data": {
      "text/plain": [
       "20-element Array{Float64,1}:\n",
       " 1.5039989398725386\n",
       " 1.659119994050006 \n",
       " 1.8461449503203418\n",
       " 1.0267146925228388\n",
       " 2.042317105272031 \n",
       " 1.878649494712256 \n",
       " 1.1176231517281945\n",
       " 1.253344129587034 \n",
       " 1.097023064714728 \n",
       " 1.1059567542580546\n",
       " 1.1228721448047951\n",
       " 2.263621903741138 \n",
       " 1.2842811528241436\n",
       " 1.6720247369536763\n",
       " 2.192225061501796 \n",
       " 2.0658162813936634\n",
       " 1.8029372461445756\n",
       " 2.188506375441946 \n",
       " 2.3020651931086307\n",
       " 1.010383475852162 "
      ]
     },
     "execution_count": 4,
     "metadata": {},
     "output_type": "execute_result"
    }
   ],
   "source": [
    "exp.(sin.(x))"
   ]
  },
  {
   "cell_type": "code",
   "execution_count": 8,
   "metadata": {},
   "outputs": [],
   "source": [
    "using PyPlot"
   ]
  },
  {
   "cell_type": "code",
   "execution_count": 11,
   "metadata": {},
   "outputs": [
    {
     "data": {
      "image/png": "[encoded data removed]",
      "text/plain": [
       "Figure(PyObject <Figure size 640x480 with 1 Axes>)"
      ]
     },
     "metadata": {},
     "output_type": "display_data"
    },
    {
     "data": {
      "text/plain": [
       "1-element Array{PyCall.PyObject,1}:\n",
       " PyObject <matplotlib.lines.Line2D object at 0x13a0bf4a8>"
      ]
     },
     "execution_count": 11,
     "metadata": {},
     "output_type": "execute_result"
    }
   ],
   "source": [
    "x = range(0,step=1,stop=20)\n",
    "plot(x, x.*x, \"bo-\")"
   ]
  },
  {
   "cell_type": "code",
   "execution_count": 12,
   "metadata": {},
   "outputs": [
    {
     "data": {
      "image/png": "[encoded data removed]",
      "text/plain": [
       "Figure(PyObject <Figure size 640x480 with 1 Axes>)"
      ]
     },
     "metadata": {},
     "output_type": "display_data"
    }
   ],
   "source": [
    "x = range(0, stop=3, length=100)\n",
    "plot(x, sqrt.(exp.(x.*x)), \"r-\")\n",
    "title(\"a more complicated function\")\n",
    "xlabel(L\"x\")\n",
    "ylabel(L\"\\sqrt{e^{x^2}}\")\n",
    "grid()"
   ]
  },
  {
   "cell_type": "code",
   "execution_count": 13,
   "metadata": {},
   "outputs": [
    {
     "data": {
      "image/png": "[encoded data removed]",
      "text/plain": [
       "Figure(PyObject <Figure size 640x480 with 1 Axes>)"
      ]
     },
     "metadata": {},
     "output_type": "display_data"
    },
    {
     "data": {
      "text/plain": [
       "PyObject <matplotlib.legend.Legend object at 0x13a89c860>"
      ]
     },
     "execution_count": 13,
     "metadata": {},
     "output_type": "execute_result"
    }
   ],
   "source": [
    "x = range(0.1, stop=3, length=100)\n",
    "loglog(x, x.^(-2), \"r-\")\n",
    "loglog(x, x.^(-3), \"b-\")\n",
    "title(\"a couple of power laws\")\n",
    "xlabel(L\"x\")\n",
    "legend([L\"1/x^2\", L\"1/x^3\"])"
   ]
  },
  {
   "cell_type": "code",
   "execution_count": 14,
   "metadata": {},
   "outputs": [
    {
     "data": {
      "text/plain": [
       "1000×1000 Array{Float64,2}:\n",
       "  0.883051    0.112935   -0.0464095  …   0.0188694  -0.161567      0.806902\n",
       " -0.311129   -0.0761494   1.2405        -0.539244   -0.210006     -0.333217\n",
       "  1.70153     2.21321     0.826391      -0.23743    -0.0169973     1.69966 \n",
       " -2.67603    -1.06872    -1.35161        1.10619     1.22636       0.213917\n",
       "  0.488028   -1.20117    -0.10416        1.30004     0.697002     -0.414456\n",
       "  0.123619    0.705672    0.695199   …   1.36411     0.681829      0.527999\n",
       "  0.313066   -0.368136    1.52354       -1.01418    -0.0445477    -0.520734\n",
       "  0.980591   -0.234971   -1.48613        1.97921     1.02477      -0.76787 \n",
       " -0.55159    -1.13755    -1.59975       -0.13311    -1.59079      -1.3074  \n",
       "  1.9803      2.28117     0.347729      -1.79861     1.70195       1.07142 \n",
       "  0.342953    1.05729    -0.939233   …  -0.62671     1.15592      -0.541482\n",
       " -0.771586   -0.341291    2.34146        0.135396    0.000254341   0.984645\n",
       " -0.540268    0.780588   -0.661173       0.800687    0.994171     -1.33122 \n",
       "  ⋮                                  ⋱                                     \n",
       " -0.2073     -0.11363     1.4945         0.357839    0.730034      0.27594 \n",
       " -1.18358    -0.249507    0.290696       0.266689    0.00106225   -0.943949\n",
       " -0.515413    1.48152     0.488792   …  -0.663011    0.47711       0.352149\n",
       " -0.0315053   0.464737    0.112809      -2.07242     0.0905652    -1.10632 \n",
       " -1.00216    -1.6339     -0.893875       1.12571    -0.547308     -0.221401\n",
       " -0.741152   -2.90153    -0.306181       1.57329     1.42769       0.117967\n",
       " -1.09306    -1.41578    -0.180229      -0.410731   -0.0793322     0.681653\n",
       " -1.3991      0.914031    0.451434   …   0.67161     0.825029     -0.553752\n",
       "  0.652111   -1.07843     0.0219309     -0.633984    0.272644     -2.17281 \n",
       " -0.393334   -0.516511   -0.15578       -1.11552    -0.35361      -0.381897\n",
       "  0.0596321  -0.399157    0.0805737      0.620539   -0.877648     -1.56104 \n",
       " -0.422844   -0.249454   -0.136596      -0.687956   -1.872         1.14811 "
      ]
     },
     "execution_count": 14,
     "metadata": {},
     "output_type": "execute_result"
    }
   ],
   "source": [
    "\n",
    "\n",
    "A = randn(1000,1000)\n",
    "\n"
   ]
  },
  {
   "cell_type": "code",
   "execution_count": 15,
   "metadata": {},
   "outputs": [
    {
     "data": {
      "text/plain": [
       "1000-element Array{Float64,1}:\n",
       "  1.3317364688311621 \n",
       "  1.3123939338620758 \n",
       "  0.33612625129542667\n",
       "  0.5343436312597859 \n",
       " -0.31022626749321963\n",
       "  0.26560852209071933\n",
       " -1.206117399676629  \n",
       " -0.10133367492275107\n",
       " -0.6591673337397274 \n",
       " -1.103937202428306  \n",
       "  1.3724151169819234 \n",
       "  1.049069464203334  \n",
       " -0.6428119352646259 \n",
       "  ⋮                  \n",
       "  2.459720782863682  \n",
       " -0.9529732989915843 \n",
       " -1.3250778874910345 \n",
       "  1.733233871276733  \n",
       "  0.3810831957011277 \n",
       "  0.5027295981380531 \n",
       "  0.7290953486949902 \n",
       "  1.3409670090382877 \n",
       " -1.2191812214143662 \n",
       " -1.5989703184650759 \n",
       "  1.6813126003534253 \n",
       "  1.4086414956659974 "
      ]
     },
     "execution_count": 15,
     "metadata": {},
     "output_type": "execute_result"
    }
   ],
   "source": [
    "b = randn(1000)"
   ]
  },
  {
   "cell_type": "code",
   "execution_count": 16,
   "metadata": {},
   "outputs": [
    {
     "data": {
      "text/plain": [
       "1000-element Array{Float64,1}:\n",
       "  1.8508261455971247 \n",
       " -0.3132394685976665 \n",
       "  2.216335574094607  \n",
       "  0.971781979496038  \n",
       "  3.5169866181342924 \n",
       "  0.9780176313883779 \n",
       "  0.3747425853015394 \n",
       "  0.11659731535736356\n",
       " -3.878396780696405  \n",
       "  0.878872461262147  \n",
       " -2.7421506103166324 \n",
       "  0.4257836260244277 \n",
       " -2.2511432119671415 \n",
       "  ⋮                  \n",
       "  0.08664322857396328\n",
       "  0.19631941745745884\n",
       " -0.8526431708837117 \n",
       " -3.018250186214953  \n",
       "  2.186428508621324  \n",
       " -2.4687302412253755 \n",
       " -1.5264078335837499 \n",
       " -1.96680034517957   \n",
       "  0.4255476943827349 \n",
       " -0.5943230040685422 \n",
       " -1.4509957204568837 \n",
       "  0.9882581934995227 "
      ]
     },
     "execution_count": 16,
     "metadata": {},
     "output_type": "execute_result"
    }
   ],
   "source": [
    "x = inv(A) * b"
   ]
  },
  {
   "cell_type": "code",
   "execution_count": 19,
   "metadata": {},
   "outputs": [
    {
     "data": {
      "image/png": "[encoded data removed]",
      "text/plain": [
       "Figure(PyObject <Figure size 640x480 with 1 Axes>)"
      ]
     },
     "metadata": {},
     "output_type": "display_data"
    }
   ],
   "source": [
    "A = randn(1000,1000)\n",
    "λ = eigvals(A)\n",
    "plot(real(λ), imag(λ), \"b.\")\n",
    "axis(\"equal\")\n",
    "xlabel(L\"\\Re \\lambda\")\n",
    "ylabel(L\"\\Im \\lambda\")\n",
    "savefig(\"foo.pdf\")"
   ]
  },
  {
   "cell_type": "code",
   "execution_count": 18,
   "metadata": {},
   "outputs": [],
   "source": [
    "using LinearAlgebra"
   ]
  },
  {
   "cell_type": "code",
   "execution_count": 2,
   "metadata": {},
   "outputs": [],
   "source": [
    "using Plots"
   ]
  },
  {
   "cell_type": "code",
   "execution_count": 3,
   "metadata": {},
   "outputs": [
    {
     "data": {
      "image/svg+xml": [
       "<?xml version=\"1.0\" encoding=\"utf-8\"?>\n",
       "<svg xmlns=\"http://www.w3.org/2000/svg\" xmlns:xlink=\"http://www.w3.org/1999/xlink\" width=\"600\" height=\"400\" viewBox=\"0 0 2400 1600\">\n",
       "<defs>\n",
       "  <clipPath id=\"clip6100\">\n",
       "    <rect x=\"0\" y=\"0\" width=\"2000\" height=\"2000\"/>\n",
       "  </clipPath>\n",
       "</defs>\n",
       "<defs>\n",
       "  <clipPath id=\"clip6101\">\n",
       "    <rect x=\"0\" y=\"0\" width=\"2400\" height=\"1600\"/>\n",
       "  </clipPath>\n",
       "</defs>\n",
       "<polygon clip-path=\"url(#clip6101)\" points=\"\n",
       "0,1600 2400,1600 2400,0 0,0 \n",
       "  \" fill=\"#ffffff\" fill-rule=\"evenodd\" fill-opacity=\"1\"/>\n",
       "<defs>\n",
       "  <clipPath id=\"clip6102\">\n",
       "    <rect x=\"480\" y=\"0\" width=\"1681\" height=\"1600\"/>\n",
       "  </clipPath>\n",
       "</defs>\n",
       "<polygon clip-path=\"url(#clip6101)\" points=\"\n",
       "189.504,1503.47 2321.26,1503.47 2321.26,47.2441 189.504,47.2441 \n",
       "  \" fill=\"#ffffff\" fill-rule=\"evenodd\" fill-opacity=\"1\"/>\n",
       "<defs>\n",
       "  <clipPath id=\"clip6103\">\n",
       "    <rect x=\"189\" y=\"47\" width=\"2133\" height=\"1457\"/>\n",
       "  </clipPath>\n",
       "</defs>\n",
       "<polyline clip-path=\"url(#clip6103)\" style=\"stroke:#000000; stroke-width:2; stroke-opacity:0.1; fill:none\" points=\"\n",
       "  451.417,1503.47 451.417,47.2441 \n",
       "  \"/>\n",
       "<polyline clip-path=\"url(#clip6103)\" style=\"stroke:#000000; stroke-width:2; stroke-opacity:0.1; fill:none\" points=\"\n",
       "  853.772,1503.47 853.772,47.2441 \n",
       "  \"/>\n",
       "<polyline clip-path=\"url(#clip6103)\" style=\"stroke:#000000; stroke-width:2; stroke-opacity:0.1; fill:none\" points=\"\n",
       "  1256.13,1503.47 1256.13,47.2441 \n",
       "  \"/>\n",
       "<polyline clip-path=\"url(#clip6103)\" style=\"stroke:#000000; stroke-width:2; stroke-opacity:0.1; fill:none\" points=\"\n",
       "  1658.48,1503.47 1658.48,47.2441 \n",
       "  \"/>\n",
       "<polyline clip-path=\"url(#clip6103)\" style=\"stroke:#000000; stroke-width:2; stroke-opacity:0.1; fill:none\" points=\"\n",
       "  2060.83,1503.47 2060.83,47.2441 \n",
       "  \"/>\n",
       "<polyline clip-path=\"url(#clip6103)\" style=\"stroke:#000000; stroke-width:2; stroke-opacity:0.1; fill:none\" points=\"\n",
       "  189.504,1462.34 2321.26,1462.34 \n",
       "  \"/>\n",
       "<polyline clip-path=\"url(#clip6103)\" style=\"stroke:#000000; stroke-width:2; stroke-opacity:0.1; fill:none\" points=\"\n",
       "  189.504,1118.8 2321.26,1118.8 \n",
       "  \"/>\n",
       "<polyline clip-path=\"url(#clip6103)\" style=\"stroke:#000000; stroke-width:2; stroke-opacity:0.1; fill:none\" points=\"\n",
       "  189.504,775.268 2321.26,775.268 \n",
       "  \"/>\n",
       "<polyline clip-path=\"url(#clip6103)\" style=\"stroke:#000000; stroke-width:2; stroke-opacity:0.1; fill:none\" points=\"\n",
       "  189.504,431.732 2321.26,431.732 \n",
       "  \"/>\n",
       "<polyline clip-path=\"url(#clip6103)\" style=\"stroke:#000000; stroke-width:2; stroke-opacity:0.1; fill:none\" points=\"\n",
       "  189.504,88.1961 2321.26,88.1961 \n",
       "  \"/>\n",
       "<polyline clip-path=\"url(#clip6101)\" style=\"stroke:#000000; stroke-width:4; stroke-opacity:1; fill:none\" points=\"\n",
       "  189.504,1503.47 2321.26,1503.47 \n",
       "  \"/>\n",
       "<polyline clip-path=\"url(#clip6101)\" style=\"stroke:#000000; stroke-width:4; stroke-opacity:1; fill:none\" points=\"\n",
       "  189.504,1503.47 189.504,47.2441 \n",
       "  \"/>\n",
       "<polyline clip-path=\"url(#clip6101)\" style=\"stroke:#000000; stroke-width:4; stroke-opacity:1; fill:none\" points=\"\n",
       "  451.417,1503.47 451.417,1481.63 \n",
       "  \"/>\n",
       "<polyline clip-path=\"url(#clip6101)\" style=\"stroke:#000000; stroke-width:4; stroke-opacity:1; fill:none\" points=\"\n",
       "  853.772,1503.47 853.772,1481.63 \n",
       "  \"/>\n",
       "<polyline clip-path=\"url(#clip6101)\" style=\"stroke:#000000; stroke-width:4; stroke-opacity:1; fill:none\" points=\"\n",
       "  1256.13,1503.47 1256.13,1481.63 \n",
       "  \"/>\n",
       "<polyline clip-path=\"url(#clip6101)\" style=\"stroke:#000000; stroke-width:4; stroke-opacity:1; fill:none\" points=\"\n",
       "  1658.48,1503.47 1658.48,1481.63 \n",
       "  \"/>\n",
       "<polyline clip-path=\"url(#clip6101)\" style=\"stroke:#000000; stroke-width:4; stroke-opacity:1; fill:none\" points=\"\n",
       "  2060.83,1503.47 2060.83,1481.63 \n",
       "  \"/>\n",
       "<polyline clip-path=\"url(#clip6101)\" style=\"stroke:#000000; stroke-width:4; stroke-opacity:1; fill:none\" points=\"\n",
       "  189.504,1462.34 221.48,1462.34 \n",
       "  \"/>\n",
       "<polyline clip-path=\"url(#clip6101)\" style=\"stroke:#000000; stroke-width:4; stroke-opacity:1; fill:none\" points=\"\n",
       "  189.504,1118.8 221.48,1118.8 \n",
       "  \"/>\n",
       "<polyline clip-path=\"url(#clip6101)\" style=\"stroke:#000000; stroke-width:4; stroke-opacity:1; fill:none\" points=\"\n",
       "  189.504,775.268 221.48,775.268 \n",
       "  \"/>\n",
       "<polyline clip-path=\"url(#clip6101)\" style=\"stroke:#000000; stroke-width:4; stroke-opacity:1; fill:none\" points=\"\n",
       "  189.504,431.732 221.48,431.732 \n",
       "  \"/>\n",
       "<polyline clip-path=\"url(#clip6101)\" style=\"stroke:#000000; stroke-width:4; stroke-opacity:1; fill:none\" points=\"\n",
       "  189.504,88.1961 221.48,88.1961 \n",
       "  \"/>\n",
       "<g clip-path=\"url(#clip6101)\">\n",
       "<text style=\"fill:#000000; fill-opacity:1; font-family:Arial,Helvetica Neue,Helvetica,sans-serif; font-size:48px; text-anchor:middle;\" transform=\"rotate(0, 451.417, 1557.47)\" x=\"451.417\" y=\"1557.47\">-5.0</text>\n",
       "</g>\n",
       "<g clip-path=\"url(#clip6101)\">\n",
       "<text style=\"fill:#000000; fill-opacity:1; font-family:Arial,Helvetica Neue,Helvetica,sans-serif; font-size:48px; text-anchor:middle;\" transform=\"rotate(0, 853.772, 1557.47)\" x=\"853.772\" y=\"1557.47\">-2.5</text>\n",
       "</g>\n",
       "<g clip-path=\"url(#clip6101)\">\n",
       "<text style=\"fill:#000000; fill-opacity:1; font-family:Arial,Helvetica Neue,Helvetica,sans-serif; font-size:48px; text-anchor:middle;\" transform=\"rotate(0, 1256.13, 1557.47)\" x=\"1256.13\" y=\"1557.47\">0.0</text>\n",
       "</g>\n",
       "<g clip-path=\"url(#clip6101)\">\n",
       "<text style=\"fill:#000000; fill-opacity:1; font-family:Arial,Helvetica Neue,Helvetica,sans-serif; font-size:48px; text-anchor:middle;\" transform=\"rotate(0, 1658.48, 1557.47)\" x=\"1658.48\" y=\"1557.47\">2.5</text>\n",
       "</g>\n",
       "<g clip-path=\"url(#clip6101)\">\n",
       "<text style=\"fill:#000000; fill-opacity:1; font-family:Arial,Helvetica Neue,Helvetica,sans-serif; font-size:48px; text-anchor:middle;\" transform=\"rotate(0, 2060.83, 1557.47)\" x=\"2060.83\" y=\"1557.47\">5.0</text>\n",
       "</g>\n",
       "<g clip-path=\"url(#clip6101)\">\n",
       "<text style=\"fill:#000000; fill-opacity:1; font-family:Arial,Helvetica Neue,Helvetica,sans-serif; font-size:48px; text-anchor:end;\" transform=\"rotate(0, 165.504, 1479.84)\" x=\"165.504\" y=\"1479.84\">-1.0</text>\n",
       "</g>\n",
       "<g clip-path=\"url(#clip6101)\">\n",
       "<text style=\"fill:#000000; fill-opacity:1; font-family:Arial,Helvetica Neue,Helvetica,sans-serif; font-size:48px; text-anchor:end;\" transform=\"rotate(0, 165.504, 1136.3)\" x=\"165.504\" y=\"1136.3\">-0.5</text>\n",
       "</g>\n",
       "<g clip-path=\"url(#clip6101)\">\n",
       "<text style=\"fill:#000000; fill-opacity:1; font-family:Arial,Helvetica Neue,Helvetica,sans-serif; font-size:48px; text-anchor:end;\" transform=\"rotate(0, 165.504, 792.768)\" x=\"165.504\" y=\"792.768\">0.0</text>\n",
       "</g>\n",
       "<g clip-path=\"url(#clip6101)\">\n",
       "<text style=\"fill:#000000; fill-opacity:1; font-family:Arial,Helvetica Neue,Helvetica,sans-serif; font-size:48px; text-anchor:end;\" transform=\"rotate(0, 165.504, 449.232)\" x=\"165.504\" y=\"449.232\">0.5</text>\n",
       "</g>\n",
       "<g clip-path=\"url(#clip6101)\">\n",
       "<text style=\"fill:#000000; fill-opacity:1; font-family:Arial,Helvetica Neue,Helvetica,sans-serif; font-size:48px; text-anchor:end;\" transform=\"rotate(0, 165.504, 105.696)\" x=\"165.504\" y=\"105.696\">1.0</text>\n",
       "</g>\n",
       "<polyline clip-path=\"url(#clip6103)\" style=\"stroke:#009af9; stroke-width:4; stroke-opacity:1; fill:none\" points=\"\n",
       "  249.837,754.191 254.775,733.135 259.712,712.118 264.65,691.161 287.478,595.607 310.306,503.662 333.135,417.172 355.963,337.875 367.377,301.428 378.791,267.363 \n",
       "  390.205,235.851 401.619,207.052 413.033,181.109 424.448,158.154 435.862,138.301 447.276,121.651 460.995,105.993 474.713,95.1956 488.432,89.3364 502.151,88.4582 \n",
       "  515.87,92.5673 529.589,101.634 543.307,115.592 557.026,134.341 568.625,153.83 580.224,176.545 591.823,202.369 603.423,231.168 615.022,262.791 626.621,297.075 \n",
       "  638.22,333.842 649.819,372.9 675.019,464.668 700.218,564.035 725.418,668.571 750.618,775.716 773.85,874.546 797.081,971.311 820.313,1064 843.545,1150.68 \n",
       "  855.999,1194.04 868.452,1234.89 880.906,1272.99 893.359,1308.12 905.813,1340.05 918.266,1368.61 930.72,1393.61 943.173,1414.92 957.602,1434.8 972.031,1449.4 \n",
       "  986.459,1458.57 1000.89,1462.26 1015.32,1460.43 1029.75,1453.1 1044.17,1440.32 1058.6,1422.2 1071.42,1401.73 1084.25,1377.29 1097.07,1349.03 1109.89,1317.13 \n",
       "  1122.71,1281.79 1135.54,1243.23 1148.36,1201.71 1161.18,1157.49 1183.67,1074.24 1206.16,985.171 1228.65,892.008 1251.14,796.57 1275.65,692.108 1300.17,589.571 \n",
       "  1324.69,491.337 1349.21,399.679 1361.54,356.74 1373.87,316.258 1386.2,278.469 1398.54,243.595 1410.87,211.842 1423.2,183.395 1435.53,158.421 1447.86,137.067 \n",
       "  1461.5,117.822 1475.13,103.292 1488.77,93.5819 1502.4,88.7616 1516.04,88.8654 1529.67,93.8927 1543.31,103.807 1556.94,118.538 1569.91,136.929 1582.89,159.466 \n",
       "  1595.86,186.001 1608.83,216.364 1621.81,250.355 1634.78,287.756 1647.75,328.322 1660.72,371.79 1687.7,470.23 1714.68,577.22 1741.66,689.761 1768.64,804.7 \n",
       "  1791.35,900.946 1814.06,994.694 1836.76,1084.08 1859.47,1167.33 1873.34,1214.41 1887.2,1258.25 1901.06,1298.5 1914.93,1334.86 1928.79,1367.09 1942.65,1394.92 \n",
       "  1956.51,1418.16 1970.38,1436.63 1983.41,1449.52 1996.44,1458 2009.47,1462 2022.5,1461.5 2035.53,1456.5 2048.57,1447.05 2061.6,1433.19 2074.63,1415.01 \n",
       "  2085.07,1397.43 2095.51,1377.22 2105.95,1354.49 2116.38,1329.32 2126.82,1301.82 2137.26,1272.1 2147.7,1240.3 2158.14,1206.54 2179.02,1133.73 2199.89,1054.89 \n",
       "  2220.77,971.361 2241.65,884.532 2248.08,857.369 2254.5,830.075 2260.93,802.693 \n",
       "  \"/>\n",
       "<polygon clip-path=\"url(#clip6101)\" points=\"\n",
       "1891.62,251.724 2249.26,251.724 2249.26,130.764 1891.62,130.764 \n",
       "  \" fill=\"#ffffff\" fill-rule=\"evenodd\" fill-opacity=\"1\"/>\n",
       "<polyline clip-path=\"url(#clip6101)\" style=\"stroke:#000000; stroke-width:4; stroke-opacity:1; fill:none\" points=\"\n",
       "  1891.62,251.724 2249.26,251.724 2249.26,130.764 1891.62,130.764 1891.62,251.724 \n",
       "  \"/>\n",
       "<polyline clip-path=\"url(#clip6101)\" style=\"stroke:#009af9; stroke-width:4; stroke-opacity:1; fill:none\" points=\"\n",
       "  1915.62,191.244 2059.62,191.244 \n",
       "  \"/>\n",
       "<g clip-path=\"url(#clip6101)\">\n",
       "<text style=\"fill:#000000; fill-opacity:1; font-family:Arial,Helvetica Neue,Helvetica,sans-serif; font-size:48px; text-anchor:start;\" transform=\"rotate(0, 2083.62, 208.744)\" x=\"2083.62\" y=\"208.744\">sin(x)</text>\n",
       "</g>\n",
       "</svg>\n"
      ]
     },
     "execution_count": 3,
     "metadata": {},
     "output_type": "execute_result"
    }
   ],
   "source": [
    "plot(sin, -2π, 2π, label=\"sin(x)\")"
   ]
  },
  {
   "cell_type": "code",
   "execution_count": 5,
   "metadata": {},
   "outputs": [
    {
     "name": "stdout",
     "output_type": "stream",
     "text": [
      "search: \u001b[0m\u001b[1mp\u001b[22m\u001b[0m\u001b[1ml\u001b[22m\u001b[0m\u001b[1mo\u001b[22m\u001b[0m\u001b[1mt\u001b[22m \u001b[0m\u001b[1mp\u001b[22m\u001b[0m\u001b[1ml\u001b[22m\u001b[0m\u001b[1mo\u001b[22m\u001b[0m\u001b[1mt\u001b[22m! \u001b[0m\u001b[1mp\u001b[22m\u001b[0m\u001b[1ml\u001b[22m\u001b[0m\u001b[1mo\u001b[22m\u001b[0m\u001b[1mt\u001b[22mly \u001b[0m\u001b[1mp\u001b[22m\u001b[0m\u001b[1ml\u001b[22m\u001b[0m\u001b[1mo\u001b[22m\u001b[0m\u001b[1mt\u001b[22m3d \u001b[0m\u001b[1mP\u001b[22m\u001b[0m\u001b[1ml\u001b[22m\u001b[0m\u001b[1mo\u001b[22m\u001b[0m\u001b[1mt\u001b[22ms \u001b[0m\u001b[1mp\u001b[22m\u001b[0m\u001b[1ml\u001b[22m\u001b[0m\u001b[1mo\u001b[22m\u001b[0m\u001b[1mt\u001b[22m3d! \u001b[0m\u001b[1mp\u001b[22m\u001b[0m\u001b[1ml\u001b[22m\u001b[0m\u001b[1mo\u001b[22m\u001b[0m\u001b[1mt\u001b[22mlyjs \u001b[0m\u001b[1mp\u001b[22m\u001b[0m\u001b[1ml\u001b[22m\u001b[0m\u001b[1mo\u001b[22m\u001b[0m\u001b[1mt\u001b[22mattr \u001b[0m\u001b[1mp\u001b[22m\u001b[0m\u001b[1ml\u001b[22m\u001b[0m\u001b[1mo\u001b[22m\u001b[0m\u001b[1mt\u001b[22marea\n",
      "\n"
     ]
    },
    {
     "data": {
      "text/latex": [
       "The main plot command. Use \\texttt{plot} to create a new plot object, and \\texttt{plot!} to add to an existing one:\n",
       "\n",
       "\\begin{verbatim}\n",
       "    plot(args...; kw...)                  # creates a new plot window, and sets it to be the current\n",
       "    plot!(args...; kw...)                 # adds to the `current`\n",
       "    plot!(plotobj, args...; kw...)        # adds to the plot `plotobj`\n",
       "\\end{verbatim}\n",
       "There are lots of ways to pass in data, and lots of keyword arguments... just try it and it will likely work as expected. When you pass in matrices, it splits by columns. To see the list of available attributes, use the \\texttt{plotattr([attr])} function, where \\texttt{attr} is the symbol \\texttt{:Series:}, \\texttt{:Subplot:}, \\texttt{:Plot} or \\texttt{:Axis}. Pass any attribute to \\texttt{plotattr} as a String to look up its docstring; e.g. \\texttt{plotattr(\"seriestype\")}.\n",
       "\n"
      ],
      "text/markdown": [
       "The main plot command. Use `plot` to create a new plot object, and `plot!` to add to an existing one:\n",
       "\n",
       "```\n",
       "    plot(args...; kw...)                  # creates a new plot window, and sets it to be the current\n",
       "    plot!(args...; kw...)                 # adds to the `current`\n",
       "    plot!(plotobj, args...; kw...)        # adds to the plot `plotobj`\n",
       "```\n",
       "\n",
       "There are lots of ways to pass in data, and lots of keyword arguments... just try it and it will likely work as expected. When you pass in matrices, it splits by columns. To see the list of available attributes, use the `plotattr([attr])` function, where `attr` is the symbol `:Series:`, `:Subplot:`, `:Plot` or `:Axis`. Pass any attribute to `plotattr` as a String to look up its docstring; e.g. `plotattr(\"seriestype\")`.\n"
      ],
      "text/plain": [
       "  The main plot command. Use \u001b[36mplot\u001b[39m to create a new plot object, and \u001b[36mplot!\u001b[39m to\n",
       "  add to an existing one:\n",
       "\n",
       "\u001b[36m      plot(args...; kw...)                  # creates a new plot window, and sets it to be the current\u001b[39m\n",
       "\u001b[36m      plot!(args...; kw...)                 # adds to the `current`\u001b[39m\n",
       "\u001b[36m      plot!(plotobj, args...; kw...)        # adds to the plot `plotobj`\u001b[39m\n",
       "\n",
       "  There are lots of ways to pass in data, and lots of keyword arguments...\n",
       "  just try it and it will likely work as expected. When you pass in matrices,\n",
       "  it splits by columns. To see the list of available attributes, use the\n",
       "  \u001b[36mplotattr([attr])\u001b[39m function, where \u001b[36mattr\u001b[39m is the symbol \u001b[36m:Series:\u001b[39m, \u001b[36m:Subplot:\u001b[39m,\n",
       "  \u001b[36m:Plot\u001b[39m or \u001b[36m:Axis\u001b[39m. Pass any attribute to \u001b[36mplotattr\u001b[39m as a String to look up its\n",
       "  docstring; e.g. \u001b[36mplotattr(\"seriestype\")\u001b[39m."
      ]
     },
     "execution_count": 5,
     "metadata": {},
     "output_type": "execute_result"
    }
   ],
   "source": [
    "?plot"
   ]
  },
  {
   "cell_type": "code",
   "execution_count": 6,
   "metadata": {},
   "outputs": [
    {
     "ename": "ArgumentError",
     "evalue": "ArgumentError: Package Compat not found in current path:\n- Run `import Pkg; Pkg.add(\"Compat\")` to install the Compat package.\n",
     "output_type": "error",
     "traceback": [
      "ArgumentError: Package Compat not found in current path:\n- Run `import Pkg; Pkg.add(\"Compat\")` to install the Compat package.\n",
      "",
      "Stacktrace:",
      " [1] require(::Module, ::Symbol) at ./loading.jl:823",
      " [2] top-level scope at In[6]:1"
     ]
    }
   ],
   "source": [
    "using LinearAlgebra, Statistics, Compat"
   ]
  },
  {
   "cell_type": "code",
   "execution_count": 9,
   "metadata": {},
   "outputs": [
    {
     "data": {
      "text/plain": [
       "500-element Array{Float64,1}:\n",
       " 0.09152796272229306\n",
       " 0.20772892933585693\n",
       " 0.13434263422724646\n",
       " 0.17787668866619244\n",
       " 0.11716013542613424\n",
       " 0.7061888166770695 \n",
       " 0.5426324690798532 \n",
       " 0.03020724476019293\n",
       " 1.7717425086689564 \n",
       " 1.8833408575869413 \n",
       " 0.3188667234535525 \n",
       " 0.27475837839143996\n",
       " 2.4795450136571944 \n",
       " ⋮                  \n",
       " 0.995750666399932  \n",
       " 0.14958190383428902\n",
       " 0.1292098179118116 \n",
       " 0.7889311777745419 \n",
       " 0.11042237236714635\n",
       " 2.030456326901897  \n",
       " 0.13908319847301406\n",
       " 1.038274729542174  \n",
       " 0.15836711619387212\n",
       " 0.22408750628559046\n",
       " 0.12236303863750626\n",
       " 0.19952243637227068"
      ]
     },
     "execution_count": 9,
     "metadata": {},
     "output_type": "execute_result"
    }
   ],
   "source": [
    "generatedata(n, gen) = gen.(randn(n)) # uses broadcast for some function `gen`\n",
    "\n",
    "f(x) = x^2 # simple square function\n",
    "data = generatedata(500, f) # applies f"
   ]
  },
  {
   "cell_type": "code",
   "execution_count": 10,
   "metadata": {},
   "outputs": [
    {
     "data": {
      "image/svg+xml": [
       "<?xml version=\"1.0\" encoding=\"utf-8\"?>\n",
       "<svg xmlns=\"http://www.w3.org/2000/svg\" xmlns:xlink=\"http://www.w3.org/1999/xlink\" width=\"600\" height=\"400\" viewBox=\"0 0 2400 1600\">\n",
       "<defs>\n",
       "  <clipPath id=\"clip6500\">\n",
       "    <rect x=\"0\" y=\"0\" width=\"2000\" height=\"2000\"/>\n",
       "  </clipPath>\n",
       "</defs>\n",
       "<defs>\n",
       "  <clipPath id=\"clip6501\">\n",
       "    <rect x=\"0\" y=\"0\" width=\"2400\" height=\"1600\"/>\n",
       "  </clipPath>\n",
       "</defs>\n",
       "<polygon clip-path=\"url(#clip6501)\" points=\"\n",
       "0,1600 2400,1600 2400,0 0,0 \n",
       "  \" fill=\"#ffffff\" fill-rule=\"evenodd\" fill-opacity=\"1\"/>\n",
       "<defs>\n",
       "  <clipPath id=\"clip6502\">\n",
       "    <rect x=\"480\" y=\"0\" width=\"1681\" height=\"1600\"/>\n",
       "  </clipPath>\n",
       "</defs>\n",
       "<polygon clip-path=\"url(#clip6501)\" points=\"\n",
       "188.156,1503.47 2321.26,1503.47 2321.26,47.2441 188.156,47.2441 \n",
       "  \" fill=\"#ffffff\" fill-rule=\"evenodd\" fill-opacity=\"1\"/>\n",
       "<defs>\n",
       "  <clipPath id=\"clip6503\">\n",
       "    <rect x=\"188\" y=\"47\" width=\"2134\" height=\"1457\"/>\n",
       "  </clipPath>\n",
       "</defs>\n",
       "<polyline clip-path=\"url(#clip6503)\" style=\"stroke:#000000; stroke-width:2; stroke-opacity:0.1; fill:none\" points=\"\n",
       "  244.494,1503.47 244.494,47.2441 \n",
       "  \"/>\n",
       "<polyline clip-path=\"url(#clip6503)\" style=\"stroke:#000000; stroke-width:2; stroke-opacity:0.1; fill:none\" points=\"\n",
       "  647.773,1503.47 647.773,47.2441 \n",
       "  \"/>\n",
       "<polyline clip-path=\"url(#clip6503)\" style=\"stroke:#000000; stroke-width:2; stroke-opacity:0.1; fill:none\" points=\"\n",
       "  1051.05,1503.47 1051.05,47.2441 \n",
       "  \"/>\n",
       "<polyline clip-path=\"url(#clip6503)\" style=\"stroke:#000000; stroke-width:2; stroke-opacity:0.1; fill:none\" points=\"\n",
       "  1454.33,1503.47 1454.33,47.2441 \n",
       "  \"/>\n",
       "<polyline clip-path=\"url(#clip6503)\" style=\"stroke:#000000; stroke-width:2; stroke-opacity:0.1; fill:none\" points=\"\n",
       "  1857.61,1503.47 1857.61,47.2441 \n",
       "  \"/>\n",
       "<polyline clip-path=\"url(#clip6503)\" style=\"stroke:#000000; stroke-width:2; stroke-opacity:0.1; fill:none\" points=\"\n",
       "  2260.89,1503.47 2260.89,47.2441 \n",
       "  \"/>\n",
       "<polyline clip-path=\"url(#clip6503)\" style=\"stroke:#000000; stroke-width:2; stroke-opacity:0.1; fill:none\" points=\"\n",
       "  188.156,1462.27 2321.26,1462.27 \n",
       "  \"/>\n",
       "<polyline clip-path=\"url(#clip6503)\" style=\"stroke:#000000; stroke-width:2; stroke-opacity:0.1; fill:none\" points=\"\n",
       "  188.156,1138.87 2321.26,1138.87 \n",
       "  \"/>\n",
       "<polyline clip-path=\"url(#clip6503)\" style=\"stroke:#000000; stroke-width:2; stroke-opacity:0.1; fill:none\" points=\"\n",
       "  188.156,815.468 2321.26,815.468 \n",
       "  \"/>\n",
       "<polyline clip-path=\"url(#clip6503)\" style=\"stroke:#000000; stroke-width:2; stroke-opacity:0.1; fill:none\" points=\"\n",
       "  188.156,492.069 2321.26,492.069 \n",
       "  \"/>\n",
       "<polyline clip-path=\"url(#clip6503)\" style=\"stroke:#000000; stroke-width:2; stroke-opacity:0.1; fill:none\" points=\"\n",
       "  188.156,168.67 2321.26,168.67 \n",
       "  \"/>\n",
       "<polyline clip-path=\"url(#clip6501)\" style=\"stroke:#000000; stroke-width:4; stroke-opacity:1; fill:none\" points=\"\n",
       "  188.156,1503.47 2321.26,1503.47 \n",
       "  \"/>\n",
       "<polyline clip-path=\"url(#clip6501)\" style=\"stroke:#000000; stroke-width:4; stroke-opacity:1; fill:none\" points=\"\n",
       "  188.156,1503.47 188.156,47.2441 \n",
       "  \"/>\n",
       "<polyline clip-path=\"url(#clip6501)\" style=\"stroke:#000000; stroke-width:4; stroke-opacity:1; fill:none\" points=\"\n",
       "  244.494,1503.47 244.494,1481.63 \n",
       "  \"/>\n",
       "<polyline clip-path=\"url(#clip6501)\" style=\"stroke:#000000; stroke-width:4; stroke-opacity:1; fill:none\" points=\"\n",
       "  647.773,1503.47 647.773,1481.63 \n",
       "  \"/>\n",
       "<polyline clip-path=\"url(#clip6501)\" style=\"stroke:#000000; stroke-width:4; stroke-opacity:1; fill:none\" points=\"\n",
       "  1051.05,1503.47 1051.05,1481.63 \n",
       "  \"/>\n",
       "<polyline clip-path=\"url(#clip6501)\" style=\"stroke:#000000; stroke-width:4; stroke-opacity:1; fill:none\" points=\"\n",
       "  1454.33,1503.47 1454.33,1481.63 \n",
       "  \"/>\n",
       "<polyline clip-path=\"url(#clip6501)\" style=\"stroke:#000000; stroke-width:4; stroke-opacity:1; fill:none\" points=\"\n",
       "  1857.61,1503.47 1857.61,1481.63 \n",
       "  \"/>\n",
       "<polyline clip-path=\"url(#clip6501)\" style=\"stroke:#000000; stroke-width:4; stroke-opacity:1; fill:none\" points=\"\n",
       "  2260.89,1503.47 2260.89,1481.63 \n",
       "  \"/>\n",
       "<polyline clip-path=\"url(#clip6501)\" style=\"stroke:#000000; stroke-width:4; stroke-opacity:1; fill:none\" points=\"\n",
       "  188.156,1462.27 220.153,1462.27 \n",
       "  \"/>\n",
       "<polyline clip-path=\"url(#clip6501)\" style=\"stroke:#000000; stroke-width:4; stroke-opacity:1; fill:none\" points=\"\n",
       "  188.156,1138.87 220.153,1138.87 \n",
       "  \"/>\n",
       "<polyline clip-path=\"url(#clip6501)\" style=\"stroke:#000000; stroke-width:4; stroke-opacity:1; fill:none\" points=\"\n",
       "  188.156,815.468 220.153,815.468 \n",
       "  \"/>\n",
       "<polyline clip-path=\"url(#clip6501)\" style=\"stroke:#000000; stroke-width:4; stroke-opacity:1; fill:none\" points=\"\n",
       "  188.156,492.069 220.153,492.069 \n",
       "  \"/>\n",
       "<polyline clip-path=\"url(#clip6501)\" style=\"stroke:#000000; stroke-width:4; stroke-opacity:1; fill:none\" points=\"\n",
       "  188.156,168.67 220.153,168.67 \n",
       "  \"/>\n",
       "<g clip-path=\"url(#clip6501)\">\n",
       "<text style=\"fill:#000000; fill-opacity:1; font-family:Arial,Helvetica Neue,Helvetica,sans-serif; font-size:48px; text-anchor:middle;\" transform=\"rotate(0, 244.494, 1557.47)\" x=\"244.494\" y=\"1557.47\">0</text>\n",
       "</g>\n",
       "<g clip-path=\"url(#clip6501)\">\n",
       "<text style=\"fill:#000000; fill-opacity:1; font-family:Arial,Helvetica Neue,Helvetica,sans-serif; font-size:48px; text-anchor:middle;\" transform=\"rotate(0, 647.773, 1557.47)\" x=\"647.773\" y=\"1557.47\">100</text>\n",
       "</g>\n",
       "<g clip-path=\"url(#clip6501)\">\n",
       "<text style=\"fill:#000000; fill-opacity:1; font-family:Arial,Helvetica Neue,Helvetica,sans-serif; font-size:48px; text-anchor:middle;\" transform=\"rotate(0, 1051.05, 1557.47)\" x=\"1051.05\" y=\"1557.47\">200</text>\n",
       "</g>\n",
       "<g clip-path=\"url(#clip6501)\">\n",
       "<text style=\"fill:#000000; fill-opacity:1; font-family:Arial,Helvetica Neue,Helvetica,sans-serif; font-size:48px; text-anchor:middle;\" transform=\"rotate(0, 1454.33, 1557.47)\" x=\"1454.33\" y=\"1557.47\">300</text>\n",
       "</g>\n",
       "<g clip-path=\"url(#clip6501)\">\n",
       "<text style=\"fill:#000000; fill-opacity:1; font-family:Arial,Helvetica Neue,Helvetica,sans-serif; font-size:48px; text-anchor:middle;\" transform=\"rotate(0, 1857.61, 1557.47)\" x=\"1857.61\" y=\"1557.47\">400</text>\n",
       "</g>\n",
       "<g clip-path=\"url(#clip6501)\">\n",
       "<text style=\"fill:#000000; fill-opacity:1; font-family:Arial,Helvetica Neue,Helvetica,sans-serif; font-size:48px; text-anchor:middle;\" transform=\"rotate(0, 2260.89, 1557.47)\" x=\"2260.89\" y=\"1557.47\">500</text>\n",
       "</g>\n",
       "<g clip-path=\"url(#clip6501)\">\n",
       "<text style=\"fill:#000000; fill-opacity:1; font-family:Arial,Helvetica Neue,Helvetica,sans-serif; font-size:48px; text-anchor:end;\" transform=\"rotate(0, 164.156, 1479.77)\" x=\"164.156\" y=\"1479.77\">0.0</text>\n",
       "</g>\n",
       "<g clip-path=\"url(#clip6501)\">\n",
       "<text style=\"fill:#000000; fill-opacity:1; font-family:Arial,Helvetica Neue,Helvetica,sans-serif; font-size:48px; text-anchor:end;\" transform=\"rotate(0, 164.156, 1156.37)\" x=\"164.156\" y=\"1156.37\">2.5</text>\n",
       "</g>\n",
       "<g clip-path=\"url(#clip6501)\">\n",
       "<text style=\"fill:#000000; fill-opacity:1; font-family:Arial,Helvetica Neue,Helvetica,sans-serif; font-size:48px; text-anchor:end;\" transform=\"rotate(0, 164.156, 832.968)\" x=\"164.156\" y=\"832.968\">5.0</text>\n",
       "</g>\n",
       "<g clip-path=\"url(#clip6501)\">\n",
       "<text style=\"fill:#000000; fill-opacity:1; font-family:Arial,Helvetica Neue,Helvetica,sans-serif; font-size:48px; text-anchor:end;\" transform=\"rotate(0, 164.156, 509.569)\" x=\"164.156\" y=\"509.569\">7.5</text>\n",
       "</g>\n",
       "<g clip-path=\"url(#clip6501)\">\n",
       "<text style=\"fill:#000000; fill-opacity:1; font-family:Arial,Helvetica Neue,Helvetica,sans-serif; font-size:48px; text-anchor:end;\" transform=\"rotate(0, 164.156, 186.17)\" x=\"164.156\" y=\"186.17\">10.0</text>\n",
       "</g>\n",
       "<polyline clip-path=\"url(#clip6503)\" style=\"stroke:#009af9; stroke-width:4; stroke-opacity:1; fill:none\" points=\"\n",
       "  248.527,1450.43 252.56,1435.4 256.593,1444.89 260.626,1439.26 264.658,1447.11 268.691,1370.91 272.724,1392.07 276.757,1458.36 280.79,1233.08 284.822,1218.64 \n",
       "  288.855,1421.02 292.888,1426.72 296.921,1141.51 300.953,1352.22 304.986,1450.56 309.019,1406.56 313.052,1372.41 317.085,1452.26 321.117,88.4582 325.15,1190.53 \n",
       "  329.183,1440.01 333.216,1178.1 337.249,1439.23 341.281,1168.58 345.314,1426.57 349.347,1420.68 353.38,1204.69 357.413,1452.1 361.445,1260.14 365.478,1200.97 \n",
       "  369.511,834.455 373.544,1420.26 377.576,1333.9 381.609,1442.71 385.642,1427.59 389.675,1236.02 393.708,1462.25 397.74,964.816 401.773,1437.72 405.806,1221.67 \n",
       "  409.839,1439.31 413.872,1351.42 417.904,1411.12 421.937,1174.41 425.97,1395.96 430.003,1392.95 434.036,1311.81 438.068,1457.28 442.101,1438.47 446.134,1308.49 \n",
       "  450.167,1348.85 454.199,1089.48 458.232,1412.59 462.265,1368 466.298,1097.75 470.331,1452.32 474.363,1058.74 478.396,1414.91 482.429,1391.81 486.462,1441.02 \n",
       "  490.495,1387.94 494.527,1442.78 498.56,1424.76 502.593,1461.86 506.626,1398.17 510.659,1459.01 514.691,1380.88 518.724,1461.2 522.757,1458.46 526.79,1332.16 \n",
       "  530.822,1436.07 534.855,1409.64 538.888,1456.3 542.921,1381.05 546.954,1330.74 550.986,1429.41 555.019,1449.98 559.052,1355.71 563.085,1239.4 567.118,1214.3 \n",
       "  571.15,1462.15 575.183,1386.9 579.216,901.459 583.249,1404.28 587.282,1415.16 591.314,1135.5 595.347,1423.23 599.38,1407.11 603.413,1457.45 607.445,612.65 \n",
       "  611.478,908.293 615.511,989.226 619.544,1462.16 623.577,1460.58 627.609,1446.96 631.642,905.595 635.675,1231.53 639.708,1447.66 643.741,1449.75 647.773,1355.54 \n",
       "  651.806,1417.29 655.839,1400.9 659.872,1046.88 663.905,1300.19 667.937,1442.62 671.97,1110.93 676.003,1009.58 680.036,1392.02 684.068,1461.76 688.101,1434.05 \n",
       "  692.134,1460.74 696.167,1462.08 700.2,1413.86 704.232,1459.61 708.265,1455.54 712.298,971.988 716.331,1448.69 720.364,1358.87 724.396,1456.27 728.429,1302.9 \n",
       "  732.462,1443.99 736.495,1325.31 740.528,1460.56 744.56,1462.12 748.593,1429.1 752.626,1159.52 756.659,1168.78 760.691,1321.23 764.724,1460.3 768.757,1449.93 \n",
       "  772.79,1096.36 776.823,1235.79 780.855,1457.62 784.888,1461.11 788.921,1460.62 792.954,1102.91 796.987,1353.33 801.019,987.909 805.052,1418.47 809.085,1044.45 \n",
       "  813.118,1445.73 817.15,1460.57 821.183,1254.81 825.216,1453.24 829.249,1440.48 833.282,1448.28 837.314,1462.13 841.347,1461.79 845.38,1445.48 849.413,1461.41 \n",
       "  853.446,1423.64 857.478,1276.08 861.511,1447.61 865.544,1458 869.577,1436.88 873.61,1377.84 877.642,1408.6 881.675,1457.03 885.708,1218.08 889.741,1420.44 \n",
       "  893.773,1293.67 897.806,1438.68 901.839,1459.4 905.872,1285.82 909.905,1370.71 913.937,939.988 917.97,1403.81 922.003,1301.35 926.036,993 930.069,886.085 \n",
       "  934.101,1451.61 938.134,1364.28 942.167,1441.93 946.2,1359.58 950.233,1270.51 954.265,1451.32 958.298,691.904 962.331,1459.67 966.364,1443.68 970.396,1446.54 \n",
       "  974.429,1387.5 978.462,1398.2 982.495,1400.75 986.528,1413.84 990.56,1458.23 994.593,1424.09 998.626,1363.46 1002.66,1366.42 1006.69,1270.15 1010.72,1441.07 \n",
       "  1014.76,1356.11 1018.79,1461.57 1022.82,1439.96 1026.86,1270.8 1030.89,1462.09 1034.92,1443.89 1038.95,1383.31 1042.99,1369.92 1047.02,1401.65 1051.05,1435.46 \n",
       "  1055.09,1277.63 1059.12,1432.37 1063.15,1418.29 1067.18,1050.38 1071.22,1432.64 1075.25,1428.71 1079.28,1461.71 1083.31,1462 1087.35,1448.24 1091.38,1381.12 \n",
       "  1095.41,1018.13 1099.45,1345.96 1103.48,1454.89 1107.51,1443.16 1111.54,430.193 1115.58,489.271 1119.61,1461.73 1123.64,1379.06 1127.68,974.093 1131.71,1383.16 \n",
       "  1135.74,1461.92 1139.77,1403.59 1143.81,1455.38 1147.84,1267.77 1151.87,1422.72 1155.9,1257.38 1159.94,1162.88 1163.97,1456.42 1168,1235.72 1172.04,1389.73 \n",
       "  1176.07,1460.24 1180.1,921.407 1184.13,1400.25 1188.17,1457.63 1192.2,1405.48 1196.23,1459.95 1200.27,1298 1204.3,1448.11 1208.33,1358.18 1212.36,1060.82 \n",
       "  1216.4,1384.73 1220.43,1376.36 1224.46,448.279 1228.49,1418.22 1232.53,1446.2 1236.56,1458.58 1240.59,1462.26 1244.63,1265.73 1248.66,1454.78 1252.69,1409.22 \n",
       "  1256.72,1459.16 1260.76,1434.45 1264.79,1166.87 1268.82,1440.14 1272.86,1436.49 1276.89,1088.03 1280.92,1444.9 1284.95,1446.53 1288.99,1431.21 1293.02,1087.38 \n",
       "  1297.05,1407.02 1301.09,1213.32 1305.12,1364.02 1309.15,1001.8 1313.18,1451.01 1317.22,1209.68 1321.25,1323.19 1325.28,1441.85 1329.31,1367.47 1333.35,1462.08 \n",
       "  1337.38,1212.14 1341.41,1345.52 1345.45,1314.28 1349.48,1308.91 1353.51,1401.13 1357.54,1293.27 1361.58,1461.61 1365.61,1302.16 1369.64,1279.71 1373.68,1420.51 \n",
       "  1377.71,1360.12 1381.74,1378.54 1385.77,1461.95 1389.81,1416.35 1393.84,1413.21 1397.87,1264.8 1401.9,1053.01 1405.94,1386.84 1409.97,1368.05 1414,1307.58 \n",
       "  1418.04,1317.7 1422.07,1367.96 1426.1,1090.62 1430.13,190.449 1434.17,1310.33 1438.2,1462.21 1442.23,1443.1 1446.27,1165.7 1450.3,1268.87 1454.33,1079.25 \n",
       "  1458.36,1430.96 1462.4,1391.48 1466.43,1149.67 1470.46,1383.38 1474.5,1350.47 1478.53,1455.48 1482.56,1208.24 1486.59,1423.36 1490.63,1442.75 1494.66,1422.23 \n",
       "  1498.69,1153.07 1502.72,1420.45 1506.76,1299.29 1510.79,1387.81 1514.82,1037.12 1518.86,1181.99 1522.89,1458.3 1526.92,1424.18 1530.95,1183.5 1534.99,1461.03 \n",
       "  1539.02,1448.04 1543.05,1305.07 1547.09,1356.75 1551.12,1436.2 1555.15,570.699 1559.18,1093.6 1563.22,1228.24 1567.25,1446.07 1571.28,1424.67 1575.31,1001.9 \n",
       "  1579.35,1434.32 1583.38,1090.97 1587.41,1172.22 1591.45,1351.31 1595.48,1099.14 1599.51,1162.33 1603.54,1346.59 1607.58,1428.03 1611.61,1372.86 1615.64,1459.62 \n",
       "  1619.68,1072.54 1623.71,1420.01 1627.74,1043.78 1631.77,1304.27 1635.81,1096.93 1639.84,1448.96 1643.87,1446.19 1647.91,1271.75 1651.94,1417.01 1655.97,1354.86 \n",
       "  1660,1210.5 1664.04,1444.4 1668.07,1442.01 1672.1,1432.91 1676.13,1398.03 1680.17,1453.56 1684.2,1390.11 1688.23,1279.59 1692.27,1456.99 1696.3,1459.55 \n",
       "  1700.33,1367.83 1704.36,1451.05 1708.4,1461.24 1712.43,1338.41 1716.46,1438.06 1720.5,1333.97 1724.53,1311.97 1728.56,1402.84 1732.59,1083.84 1736.63,1447.61 \n",
       "  1740.66,1461.61 1744.69,1435.26 1748.72,1450.64 1752.76,1429.41 1756.79,1451.72 1760.82,1207.87 1764.86,1428.72 1768.89,1452.39 1772.92,1060.04 1776.95,943.344 \n",
       "  1780.99,1454.23 1785.02,979.185 1789.05,1375.94 1793.09,1382.51 1797.12,1368.86 1801.15,1412.36 1805.18,879.729 1809.22,1270.35 1813.25,1462.22 1817.28,1313.77 \n",
       "  1821.31,1455.15 1825.35,1462.14 1829.38,1453.66 1833.41,1375.21 1837.45,1462.26 1841.48,1448.01 1845.51,1461.35 1849.54,1273.37 1853.58,1462.07 1857.61,1427.79 \n",
       "  1861.64,1052.54 1865.68,1423.64 1869.71,1461.78 1873.74,1399.41 1877.77,1336.66 1881.81,1461.3 1885.84,1418.05 1889.87,1461.49 1893.91,1238.41 1897.94,1363.62 \n",
       "  1901.97,1461.81 1906,1460.58 1910.04,1446.77 1914.07,1435.5 1918.1,1461.63 1922.13,1273.26 1926.17,1432.12 1930.2,1461.98 1934.23,1173.62 1938.27,1370.94 \n",
       "  1942.3,1371.55 1946.33,1363.75 1950.36,1214.29 1954.4,1286.93 1958.43,1384.6 1962.46,1456.86 1966.5,1425.38 1970.53,1455.39 1974.56,1454.31 1978.59,1345.55 \n",
       "  1982.63,1352.46 1986.66,1395.97 1990.69,907.358 1994.72,1460.86 1998.76,1462.25 2002.79,878.091 2006.82,688.611 2010.86,1462.07 2014.89,1407.75 2018.92,1248.54 \n",
       "  2022.95,1447.04 2026.99,1361.69 2031.02,1461.58 2035.05,1415.5 2039.09,1384.01 2043.12,1440.44 2047.15,1143.18 2051.18,1462.18 2055.22,1230.17 2059.25,1460.58 \n",
       "  2063.28,1462.02 2067.32,1233.89 2071.35,1302.11 2075.38,1454.25 2079.41,1365.99 2083.45,1279.83 2087.48,1461.19 2091.51,1414.42 2095.54,1440.74 2099.58,1446.44 \n",
       "  2103.61,1425.68 2107.64,1431.25 2111.68,1357.03 2115.71,1091.44 2119.74,1446.58 2123.77,1164.89 2127.81,1343.83 2131.84,1459.58 2135.87,1462.13 2139.91,1370.96 \n",
       "  2143.94,795.04 2147.97,1386.22 2152,1383.5 2156.04,1232.1 2160.07,1137.25 2164.1,1117.55 2168.13,1453.08 2172.17,1457.11 2176.2,1392.15 2180.23,1346.74 \n",
       "  2184.27,1456.54 2188.3,1369.69 2192.33,1432.66 2196.36,1459.18 2200.4,1373.2 2204.43,1175.91 2208.46,1422.15 2212.5,1454.12 2216.53,1333.46 2220.56,1442.92 \n",
       "  2224.59,1445.55 2228.63,1360.21 2232.66,1447.98 2236.69,1199.61 2240.73,1444.28 2244.76,1327.96 2248.79,1441.78 2252.82,1433.28 2256.86,1446.44 2260.89,1436.46 \n",
       "  \n",
       "  \"/>\n",
       "<polygon clip-path=\"url(#clip6501)\" points=\"\n",
       "1958.43,251.724 2249.26,251.724 2249.26,130.764 1958.43,130.764 \n",
       "  \" fill=\"#ffffff\" fill-rule=\"evenodd\" fill-opacity=\"1\"/>\n",
       "<polyline clip-path=\"url(#clip6501)\" style=\"stroke:#000000; stroke-width:4; stroke-opacity:1; fill:none\" points=\"\n",
       "  1958.43,251.724 2249.26,251.724 2249.26,130.764 1958.43,130.764 1958.43,251.724 \n",
       "  \"/>\n",
       "<polyline clip-path=\"url(#clip6501)\" style=\"stroke:#009af9; stroke-width:4; stroke-opacity:1; fill:none\" points=\"\n",
       "  1982.43,191.244 2126.43,191.244 \n",
       "  \"/>\n",
       "<g clip-path=\"url(#clip6501)\">\n",
       "<text style=\"fill:#000000; fill-opacity:1; font-family:Arial,Helvetica Neue,Helvetica,sans-serif; font-size:48px; text-anchor:start;\" transform=\"rotate(0, 2150.43, 208.744)\" x=\"2150.43\" y=\"208.744\">y1</text>\n",
       "</g>\n",
       "</svg>\n"
      ]
     },
     "execution_count": 10,
     "metadata": {},
     "output_type": "execute_result"
    }
   ],
   "source": [
    "plot(data)"
   ]
  },
  {
   "cell_type": "code",
   "execution_count": 11,
   "metadata": {},
   "outputs": [
    {
     "data": {
      "image/svg+xml": [
       "<?xml version=\"1.0\" encoding=\"utf-8\"?>\n",
       "<svg xmlns=\"http://www.w3.org/2000/svg\" xmlns:xlink=\"http://www.w3.org/1999/xlink\" width=\"600\" height=\"400\" viewBox=\"0 0 2400 1600\">\n",
       "<defs>\n",
       "  <clipPath id=\"clip6700\">\n",
       "    <rect x=\"0\" y=\"0\" width=\"2000\" height=\"2000\"/>\n",
       "  </clipPath>\n",
       "</defs>\n",
       "<defs>\n",
       "  <clipPath id=\"clip6701\">\n",
       "    <rect x=\"0\" y=\"0\" width=\"2400\" height=\"1600\"/>\n",
       "  </clipPath>\n",
       "</defs>\n",
       "<polygon clip-path=\"url(#clip6701)\" points=\"\n",
       "0,1600 2400,1600 2400,0 0,0 \n",
       "  \" fill=\"#ffffff\" fill-rule=\"evenodd\" fill-opacity=\"1\"/>\n",
       "<defs>\n",
       "  <clipPath id=\"clip6702\">\n",
       "    <rect x=\"480\" y=\"0\" width=\"1681\" height=\"1600\"/>\n",
       "  </clipPath>\n",
       "</defs>\n",
       "<polygon clip-path=\"url(#clip6701)\" points=\"\n",
       "149.361,1503.47 2321.26,1503.47 2321.26,47.2441 149.361,47.2441 \n",
       "  \" fill=\"#ffffff\" fill-rule=\"evenodd\" fill-opacity=\"1\"/>\n",
       "<defs>\n",
       "  <clipPath id=\"clip6703\">\n",
       "    <rect x=\"149\" y=\"47\" width=\"2173\" height=\"1457\"/>\n",
       "  </clipPath>\n",
       "</defs>\n",
       "<polyline clip-path=\"url(#clip6703)\" style=\"stroke:#000000; stroke-width:2; stroke-opacity:0.1; fill:none\" points=\"\n",
       "  190.133,1503.47 190.133,47.2441 \n",
       "  \"/>\n",
       "<polyline clip-path=\"url(#clip6703)\" style=\"stroke:#000000; stroke-width:2; stroke-opacity:0.1; fill:none\" points=\"\n",
       "  707.547,1503.47 707.547,47.2441 \n",
       "  \"/>\n",
       "<polyline clip-path=\"url(#clip6703)\" style=\"stroke:#000000; stroke-width:2; stroke-opacity:0.1; fill:none\" points=\"\n",
       "  1224.96,1503.47 1224.96,47.2441 \n",
       "  \"/>\n",
       "<polyline clip-path=\"url(#clip6703)\" style=\"stroke:#000000; stroke-width:2; stroke-opacity:0.1; fill:none\" points=\"\n",
       "  1742.38,1503.47 1742.38,47.2441 \n",
       "  \"/>\n",
       "<polyline clip-path=\"url(#clip6703)\" style=\"stroke:#000000; stroke-width:2; stroke-opacity:0.1; fill:none\" points=\"\n",
       "  2259.79,1503.47 2259.79,47.2441 \n",
       "  \"/>\n",
       "<polyline clip-path=\"url(#clip6703)\" style=\"stroke:#000000; stroke-width:2; stroke-opacity:0.1; fill:none\" points=\"\n",
       "  149.361,1386.32 2321.26,1386.32 \n",
       "  \"/>\n",
       "<polyline clip-path=\"url(#clip6703)\" style=\"stroke:#000000; stroke-width:2; stroke-opacity:0.1; fill:none\" points=\"\n",
       "  149.361,1086.43 2321.26,1086.43 \n",
       "  \"/>\n",
       "<polyline clip-path=\"url(#clip6703)\" style=\"stroke:#000000; stroke-width:2; stroke-opacity:0.1; fill:none\" points=\"\n",
       "  149.361,786.532 2321.26,786.532 \n",
       "  \"/>\n",
       "<polyline clip-path=\"url(#clip6703)\" style=\"stroke:#000000; stroke-width:2; stroke-opacity:0.1; fill:none\" points=\"\n",
       "  149.361,486.637 2321.26,486.637 \n",
       "  \"/>\n",
       "<polyline clip-path=\"url(#clip6703)\" style=\"stroke:#000000; stroke-width:2; stroke-opacity:0.1; fill:none\" points=\"\n",
       "  149.361,186.743 2321.26,186.743 \n",
       "  \"/>\n",
       "<polyline clip-path=\"url(#clip6701)\" style=\"stroke:#000000; stroke-width:4; stroke-opacity:1; fill:none\" points=\"\n",
       "  149.361,1503.47 2321.26,1503.47 \n",
       "  \"/>\n",
       "<polyline clip-path=\"url(#clip6701)\" style=\"stroke:#000000; stroke-width:4; stroke-opacity:1; fill:none\" points=\"\n",
       "  149.361,1503.47 149.361,47.2441 \n",
       "  \"/>\n",
       "<polyline clip-path=\"url(#clip6701)\" style=\"stroke:#000000; stroke-width:4; stroke-opacity:1; fill:none\" points=\"\n",
       "  190.133,1503.47 190.133,1481.63 \n",
       "  \"/>\n",
       "<polyline clip-path=\"url(#clip6701)\" style=\"stroke:#000000; stroke-width:4; stroke-opacity:1; fill:none\" points=\"\n",
       "  707.547,1503.47 707.547,1481.63 \n",
       "  \"/>\n",
       "<polyline clip-path=\"url(#clip6701)\" style=\"stroke:#000000; stroke-width:4; stroke-opacity:1; fill:none\" points=\"\n",
       "  1224.96,1503.47 1224.96,1481.63 \n",
       "  \"/>\n",
       "<polyline clip-path=\"url(#clip6701)\" style=\"stroke:#000000; stroke-width:4; stroke-opacity:1; fill:none\" points=\"\n",
       "  1742.38,1503.47 1742.38,1481.63 \n",
       "  \"/>\n",
       "<polyline clip-path=\"url(#clip6701)\" style=\"stroke:#000000; stroke-width:4; stroke-opacity:1; fill:none\" points=\"\n",
       "  2259.79,1503.47 2259.79,1481.63 \n",
       "  \"/>\n",
       "<polyline clip-path=\"url(#clip6701)\" style=\"stroke:#000000; stroke-width:4; stroke-opacity:1; fill:none\" points=\"\n",
       "  149.361,1386.32 181.939,1386.32 \n",
       "  \"/>\n",
       "<polyline clip-path=\"url(#clip6701)\" style=\"stroke:#000000; stroke-width:4; stroke-opacity:1; fill:none\" points=\"\n",
       "  149.361,1086.43 181.939,1086.43 \n",
       "  \"/>\n",
       "<polyline clip-path=\"url(#clip6701)\" style=\"stroke:#000000; stroke-width:4; stroke-opacity:1; fill:none\" points=\"\n",
       "  149.361,786.532 181.939,786.532 \n",
       "  \"/>\n",
       "<polyline clip-path=\"url(#clip6701)\" style=\"stroke:#000000; stroke-width:4; stroke-opacity:1; fill:none\" points=\"\n",
       "  149.361,486.637 181.939,486.637 \n",
       "  \"/>\n",
       "<polyline clip-path=\"url(#clip6701)\" style=\"stroke:#000000; stroke-width:4; stroke-opacity:1; fill:none\" points=\"\n",
       "  149.361,186.743 181.939,186.743 \n",
       "  \"/>\n",
       "<g clip-path=\"url(#clip6701)\">\n",
       "<text style=\"fill:#000000; fill-opacity:1; font-family:Arial,Helvetica Neue,Helvetica,sans-serif; font-size:48px; text-anchor:middle;\" transform=\"rotate(0, 190.133, 1557.47)\" x=\"190.133\" y=\"1557.47\">0</text>\n",
       "</g>\n",
       "<g clip-path=\"url(#clip6701)\">\n",
       "<text style=\"fill:#000000; fill-opacity:1; font-family:Arial,Helvetica Neue,Helvetica,sans-serif; font-size:48px; text-anchor:middle;\" transform=\"rotate(0, 707.547, 1557.47)\" x=\"707.547\" y=\"1557.47\">25</text>\n",
       "</g>\n",
       "<g clip-path=\"url(#clip6701)\">\n",
       "<text style=\"fill:#000000; fill-opacity:1; font-family:Arial,Helvetica Neue,Helvetica,sans-serif; font-size:48px; text-anchor:middle;\" transform=\"rotate(0, 1224.96, 1557.47)\" x=\"1224.96\" y=\"1557.47\">50</text>\n",
       "</g>\n",
       "<g clip-path=\"url(#clip6701)\">\n",
       "<text style=\"fill:#000000; fill-opacity:1; font-family:Arial,Helvetica Neue,Helvetica,sans-serif; font-size:48px; text-anchor:middle;\" transform=\"rotate(0, 1742.38, 1557.47)\" x=\"1742.38\" y=\"1557.47\">75</text>\n",
       "</g>\n",
       "<g clip-path=\"url(#clip6701)\">\n",
       "<text style=\"fill:#000000; fill-opacity:1; font-family:Arial,Helvetica Neue,Helvetica,sans-serif; font-size:48px; text-anchor:middle;\" transform=\"rotate(0, 2259.79, 1557.47)\" x=\"2259.79\" y=\"1557.47\">100</text>\n",
       "</g>\n",
       "<g clip-path=\"url(#clip6701)\">\n",
       "<text style=\"fill:#000000; fill-opacity:1; font-family:Arial,Helvetica Neue,Helvetica,sans-serif; font-size:48px; text-anchor:end;\" transform=\"rotate(0, 125.361, 1403.82)\" x=\"125.361\" y=\"1403.82\">-2</text>\n",
       "</g>\n",
       "<g clip-path=\"url(#clip6701)\">\n",
       "<text style=\"fill:#000000; fill-opacity:1; font-family:Arial,Helvetica Neue,Helvetica,sans-serif; font-size:48px; text-anchor:end;\" transform=\"rotate(0, 125.361, 1103.93)\" x=\"125.361\" y=\"1103.93\">0</text>\n",
       "</g>\n",
       "<g clip-path=\"url(#clip6701)\">\n",
       "<text style=\"fill:#000000; fill-opacity:1; font-family:Arial,Helvetica Neue,Helvetica,sans-serif; font-size:48px; text-anchor:end;\" transform=\"rotate(0, 125.361, 804.032)\" x=\"125.361\" y=\"804.032\">2</text>\n",
       "</g>\n",
       "<g clip-path=\"url(#clip6701)\">\n",
       "<text style=\"fill:#000000; fill-opacity:1; font-family:Arial,Helvetica Neue,Helvetica,sans-serif; font-size:48px; text-anchor:end;\" transform=\"rotate(0, 125.361, 504.137)\" x=\"125.361\" y=\"504.137\">4</text>\n",
       "</g>\n",
       "<g clip-path=\"url(#clip6701)\">\n",
       "<text style=\"fill:#000000; fill-opacity:1; font-family:Arial,Helvetica Neue,Helvetica,sans-serif; font-size:48px; text-anchor:end;\" transform=\"rotate(0, 125.361, 204.243)\" x=\"125.361\" y=\"204.243\">6</text>\n",
       "</g>\n",
       "<polyline clip-path=\"url(#clip6703)\" style=\"stroke:#009af9; stroke-width:4; stroke-opacity:1; fill:none\" points=\"\n",
       "  210.829,1015.31 231.526,1082.64 252.223,1083.5 272.919,1025.11 293.616,1079.6 314.312,1036.3 335.009,613.984 355.706,1085.94 376.402,1071.24 397.099,968.842 \n",
       "  417.795,901.505 438.492,963.137 459.188,1085.78 479.885,926.998 500.582,1026.2 521.278,88.4582 541.975,1054.2 562.671,1015.95 583.368,1085.76 604.065,1066.13 \n",
       "  624.761,969.141 645.458,659.509 666.154,581.046 686.851,1076.83 707.547,833.361 728.244,794.441 748.941,590.298 769.637,1054.09 790.334,1040.79 811.03,869.07 \n",
       "  831.727,722.063 852.423,694.302 873.12,1032.21 893.817,1068.11 914.513,1044.7 935.21,855.455 955.906,236.338 976.603,144.423 997.3,1050.64 1018,989.284 \n",
       "  1038.69,985.71 1059.39,760.365 1080.09,1037.92 1100.78,1049.32 1121.48,1060.35 1142.18,444.484 1162.87,771.31 1183.57,983.238 1204.27,1083.8 1224.96,954.61 \n",
       "  1245.66,1001.75 1266.36,687.76 1287.05,1081.76 1307.75,1034.11 1328.44,1083.23 1349.14,1083.35 1369.84,891.759 1390.53,1019.15 1411.23,1013.36 1431.93,1057.21 \n",
       "  1452.62,1052.11 1473.32,1075.29 1494.02,885.639 1514.71,710.297 1535.41,1016 1556.11,1083.77 1576.8,1039.6 1597.5,1009.74 1618.2,937.895 1638.89,982.62 \n",
       "  1659.59,1004.87 1680.29,1083.35 1700.98,869.017 1721.68,1086.4 1742.38,1086.31 1763.07,1079.3 1783.77,971.747 1804.47,873.197 1825.16,1061.97 1845.86,1085.64 \n",
       "  1866.56,1014.91 1887.25,1086.39 1907.95,1081.94 1928.65,1081.55 1949.34,933.067 1970.04,1054.61 1990.74,812.331 2011.43,1082.27 2032.13,263.495 2052.83,1078.37 \n",
       "  2073.52,1086.29 2094.22,824.774 2114.91,1079.64 2135.61,1078.04 2156.31,979.308 2177,822.905 2197.7,1056.37 2218.4,1052.89 2239.09,741.551 2259.79,469.824 \n",
       "  \n",
       "  \"/>\n",
       "<polyline clip-path=\"url(#clip6703)\" style=\"stroke:#e26f46; stroke-width:4; stroke-opacity:1; fill:none\" points=\"\n",
       "  210.829,1189.69 231.526,1110.26 252.223,1065.49 272.919,1182.31 293.616,1118.41 314.312,1173.12 335.009,820.266 355.706,1094.96 376.402,1038.7 397.099,953.643 \n",
       "  417.795,919.908 438.492,1222.39 459.188,1076.55 479.885,931.811 500.582,991.396 521.278,699.59 541.975,1016.91 562.671,983.624 583.368,1096.39 604.065,1141.59 \n",
       "  624.761,1219.04 645.458,833.415 666.154,811.144 686.851,1048.49 707.547,1281.23 728.244,1295.67 748.941,813.676 769.637,1156.06 790.334,1003.71 811.03,905.894 \n",
       "  831.727,852.685 852.423,1328.91 873.12,1176.59 893.817,1034.02 914.513,1007.33 935.21,1272.53 955.906,1443.45 976.603,1462.26 997.3,1159.68 1018,965.736 \n",
       "  1038.69,1209.32 1059.39,865.311 1080.09,1171.71 1100.78,1161.02 1121.48,1023.9 1142.18,776.173 1162.87,1303.8 1183.57,962.037 1204.27,1106.26 1224.96,1227.02 \n",
       "  1245.66,973.747 1266.36,841.929 1287.05,1059.96 1307.75,997.857 1328.44,1064.53 1349.14,1107.89 1369.84,1257.28 1390.53,985.988 1411.23,1191.1 1431.93,1152.62 \n",
       "  1452.62,1158.16 1473.32,1045.55 1494.02,912.911 1514.71,1323.91 1535.41,1189.19 1556.11,1066.49 1576.8,1002.63 1597.5,1193.66 1618.2,1235.66 1638.89,961.665 \n",
       "  1659.59,975.838 1680.29,1064.95 1700.98,905.872 1721.68,1088.27 1742.38,1090.67 1763.07,1053.73 1783.77,955.294 1804.47,907.616 1825.16,1146.98 1845.86,1075.57 \n",
       "  1866.56,1189.98 1887.25,1084.24 1907.95,1060.48 1928.65,1059.38 1949.34,934.783 1970.04,1155.5 1990.74,1289.16 2011.43,1111.39 2032.13,735.149 2052.83,1051.68 \n",
       "  2073.52,1081.89 2094.22,888.351 2114.91,1054.53 2135.61,1121.88 2156.31,959.69 2177,1285.21 2197.7,1153.56 2218.4,1015.51 2239.09,1313.83 2259.79,782.358 \n",
       "  \n",
       "  \"/>\n",
       "<polygon clip-path=\"url(#clip6701)\" points=\"\n",
       "1935.86,312.204 2249.26,312.204 2249.26,130.764 1935.86,130.764 \n",
       "  \" fill=\"#ffffff\" fill-rule=\"evenodd\" fill-opacity=\"1\"/>\n",
       "<polyline clip-path=\"url(#clip6701)\" style=\"stroke:#000000; stroke-width:4; stroke-opacity:1; fill:none\" points=\"\n",
       "  1935.86,312.204 2249.26,312.204 2249.26,130.764 1935.86,130.764 1935.86,312.204 \n",
       "  \"/>\n",
       "<polyline clip-path=\"url(#clip6701)\" style=\"stroke:#009af9; stroke-width:4; stroke-opacity:1; fill:none\" points=\"\n",
       "  1959.86,191.244 2103.86,191.244 \n",
       "  \"/>\n",
       "<g clip-path=\"url(#clip6701)\">\n",
       "<text style=\"fill:#000000; fill-opacity:1; font-family:Arial,Helvetica Neue,Helvetica,sans-serif; font-size:48px; text-anchor:start;\" transform=\"rotate(0, 2127.86, 208.744)\" x=\"2127.86\" y=\"208.744\">x^2</text>\n",
       "</g>\n",
       "<polyline clip-path=\"url(#clip6701)\" style=\"stroke:#e26f46; stroke-width:4; stroke-opacity:1; fill:none\" points=\"\n",
       "  1959.86,251.724 2103.86,251.724 \n",
       "  \"/>\n",
       "<g clip-path=\"url(#clip6701)\">\n",
       "<text style=\"fill:#000000; fill-opacity:1; font-family:Arial,Helvetica Neue,Helvetica,sans-serif; font-size:48px; text-anchor:start;\" transform=\"rotate(0, 2127.86, 269.224)\" x=\"2127.86\" y=\"269.224\">x</text>\n",
       "</g>\n",
       "</svg>\n"
      ]
     },
     "execution_count": 11,
     "metadata": {},
     "output_type": "execute_result"
    }
   ],
   "source": [
    "# direct solution with broadcasting, and small user-defined function\n",
    "n = 100\n",
    "f(x) = x^2\n",
    "\n",
    "x = randn(n)\n",
    "plot(f.(x), label=\"x^2\")\n",
    "plot!(x, label=\"x\") # layer on the same plot"
   ]
  },
  {
   "cell_type": "code",
   "execution_count": 13,
   "metadata": {},
   "outputs": [],
   "source": [
    "using Distributions"
   ]
  },
  {
   "cell_type": "code",
   "execution_count": 14,
   "metadata": {},
   "outputs": [
    {
     "data": {
      "image/svg+xml": [
       "<?xml version=\"1.0\" encoding=\"utf-8\"?>\n",
       "<svg xmlns=\"http://www.w3.org/2000/svg\" xmlns:xlink=\"http://www.w3.org/1999/xlink\" width=\"600\" height=\"400\" viewBox=\"0 0 2400 1600\">\n",
       "<defs>\n",
       "  <clipPath id=\"clip6900\">\n",
       "    <rect x=\"0\" y=\"0\" width=\"2000\" height=\"2000\"/>\n",
       "  </clipPath>\n",
       "</defs>\n",
       "<defs>\n",
       "  <clipPath id=\"clip6901\">\n",
       "    <rect x=\"0\" y=\"0\" width=\"2400\" height=\"1600\"/>\n",
       "  </clipPath>\n",
       "</defs>\n",
       "<polygon clip-path=\"url(#clip6901)\" points=\"\n",
       "0,1600 2400,1600 2400,0 0,0 \n",
       "  \" fill=\"#ffffff\" fill-rule=\"evenodd\" fill-opacity=\"1\"/>\n",
       "<defs>\n",
       "  <clipPath id=\"clip6902\">\n",
       "    <rect x=\"480\" y=\"0\" width=\"1681\" height=\"1600\"/>\n",
       "  </clipPath>\n",
       "</defs>\n",
       "<polygon clip-path=\"url(#clip6901)\" points=\"\n",
       "174.775,1503.47 2321.26,1503.47 2321.26,47.2441 174.775,47.2441 \n",
       "  \" fill=\"#ffffff\" fill-rule=\"evenodd\" fill-opacity=\"1\"/>\n",
       "<defs>\n",
       "  <clipPath id=\"clip6903\">\n",
       "    <rect x=\"174\" y=\"47\" width=\"2147\" height=\"1457\"/>\n",
       "  </clipPath>\n",
       "</defs>\n",
       "<polyline clip-path=\"url(#clip6903)\" style=\"stroke:#000000; stroke-width:2; stroke-opacity:0.1; fill:none\" points=\"\n",
       "  420.193,1503.47 420.193,47.2441 \n",
       "  \"/>\n",
       "<polyline clip-path=\"url(#clip6903)\" style=\"stroke:#000000; stroke-width:2; stroke-opacity:0.1; fill:none\" points=\"\n",
       "  738.587,1503.47 738.587,47.2441 \n",
       "  \"/>\n",
       "<polyline clip-path=\"url(#clip6903)\" style=\"stroke:#000000; stroke-width:2; stroke-opacity:0.1; fill:none\" points=\"\n",
       "  1056.98,1503.47 1056.98,47.2441 \n",
       "  \"/>\n",
       "<polyline clip-path=\"url(#clip6903)\" style=\"stroke:#000000; stroke-width:2; stroke-opacity:0.1; fill:none\" points=\"\n",
       "  1375.38,1503.47 1375.38,47.2441 \n",
       "  \"/>\n",
       "<polyline clip-path=\"url(#clip6903)\" style=\"stroke:#000000; stroke-width:2; stroke-opacity:0.1; fill:none\" points=\"\n",
       "  1693.77,1503.47 1693.77,47.2441 \n",
       "  \"/>\n",
       "<polyline clip-path=\"url(#clip6903)\" style=\"stroke:#000000; stroke-width:2; stroke-opacity:0.1; fill:none\" points=\"\n",
       "  2012.16,1503.47 2012.16,47.2441 \n",
       "  \"/>\n",
       "<polyline clip-path=\"url(#clip6903)\" style=\"stroke:#000000; stroke-width:2; stroke-opacity:0.1; fill:none\" points=\"\n",
       "  174.775,1462.26 2321.26,1462.26 \n",
       "  \"/>\n",
       "<polyline clip-path=\"url(#clip6903)\" style=\"stroke:#000000; stroke-width:2; stroke-opacity:0.1; fill:none\" points=\"\n",
       "  174.775,1135.16 2321.26,1135.16 \n",
       "  \"/>\n",
       "<polyline clip-path=\"url(#clip6903)\" style=\"stroke:#000000; stroke-width:2; stroke-opacity:0.1; fill:none\" points=\"\n",
       "  174.775,808.069 2321.26,808.069 \n",
       "  \"/>\n",
       "<polyline clip-path=\"url(#clip6903)\" style=\"stroke:#000000; stroke-width:2; stroke-opacity:0.1; fill:none\" points=\"\n",
       "  174.775,480.973 2321.26,480.973 \n",
       "  \"/>\n",
       "<polyline clip-path=\"url(#clip6903)\" style=\"stroke:#000000; stroke-width:2; stroke-opacity:0.1; fill:none\" points=\"\n",
       "  174.775,153.877 2321.26,153.877 \n",
       "  \"/>\n",
       "<polyline clip-path=\"url(#clip6901)\" style=\"stroke:#000000; stroke-width:4; stroke-opacity:1; fill:none\" points=\"\n",
       "  174.775,1503.47 2321.26,1503.47 \n",
       "  \"/>\n",
       "<polyline clip-path=\"url(#clip6901)\" style=\"stroke:#000000; stroke-width:4; stroke-opacity:1; fill:none\" points=\"\n",
       "  174.775,1503.47 174.775,47.2441 \n",
       "  \"/>\n",
       "<polyline clip-path=\"url(#clip6901)\" style=\"stroke:#000000; stroke-width:4; stroke-opacity:1; fill:none\" points=\"\n",
       "  420.193,1503.47 420.193,1481.63 \n",
       "  \"/>\n",
       "<polyline clip-path=\"url(#clip6901)\" style=\"stroke:#000000; stroke-width:4; stroke-opacity:1; fill:none\" points=\"\n",
       "  738.587,1503.47 738.587,1481.63 \n",
       "  \"/>\n",
       "<polyline clip-path=\"url(#clip6901)\" style=\"stroke:#000000; stroke-width:4; stroke-opacity:1; fill:none\" points=\"\n",
       "  1056.98,1503.47 1056.98,1481.63 \n",
       "  \"/>\n",
       "<polyline clip-path=\"url(#clip6901)\" style=\"stroke:#000000; stroke-width:4; stroke-opacity:1; fill:none\" points=\"\n",
       "  1375.38,1503.47 1375.38,1481.63 \n",
       "  \"/>\n",
       "<polyline clip-path=\"url(#clip6901)\" style=\"stroke:#000000; stroke-width:4; stroke-opacity:1; fill:none\" points=\"\n",
       "  1693.77,1503.47 1693.77,1481.63 \n",
       "  \"/>\n",
       "<polyline clip-path=\"url(#clip6901)\" style=\"stroke:#000000; stroke-width:4; stroke-opacity:1; fill:none\" points=\"\n",
       "  2012.16,1503.47 2012.16,1481.63 \n",
       "  \"/>\n",
       "<polyline clip-path=\"url(#clip6901)\" style=\"stroke:#000000; stroke-width:4; stroke-opacity:1; fill:none\" points=\"\n",
       "  174.775,1462.26 206.972,1462.26 \n",
       "  \"/>\n",
       "<polyline clip-path=\"url(#clip6901)\" style=\"stroke:#000000; stroke-width:4; stroke-opacity:1; fill:none\" points=\"\n",
       "  174.775,1135.16 206.972,1135.16 \n",
       "  \"/>\n",
       "<polyline clip-path=\"url(#clip6901)\" style=\"stroke:#000000; stroke-width:4; stroke-opacity:1; fill:none\" points=\"\n",
       "  174.775,808.069 206.972,808.069 \n",
       "  \"/>\n",
       "<polyline clip-path=\"url(#clip6901)\" style=\"stroke:#000000; stroke-width:4; stroke-opacity:1; fill:none\" points=\"\n",
       "  174.775,480.973 206.972,480.973 \n",
       "  \"/>\n",
       "<polyline clip-path=\"url(#clip6901)\" style=\"stroke:#000000; stroke-width:4; stroke-opacity:1; fill:none\" points=\"\n",
       "  174.775,153.877 206.972,153.877 \n",
       "  \"/>\n",
       "<g clip-path=\"url(#clip6901)\">\n",
       "<text style=\"fill:#000000; fill-opacity:1; font-family:Arial,Helvetica Neue,Helvetica,sans-serif; font-size:48px; text-anchor:middle;\" transform=\"rotate(0, 420.193, 1557.47)\" x=\"420.193\" y=\"1557.47\">-7.5</text>\n",
       "</g>\n",
       "<g clip-path=\"url(#clip6901)\">\n",
       "<text style=\"fill:#000000; fill-opacity:1; font-family:Arial,Helvetica Neue,Helvetica,sans-serif; font-size:48px; text-anchor:middle;\" transform=\"rotate(0, 738.587, 1557.47)\" x=\"738.587\" y=\"1557.47\">-5.0</text>\n",
       "</g>\n",
       "<g clip-path=\"url(#clip6901)\">\n",
       "<text style=\"fill:#000000; fill-opacity:1; font-family:Arial,Helvetica Neue,Helvetica,sans-serif; font-size:48px; text-anchor:middle;\" transform=\"rotate(0, 1056.98, 1557.47)\" x=\"1056.98\" y=\"1557.47\">-2.5</text>\n",
       "</g>\n",
       "<g clip-path=\"url(#clip6901)\">\n",
       "<text style=\"fill:#000000; fill-opacity:1; font-family:Arial,Helvetica Neue,Helvetica,sans-serif; font-size:48px; text-anchor:middle;\" transform=\"rotate(0, 1375.38, 1557.47)\" x=\"1375.38\" y=\"1557.47\">0.0</text>\n",
       "</g>\n",
       "<g clip-path=\"url(#clip6901)\">\n",
       "<text style=\"fill:#000000; fill-opacity:1; font-family:Arial,Helvetica Neue,Helvetica,sans-serif; font-size:48px; text-anchor:middle;\" transform=\"rotate(0, 1693.77, 1557.47)\" x=\"1693.77\" y=\"1557.47\">2.5</text>\n",
       "</g>\n",
       "<g clip-path=\"url(#clip6901)\">\n",
       "<text style=\"fill:#000000; fill-opacity:1; font-family:Arial,Helvetica Neue,Helvetica,sans-serif; font-size:48px; text-anchor:middle;\" transform=\"rotate(0, 2012.16, 1557.47)\" x=\"2012.16\" y=\"1557.47\">5.0</text>\n",
       "</g>\n",
       "<g clip-path=\"url(#clip6901)\">\n",
       "<text style=\"fill:#000000; fill-opacity:1; font-family:Arial,Helvetica Neue,Helvetica,sans-serif; font-size:48px; text-anchor:end;\" transform=\"rotate(0, 150.775, 1479.76)\" x=\"150.775\" y=\"1479.76\">0</text>\n",
       "</g>\n",
       "<g clip-path=\"url(#clip6901)\">\n",
       "<text style=\"fill:#000000; fill-opacity:1; font-family:Arial,Helvetica Neue,Helvetica,sans-serif; font-size:48px; text-anchor:end;\" transform=\"rotate(0, 150.775, 1152.66)\" x=\"150.775\" y=\"1152.66\">25</text>\n",
       "</g>\n",
       "<g clip-path=\"url(#clip6901)\">\n",
       "<text style=\"fill:#000000; fill-opacity:1; font-family:Arial,Helvetica Neue,Helvetica,sans-serif; font-size:48px; text-anchor:end;\" transform=\"rotate(0, 150.775, 825.569)\" x=\"150.775\" y=\"825.569\">50</text>\n",
       "</g>\n",
       "<g clip-path=\"url(#clip6901)\">\n",
       "<text style=\"fill:#000000; fill-opacity:1; font-family:Arial,Helvetica Neue,Helvetica,sans-serif; font-size:48px; text-anchor:end;\" transform=\"rotate(0, 150.775, 498.473)\" x=\"150.775\" y=\"498.473\">75</text>\n",
       "</g>\n",
       "<g clip-path=\"url(#clip6901)\">\n",
       "<text style=\"fill:#000000; fill-opacity:1; font-family:Arial,Helvetica Neue,Helvetica,sans-serif; font-size:48px; text-anchor:end;\" transform=\"rotate(0, 150.775, 171.377)\" x=\"150.775\" y=\"171.377\">100</text>\n",
       "</g>\n",
       "<polygon clip-path=\"url(#clip6903)\" points=\"\n",
       "292.836,1449.18 292.836,1462.26 356.514,1462.26 356.514,1449.18 292.836,1449.18 292.836,1449.18 \n",
       "  \" fill=\"#009af9\" fill-rule=\"evenodd\" fill-opacity=\"1\"/>\n",
       "<polyline clip-path=\"url(#clip6903)\" style=\"stroke:#000000; stroke-width:4; stroke-opacity:1; fill:none\" points=\"\n",
       "  292.836,1449.18 292.836,1462.26 356.514,1462.26 356.514,1449.18 292.836,1449.18 \n",
       "  \"/>\n",
       "<polygon clip-path=\"url(#clip6903)\" points=\"\n",
       "356.514,1462.26 356.514,1462.26 420.193,1462.26 420.193,1462.26 356.514,1462.26 356.514,1462.26 \n",
       "  \" fill=\"#009af9\" fill-rule=\"evenodd\" fill-opacity=\"1\"/>\n",
       "<polyline clip-path=\"url(#clip6903)\" style=\"stroke:#000000; stroke-width:4; stroke-opacity:1; fill:none\" points=\"\n",
       "  356.514,1462.26 356.514,1462.26 420.193,1462.26 356.514,1462.26 \n",
       "  \"/>\n",
       "<polygon clip-path=\"url(#clip6903)\" points=\"\n",
       "420.193,1462.26 420.193,1462.26 483.872,1462.26 483.872,1462.26 420.193,1462.26 420.193,1462.26 \n",
       "  \" fill=\"#009af9\" fill-rule=\"evenodd\" fill-opacity=\"1\"/>\n",
       "<polyline clip-path=\"url(#clip6903)\" style=\"stroke:#000000; stroke-width:4; stroke-opacity:1; fill:none\" points=\"\n",
       "  420.193,1462.26 420.193,1462.26 483.872,1462.26 420.193,1462.26 \n",
       "  \"/>\n",
       "<polygon clip-path=\"url(#clip6903)\" points=\"\n",
       "483.872,1462.26 483.872,1462.26 547.551,1462.26 547.551,1462.26 483.872,1462.26 483.872,1462.26 \n",
       "  \" fill=\"#009af9\" fill-rule=\"evenodd\" fill-opacity=\"1\"/>\n",
       "<polyline clip-path=\"url(#clip6903)\" style=\"stroke:#000000; stroke-width:4; stroke-opacity:1; fill:none\" points=\"\n",
       "  483.872,1462.26 483.872,1462.26 547.551,1462.26 483.872,1462.26 \n",
       "  \"/>\n",
       "<polygon clip-path=\"url(#clip6903)\" points=\"\n",
       "547.551,1462.26 547.551,1462.26 611.23,1462.26 611.23,1462.26 547.551,1462.26 547.551,1462.26 \n",
       "  \" fill=\"#009af9\" fill-rule=\"evenodd\" fill-opacity=\"1\"/>\n",
       "<polyline clip-path=\"url(#clip6903)\" style=\"stroke:#000000; stroke-width:4; stroke-opacity:1; fill:none\" points=\"\n",
       "  547.551,1462.26 547.551,1462.26 611.23,1462.26 547.551,1462.26 \n",
       "  \"/>\n",
       "<polygon clip-path=\"url(#clip6903)\" points=\"\n",
       "611.23,1449.18 611.23,1462.26 674.908,1462.26 674.908,1449.18 611.23,1449.18 611.23,1449.18 \n",
       "  \" fill=\"#009af9\" fill-rule=\"evenodd\" fill-opacity=\"1\"/>\n",
       "<polyline clip-path=\"url(#clip6903)\" style=\"stroke:#000000; stroke-width:4; stroke-opacity:1; fill:none\" points=\"\n",
       "  611.23,1449.18 611.23,1462.26 674.908,1462.26 674.908,1449.18 611.23,1449.18 \n",
       "  \"/>\n",
       "<polygon clip-path=\"url(#clip6903)\" points=\"\n",
       "674.908,1462.26 674.908,1462.26 738.587,1462.26 738.587,1462.26 674.908,1462.26 674.908,1462.26 \n",
       "  \" fill=\"#009af9\" fill-rule=\"evenodd\" fill-opacity=\"1\"/>\n",
       "<polyline clip-path=\"url(#clip6903)\" style=\"stroke:#000000; stroke-width:4; stroke-opacity:1; fill:none\" points=\"\n",
       "  674.908,1462.26 674.908,1462.26 738.587,1462.26 674.908,1462.26 \n",
       "  \"/>\n",
       "<polygon clip-path=\"url(#clip6903)\" points=\"\n",
       "738.587,1462.26 738.587,1462.26 802.266,1462.26 802.266,1462.26 738.587,1462.26 738.587,1462.26 \n",
       "  \" fill=\"#009af9\" fill-rule=\"evenodd\" fill-opacity=\"1\"/>\n",
       "<polyline clip-path=\"url(#clip6903)\" style=\"stroke:#000000; stroke-width:4; stroke-opacity:1; fill:none\" points=\"\n",
       "  738.587,1462.26 738.587,1462.26 802.266,1462.26 738.587,1462.26 \n",
       "  \"/>\n",
       "<polygon clip-path=\"url(#clip6903)\" points=\"\n",
       "802.266,1423.01 802.266,1462.26 865.945,1462.26 865.945,1423.01 802.266,1423.01 802.266,1423.01 \n",
       "  \" fill=\"#009af9\" fill-rule=\"evenodd\" fill-opacity=\"1\"/>\n",
       "<polyline clip-path=\"url(#clip6903)\" style=\"stroke:#000000; stroke-width:4; stroke-opacity:1; fill:none\" points=\"\n",
       "  802.266,1423.01 802.266,1462.26 865.945,1462.26 865.945,1423.01 802.266,1423.01 \n",
       "  \"/>\n",
       "<polygon clip-path=\"url(#clip6903)\" points=\"\n",
       "865.945,1396.84 865.945,1462.26 929.624,1462.26 929.624,1396.84 865.945,1396.84 865.945,1396.84 \n",
       "  \" fill=\"#009af9\" fill-rule=\"evenodd\" fill-opacity=\"1\"/>\n",
       "<polyline clip-path=\"url(#clip6903)\" style=\"stroke:#000000; stroke-width:4; stroke-opacity:1; fill:none\" points=\"\n",
       "  865.945,1396.84 865.945,1462.26 929.624,1462.26 929.624,1396.84 865.945,1396.84 \n",
       "  \"/>\n",
       "<polygon clip-path=\"url(#clip6903)\" points=\"\n",
       "929.624,1357.59 929.624,1462.26 993.302,1462.26 993.302,1357.59 929.624,1357.59 929.624,1357.59 \n",
       "  \" fill=\"#009af9\" fill-rule=\"evenodd\" fill-opacity=\"1\"/>\n",
       "<polyline clip-path=\"url(#clip6903)\" style=\"stroke:#000000; stroke-width:4; stroke-opacity:1; fill:none\" points=\"\n",
       "  929.624,1357.59 929.624,1462.26 993.302,1462.26 993.302,1357.59 929.624,1357.59 \n",
       "  \"/>\n",
       "<polygon clip-path=\"url(#clip6903)\" points=\"\n",
       "993.302,1423.01 993.302,1462.26 1056.98,1462.26 1056.98,1423.01 993.302,1423.01 993.302,1423.01 \n",
       "  \" fill=\"#009af9\" fill-rule=\"evenodd\" fill-opacity=\"1\"/>\n",
       "<polyline clip-path=\"url(#clip6903)\" style=\"stroke:#000000; stroke-width:4; stroke-opacity:1; fill:none\" points=\"\n",
       "  993.302,1423.01 993.302,1462.26 1056.98,1462.26 1056.98,1423.01 993.302,1423.01 \n",
       "  \"/>\n",
       "<polygon clip-path=\"url(#clip6903)\" points=\"\n",
       "1056.98,1252.92 1056.98,1462.26 1120.66,1462.26 1120.66,1252.92 1056.98,1252.92 1056.98,1252.92 \n",
       "  \" fill=\"#009af9\" fill-rule=\"evenodd\" fill-opacity=\"1\"/>\n",
       "<polyline clip-path=\"url(#clip6903)\" style=\"stroke:#000000; stroke-width:4; stroke-opacity:1; fill:none\" points=\"\n",
       "  1056.98,1252.92 1056.98,1462.26 1120.66,1462.26 1120.66,1252.92 1056.98,1252.92 \n",
       "  \"/>\n",
       "<polygon clip-path=\"url(#clip6903)\" points=\"\n",
       "1120.66,1213.67 1120.66,1462.26 1184.34,1462.26 1184.34,1213.67 1120.66,1213.67 1120.66,1213.67 \n",
       "  \" fill=\"#009af9\" fill-rule=\"evenodd\" fill-opacity=\"1\"/>\n",
       "<polyline clip-path=\"url(#clip6903)\" style=\"stroke:#000000; stroke-width:4; stroke-opacity:1; fill:none\" points=\"\n",
       "  1120.66,1213.67 1120.66,1462.26 1184.34,1462.26 1184.34,1213.67 1120.66,1213.67 \n",
       "  \"/>\n",
       "<polygon clip-path=\"url(#clip6903)\" points=\"\n",
       "1184.34,978.159 1184.34,1462.26 1248.02,1462.26 1248.02,978.159 1184.34,978.159 1184.34,978.159 \n",
       "  \" fill=\"#009af9\" fill-rule=\"evenodd\" fill-opacity=\"1\"/>\n",
       "<polyline clip-path=\"url(#clip6903)\" style=\"stroke:#000000; stroke-width:4; stroke-opacity:1; fill:none\" points=\"\n",
       "  1184.34,978.159 1184.34,1462.26 1248.02,1462.26 1248.02,978.159 1184.34,978.159 \n",
       "  \"/>\n",
       "<polygon clip-path=\"url(#clip6903)\" points=\"\n",
       "1248.02,637.979 1248.02,1462.26 1311.7,1462.26 1311.7,637.979 1248.02,637.979 1248.02,637.979 \n",
       "  \" fill=\"#009af9\" fill-rule=\"evenodd\" fill-opacity=\"1\"/>\n",
       "<polyline clip-path=\"url(#clip6903)\" style=\"stroke:#000000; stroke-width:4; stroke-opacity:1; fill:none\" points=\"\n",
       "  1248.02,637.979 1248.02,1462.26 1311.7,1462.26 1311.7,637.979 1248.02,637.979 \n",
       "  \"/>\n",
       "<polygon clip-path=\"url(#clip6903)\" points=\"\n",
       "1311.7,258.548 1311.7,1462.26 1375.38,1462.26 1375.38,258.548 1311.7,258.548 1311.7,258.548 \n",
       "  \" fill=\"#009af9\" fill-rule=\"evenodd\" fill-opacity=\"1\"/>\n",
       "<polyline clip-path=\"url(#clip6903)\" style=\"stroke:#000000; stroke-width:4; stroke-opacity:1; fill:none\" points=\"\n",
       "  1311.7,258.548 1311.7,1462.26 1375.38,1462.26 1375.38,258.548 1311.7,258.548 \n",
       "  \"/>\n",
       "<polygon clip-path=\"url(#clip6903)\" points=\"\n",
       "1375.38,88.4582 1375.38,1462.26 1439.05,1462.26 1439.05,88.4582 1375.38,88.4582 1375.38,88.4582 \n",
       "  \" fill=\"#009af9\" fill-rule=\"evenodd\" fill-opacity=\"1\"/>\n",
       "<polyline clip-path=\"url(#clip6903)\" style=\"stroke:#000000; stroke-width:4; stroke-opacity:1; fill:none\" points=\"\n",
       "  1375.38,88.4582 1375.38,1462.26 1439.05,1462.26 1439.05,88.4582 1375.38,88.4582 \n",
       "  \"/>\n",
       "<polygon clip-path=\"url(#clip6903)\" points=\"\n",
       "1439.05,598.728 1439.05,1462.26 1502.73,1462.26 1502.73,598.728 1439.05,598.728 1439.05,598.728 \n",
       "  \" fill=\"#009af9\" fill-rule=\"evenodd\" fill-opacity=\"1\"/>\n",
       "<polyline clip-path=\"url(#clip6903)\" style=\"stroke:#000000; stroke-width:4; stroke-opacity:1; fill:none\" points=\"\n",
       "  1439.05,598.728 1439.05,1462.26 1502.73,1462.26 1502.73,598.728 1439.05,598.728 \n",
       "  \"/>\n",
       "<polygon clip-path=\"url(#clip6903)\" points=\"\n",
       "1502.73,1017.41 1502.73,1462.26 1566.41,1462.26 1566.41,1017.41 1502.73,1017.41 1502.73,1017.41 \n",
       "  \" fill=\"#009af9\" fill-rule=\"evenodd\" fill-opacity=\"1\"/>\n",
       "<polyline clip-path=\"url(#clip6903)\" style=\"stroke:#000000; stroke-width:4; stroke-opacity:1; fill:none\" points=\"\n",
       "  1502.73,1017.41 1502.73,1462.26 1566.41,1462.26 1566.41,1017.41 1502.73,1017.41 \n",
       "  \"/>\n",
       "<polygon clip-path=\"url(#clip6903)\" points=\"\n",
       "1566.41,1266 1566.41,1462.26 1630.09,1462.26 1630.09,1266 1566.41,1266 1566.41,1266 \n",
       "  \" fill=\"#009af9\" fill-rule=\"evenodd\" fill-opacity=\"1\"/>\n",
       "<polyline clip-path=\"url(#clip6903)\" style=\"stroke:#000000; stroke-width:4; stroke-opacity:1; fill:none\" points=\"\n",
       "  1566.41,1266 1566.41,1462.26 1630.09,1462.26 1630.09,1266 1566.41,1266 \n",
       "  \"/>\n",
       "<polygon clip-path=\"url(#clip6903)\" points=\"\n",
       "1630.09,1292.17 1630.09,1462.26 1693.77,1462.26 1693.77,1292.17 1630.09,1292.17 1630.09,1292.17 \n",
       "  \" fill=\"#009af9\" fill-rule=\"evenodd\" fill-opacity=\"1\"/>\n",
       "<polyline clip-path=\"url(#clip6903)\" style=\"stroke:#000000; stroke-width:4; stroke-opacity:1; fill:none\" points=\"\n",
       "  1630.09,1292.17 1630.09,1462.26 1693.77,1462.26 1693.77,1292.17 1630.09,1292.17 \n",
       "  \"/>\n",
       "<polygon clip-path=\"url(#clip6903)\" points=\"\n",
       "1693.77,1409.93 1693.77,1462.26 1757.45,1462.26 1757.45,1409.93 1693.77,1409.93 1693.77,1409.93 \n",
       "  \" fill=\"#009af9\" fill-rule=\"evenodd\" fill-opacity=\"1\"/>\n",
       "<polyline clip-path=\"url(#clip6903)\" style=\"stroke:#000000; stroke-width:4; stroke-opacity:1; fill:none\" points=\"\n",
       "  1693.77,1409.93 1693.77,1462.26 1757.45,1462.26 1757.45,1409.93 1693.77,1409.93 \n",
       "  \"/>\n",
       "<polygon clip-path=\"url(#clip6903)\" points=\"\n",
       "1757.45,1423.01 1757.45,1462.26 1821.13,1462.26 1821.13,1423.01 1757.45,1423.01 1757.45,1423.01 \n",
       "  \" fill=\"#009af9\" fill-rule=\"evenodd\" fill-opacity=\"1\"/>\n",
       "<polyline clip-path=\"url(#clip6903)\" style=\"stroke:#000000; stroke-width:4; stroke-opacity:1; fill:none\" points=\"\n",
       "  1757.45,1423.01 1757.45,1462.26 1821.13,1462.26 1821.13,1423.01 1757.45,1423.01 \n",
       "  \"/>\n",
       "<polygon clip-path=\"url(#clip6903)\" points=\"\n",
       "1821.13,1423.01 1821.13,1462.26 1884.81,1462.26 1884.81,1423.01 1821.13,1423.01 1821.13,1423.01 \n",
       "  \" fill=\"#009af9\" fill-rule=\"evenodd\" fill-opacity=\"1\"/>\n",
       "<polyline clip-path=\"url(#clip6903)\" style=\"stroke:#000000; stroke-width:4; stroke-opacity:1; fill:none\" points=\"\n",
       "  1821.13,1423.01 1821.13,1462.26 1884.81,1462.26 1884.81,1423.01 1821.13,1423.01 \n",
       "  \"/>\n",
       "<polygon clip-path=\"url(#clip6903)\" points=\"\n",
       "1884.81,1409.93 1884.81,1462.26 1948.48,1462.26 1948.48,1409.93 1884.81,1409.93 1884.81,1409.93 \n",
       "  \" fill=\"#009af9\" fill-rule=\"evenodd\" fill-opacity=\"1\"/>\n",
       "<polyline clip-path=\"url(#clip6903)\" style=\"stroke:#000000; stroke-width:4; stroke-opacity:1; fill:none\" points=\"\n",
       "  1884.81,1409.93 1884.81,1462.26 1948.48,1462.26 1948.48,1409.93 1884.81,1409.93 \n",
       "  \"/>\n",
       "<polygon clip-path=\"url(#clip6903)\" points=\"\n",
       "1948.48,1436.09 1948.48,1462.26 2012.16,1462.26 2012.16,1436.09 1948.48,1436.09 1948.48,1436.09 \n",
       "  \" fill=\"#009af9\" fill-rule=\"evenodd\" fill-opacity=\"1\"/>\n",
       "<polyline clip-path=\"url(#clip6903)\" style=\"stroke:#000000; stroke-width:4; stroke-opacity:1; fill:none\" points=\"\n",
       "  1948.48,1436.09 1948.48,1462.26 2012.16,1462.26 2012.16,1436.09 1948.48,1436.09 \n",
       "  \"/>\n",
       "<polygon clip-path=\"url(#clip6903)\" points=\"\n",
       "2012.16,1449.18 2012.16,1462.26 2075.84,1462.26 2075.84,1449.18 2012.16,1449.18 2012.16,1449.18 \n",
       "  \" fill=\"#009af9\" fill-rule=\"evenodd\" fill-opacity=\"1\"/>\n",
       "<polyline clip-path=\"url(#clip6903)\" style=\"stroke:#000000; stroke-width:4; stroke-opacity:1; fill:none\" points=\"\n",
       "  2012.16,1449.18 2012.16,1462.26 2075.84,1462.26 2075.84,1449.18 2012.16,1449.18 \n",
       "  \"/>\n",
       "<polygon clip-path=\"url(#clip6903)\" points=\"\n",
       "2075.84,1449.18 2075.84,1462.26 2139.52,1462.26 2139.52,1449.18 2075.84,1449.18 2075.84,1449.18 \n",
       "  \" fill=\"#009af9\" fill-rule=\"evenodd\" fill-opacity=\"1\"/>\n",
       "<polyline clip-path=\"url(#clip6903)\" style=\"stroke:#000000; stroke-width:4; stroke-opacity:1; fill:none\" points=\"\n",
       "  2075.84,1449.18 2075.84,1462.26 2139.52,1462.26 2139.52,1449.18 2075.84,1449.18 \n",
       "  \"/>\n",
       "<polygon clip-path=\"url(#clip6903)\" points=\"\n",
       "2139.52,1449.18 2139.52,1462.26 2203.2,1462.26 2203.2,1449.18 2139.52,1449.18 2139.52,1449.18 \n",
       "  \" fill=\"#009af9\" fill-rule=\"evenodd\" fill-opacity=\"1\"/>\n",
       "<polyline clip-path=\"url(#clip6903)\" style=\"stroke:#000000; stroke-width:4; stroke-opacity:1; fill:none\" points=\"\n",
       "  2139.52,1449.18 2139.52,1462.26 2203.2,1462.26 2203.2,1449.18 2139.52,1449.18 \n",
       "  \"/>\n",
       "<polygon clip-path=\"url(#clip6901)\" points=\"\n",
       "1958.43,251.724 2249.26,251.724 2249.26,130.764 1958.43,130.764 \n",
       "  \" fill=\"#ffffff\" fill-rule=\"evenodd\" fill-opacity=\"1\"/>\n",
       "<polyline clip-path=\"url(#clip6901)\" style=\"stroke:#000000; stroke-width:4; stroke-opacity:1; fill:none\" points=\"\n",
       "  1958.43,251.724 2249.26,251.724 2249.26,130.764 1958.43,130.764 1958.43,251.724 \n",
       "  \"/>\n",
       "<polygon clip-path=\"url(#clip6901)\" points=\"\n",
       "1982.43,215.436 2126.43,215.436 2126.43,167.052 1982.43,167.052 1982.43,215.436 \n",
       "  \" fill=\"#009af9\" fill-rule=\"evenodd\" fill-opacity=\"1\"/>\n",
       "<polyline clip-path=\"url(#clip6901)\" style=\"stroke:#000000; stroke-width:4; stroke-opacity:1; fill:none\" points=\"\n",
       "  1982.43,215.436 2126.43,215.436 2126.43,167.052 1982.43,167.052 1982.43,215.436 \n",
       "  \"/>\n",
       "<g clip-path=\"url(#clip6901)\">\n",
       "<text style=\"fill:#000000; fill-opacity:1; font-family:Arial,Helvetica Neue,Helvetica,sans-serif; font-size:48px; text-anchor:start;\" transform=\"rotate(0, 2150.43, 208.744)\" x=\"2150.43\" y=\"208.744\">y1</text>\n",
       "</g>\n",
       "</svg>\n"
      ]
     },
     "execution_count": 14,
     "metadata": {},
     "output_type": "execute_result"
    }
   ],
   "source": [
    "function plothistogram(distribution, n)\n",
    "    e = rand(distribution, n)  # n draws from distribution\n",
    "    histogram(e)\n",
    "end\n",
    "\n",
    "lp = Laplace()\n",
    "plothistogram(lp, 500)"
   ]
  },
  {
   "cell_type": "code",
   "execution_count": 15,
   "metadata": {},
   "outputs": [
    {
     "name": "stdout",
     "output_type": "stream",
     "text": [
      "Fixed point = 9.999999081896231, and |f(x) - x| = 9.181037796679448e-8 in 154 iterations\n"
     ]
    }
   ],
   "source": [
    "# find fixed point: f(v) = v\n",
    "\n",
    "\n",
    "# poor style\n",
    "p = 1.0 # note 1.0 rather than 1\n",
    "β = 0.9\n",
    "maxiter = 1000\n",
    "tolerance = 1.0E-7\n",
    "v_iv = 0.8 # initial condition\n",
    "\n",
    "# setup the algorithm\n",
    "v_old = v_iv\n",
    "normdiff = Inf\n",
    "iter = 1\n",
    "for i in 1:maxiter\n",
    "    v_new = p + β * v_old # the f(v) map\n",
    "    normdiff = norm(v_new - v_old)\n",
    "    if normdiff < tolerance # check convergence\n",
    "        iter = i\n",
    "        break # converged, exit loop\n",
    "    end\n",
    "    # replace and continue\n",
    "    v_old = v_new\n",
    "end\n",
    "println(\"Fixed point = $v_old, and |f(x) - x| = $normdiff in $iter iterations\")"
   ]
  },
  {
   "cell_type": "code",
   "execution_count": 16,
   "metadata": {},
   "outputs": [
    {
     "name": "stdout",
     "output_type": "stream",
     "text": [
      "Fixed point = 9.999999918629035, and |f(x) - x| = 9.041219328764782e-9 in 177 iterations\n"
     ]
    }
   ],
   "source": [
    "# good style\n",
    "function fixedpointmap(f; iv, tolerance=1E-7, maxiter=1000)\n",
    "    # setup the algorithm\n",
    "    x_old = iv\n",
    "    normdiff = Inf\n",
    "    iter = 1\n",
    "    while normdiff > tolerance && iter <= maxiter\n",
    "        x_new = f(x_old) # use the passed in map\n",
    "        normdiff = norm(x_new - x_old)\n",
    "        x_old = x_new\n",
    "        iter = iter + 1\n",
    "    end\n",
    "    return (value = x_old, normdiff=normdiff, iter=iter) # A named tuple\n",
    "end\n",
    "\n",
    "# define a map and parameters\n",
    "p = 1.0\n",
    "β = 0.9\n",
    "f(v) = p + β * v # note that p and β are used in the function!\n",
    "\n",
    "sol = fixedpointmap(f, iv=0.8, tolerance=1.0E-8) # don't need to pass\n",
    "println(\"Fixed point = $(sol.value), and |f(x) - x| = $(sol.normdiff) in $(sol.iter)\"*\n",
    "        \" iterations\")"
   ]
  },
  {
   "cell_type": "code",
   "execution_count": 17,
   "metadata": {},
   "outputs": [
    {
     "name": "stdout",
     "output_type": "stream",
     "text": [
      "Fixed point = 0.4999999999999968, and |f(x) - x| = 3.979330237546819e-8 in 7 iterations\n"
     ]
    }
   ],
   "source": [
    "r = 2.0\n",
    "f(x) = r * x * (1 - x)\n",
    "\n",
    "sol = fixedpointmap(f, iv=0.8)\n",
    "println(\"Fixed point = $(sol.value), and |f(x) - x| = $(sol.normdiff) in $(sol.iter) iterations\")\n"
   ]
  },
  {
   "cell_type": "code",
   "execution_count": 21,
   "metadata": {},
   "outputs": [],
   "source": [
    "# best style\n",
    "using NLsolve"
   ]
  },
  {
   "cell_type": "code",
   "execution_count": 22,
   "metadata": {},
   "outputs": [
    {
     "ename": "MethodError",
     "evalue": "MethodError: no method matching -(::Int64, ::Array{Float64,1})\nClosest candidates are:\n  -(::Union{Int128, Int16, Int32, Int64, Int8, UInt128, UInt16, UInt32, UInt64, UInt8}) at int.jl:51\n  -(::T<:Union{Int128, Int16, Int32, Int64, Int8, UInt128, UInt16, UInt32, UInt64, UInt8}, !Matched::T<:Union{Int128, Int16, Int32, Int64, Int8, UInt128, UInt16, UInt32, UInt64, UInt8}) where T<:Union{Int128, Int16, Int32, Int64, Int8, UInt128, UInt16, UInt32, UInt64, UInt8} at int.jl:52\n  -(::Union{Int16, Int32, Int64, Int8}, !Matched::BigInt) at gmp.jl:449\n  ...",
     "output_type": "error",
     "traceback": [
      "MethodError: no method matching -(::Int64, ::Array{Float64,1})\nClosest candidates are:\n  -(::Union{Int128, Int16, Int32, Int64, Int8, UInt128, UInt16, UInt32, UInt64, UInt8}) at int.jl:51\n  -(::T<:Union{Int128, Int16, Int32, Int64, Int8, UInt128, UInt16, UInt32, UInt64, UInt8}, !Matched::T<:Union{Int128, Int16, Int32, Int64, Int8, UInt128, UInt16, UInt32, UInt64, UInt8}) where T<:Union{Int128, Int16, Int32, Int64, Int8, UInt128, UInt16, UInt32, UInt64, UInt8} at int.jl:52\n  -(::Union{Int16, Int32, Int64, Int8}, !Matched::BigInt) at gmp.jl:449\n  ...",
      "",
      "Stacktrace:",
      " [1] f(::Array{Float64,1}) at ./In[17]:2",
      " [2] top-level scope at In[22]:6"
     ]
    }
   ],
   "source": [
    "# best style\n",
    "p = 1.0\n",
    "β = 0.9\n",
    "iv = [0.8]\n",
    "sol = fixedpoint(v -> p .+ β * v, iv)\n",
    "println(\"Fixed point = $(sol.zero), and |f(x) - x| = $(norm(f(sol.zero) - sol.zero)) in \" *\n",
    "        \"$(sol.iterations) iterations\")"
   ]
  },
  {
   "cell_type": "code",
   "execution_count": 23,
   "metadata": {},
   "outputs": [
    {
     "data": {
      "text/plain": [
       "1×3 Array{Int64,2}:\n",
       " 1  2  3"
      ]
     },
     "execution_count": 23,
     "metadata": {},
     "output_type": "execute_result"
    }
   ],
   "source": [
    "a =[1 2 3]"
   ]
  },
  {
   "cell_type": "code",
   "execution_count": 24,
   "metadata": {},
   "outputs": [
    {
     "data": {
      "text/plain": [
       "1×3 Array{Int64,2}:\n",
       " 2  4  6"
      ]
     },
     "execution_count": 24,
     "metadata": {},
     "output_type": "execute_result"
    }
   ],
   "source": [
    "2 * a"
   ]
  },
  {
   "cell_type": "code",
   "execution_count": 25,
   "metadata": {},
   "outputs": [
    {
     "data": {
      "text/plain": [
       "1×3 Array{Int64,2}:\n",
       " 2  4  6"
      ]
     },
     "execution_count": 25,
     "metadata": {},
     "output_type": "execute_result"
    }
   ],
   "source": [
    "2 .* a"
   ]
  },
  {
   "cell_type": "code",
   "execution_count": 26,
   "metadata": {},
   "outputs": [
    {
     "ename": "MethodError",
     "evalue": "MethodError: no method matching +(::Int64, ::Array{Int64,2})\nClosest candidates are:\n  +(::Any, ::Any, !Matched::Any, !Matched::Any...) at operators.jl:502\n  +(::T<:Union{Int128, Int16, Int32, Int64, Int8, UInt128, UInt16, UInt32, UInt64, UInt8}, !Matched::T<:Union{Int128, Int16, Int32, Int64, Int8, UInt128, UInt16, UInt32, UInt64, UInt8}) where T<:Union{Int128, Int16, Int32, Int64, Int8, UInt128, UInt16, UInt32, UInt64, UInt8} at int.jl:53\n  +(::Union{Int16, Int32, Int64, Int8}, !Matched::BigInt) at gmp.jl:447\n  ...",
     "output_type": "error",
     "traceback": [
      "MethodError: no method matching +(::Int64, ::Array{Int64,2})\nClosest candidates are:\n  +(::Any, ::Any, !Matched::Any, !Matched::Any...) at operators.jl:502\n  +(::T<:Union{Int128, Int16, Int32, Int64, Int8, UInt128, UInt16, UInt32, UInt64, UInt8}, !Matched::T<:Union{Int128, Int16, Int32, Int64, Int8, UInt128, UInt16, UInt32, UInt64, UInt8}) where T<:Union{Int128, Int16, Int32, Int64, Int8, UInt128, UInt16, UInt32, UInt64, UInt8} at int.jl:53\n  +(::Union{Int16, Int32, Int64, Int8}, !Matched::BigInt) at gmp.jl:447\n  ...",
      "",
      "Stacktrace:",
      " [1] top-level scope at In[26]:1"
     ]
    }
   ],
   "source": [
    "1 + a"
   ]
  },
  {
   "cell_type": "code",
   "execution_count": 27,
   "metadata": {},
   "outputs": [
    {
     "data": {
      "text/plain": [
       "1×3 Array{Int64,2}:\n",
       " 2  3  4"
      ]
     },
     "execution_count": 27,
     "metadata": {},
     "output_type": "execute_result"
    }
   ],
   "source": [
    "1 .+ a"
   ]
  },
  {
   "cell_type": "code",
   "execution_count": 28,
   "metadata": {},
   "outputs": [
    {
     "data": {
      "text/plain": [
       "Array{Int64,2}"
      ]
     },
     "execution_count": 28,
     "metadata": {},
     "output_type": "execute_result"
    }
   ],
   "source": [
    "typeof(a)"
   ]
  },
  {
   "cell_type": "code",
   "execution_count": 29,
   "metadata": {},
   "outputs": [
    {
     "data": {
      "text/plain": [
       "Int64"
      ]
     },
     "execution_count": 29,
     "metadata": {},
     "output_type": "execute_result"
    }
   ],
   "source": [
    "typeof(1)"
   ]
  },
  {
   "cell_type": "code",
   "execution_count": 30,
   "metadata": {},
   "outputs": [
    {
     "data": {
      "text/plain": [
       "(1, 3)"
      ]
     },
     "execution_count": 30,
     "metadata": {},
     "output_type": "execute_result"
    }
   ],
   "source": [
    "size(a)"
   ]
  },
  {
   "cell_type": "code",
   "execution_count": 32,
   "metadata": {},
   "outputs": [
    {
     "data": {
      "image/png": "[encoded data removed]"
     },
     "execution_count": 32,
     "metadata": {},
     "output_type": "execute_result"
    }
   ],
   "source": [
    "using Plots\n",
    "gr(fmt=:png); # setting for easier display in jupyter notebooks\n",
    "α = 0.9\n",
    "n = 200\n",
    "x = zeros(n + 1)\n",
    "\n",
    "for t in 1:n\n",
    "    x[t+1] = α * x[t] + randn()\n",
    "end\n",
    "plot(x)"
   ]
  },
  {
   "cell_type": "code",
   "execution_count": 33,
   "metadata": {},
   "outputs": [
    {
     "data": {
      "image/png": "[encoded data removed]"
     },
     "execution_count": 33,
     "metadata": {},
     "output_type": "execute_result"
    }
   ],
   "source": [
    "αs = [0.0, 0.8, 0.98]\n",
    "n = 200\n",
    "p = plot() # naming a plot to add to\n",
    "\n",
    "for α in αs\n",
    "    x = zeros(n + 1)\n",
    "    x[1] = 0.0\n",
    "    for t in 1:n\n",
    "        x[t+1] = α * x[t] + randn()\n",
    "    end\n",
    "    plot!(p, x, label = \"alpha = $α\") # add to plot p\n",
    "end\n",
    "p # display plot\n"
   ]
  },
  {
   "cell_type": "code",
   "execution_count": 36,
   "metadata": {},
   "outputs": [
    {
     "name": "stdout",
     "output_type": "stream",
     "text": [
      "2x - 3y = 1.0\n"
     ]
    }
   ],
   "source": [
    "x = 2; y = 1.0;\n",
    "\n",
    "@show 2x - 3y;"
   ]
  },
  {
   "cell_type": "code",
   "execution_count": 37,
   "metadata": {},
   "outputs": [
    {
     "data": {
      "text/plain": [
       "3-element Array{Float64,1}:\n",
       " -0.748912277339711  \n",
       " -0.8747699662660725 \n",
       "  0.49228031618080265"
      ]
     },
     "execution_count": 37,
     "metadata": {},
     "output_type": "execute_result"
    }
   ],
   "source": [
    "map(x -> sin(1 / x), randn(3))"
   ]
  },
  {
   "cell_type": "code",
   "execution_count": 38,
   "metadata": {},
   "outputs": [
    {
     "data": {
      "text/plain": [
       "f (generic function with 2 methods)"
      ]
     },
     "execution_count": 38,
     "metadata": {},
     "output_type": "execute_result"
    }
   ],
   "source": [
    "f(x, a = 1) = exp(cos(a * x))"
   ]
  },
  {
   "cell_type": "code",
   "execution_count": 39,
   "metadata": {},
   "outputs": [
    {
     "data": {
      "text/plain": [
       "0.36787944117144233"
      ]
     },
     "execution_count": 39,
     "metadata": {},
     "output_type": "execute_result"
    }
   ],
   "source": [
    "f(pi)"
   ]
  },
  {
   "cell_type": "code",
   "execution_count": 40,
   "metadata": {},
   "outputs": [
    {
     "data": {
      "text/plain": [
       "2.718281828459045"
      ]
     },
     "execution_count": 40,
     "metadata": {},
     "output_type": "execute_result"
    }
   ],
   "source": [
    "f(pi, 2)"
   ]
  },
  {
   "cell_type": "code",
   "execution_count": 43,
   "metadata": {},
   "outputs": [
    {
     "data": {
      "text/plain": [
       "4-element Array{Float64,1}:\n",
       "  0.9092974268256817 \n",
       " -0.7568024953079282 \n",
       " -0.27941549819892586\n",
       "  0.9893582466233818 "
      ]
     },
     "execution_count": 43,
     "metadata": {},
     "output_type": "execute_result"
    }
   ],
   "source": [
    "x_vec = [2.0, 4.0, 6.0, 8.0]\n",
    "y_vec = similar(x_vec)\n",
    "for (i, x) in enumerate(x_vec)\n",
    "    y_vec[i] = sin(x)\n",
    "end\n",
    "y_vec"
   ]
  },
  {
   "cell_type": "code",
   "execution_count": 44,
   "metadata": {},
   "outputs": [
    {
     "data": {
      "text/plain": [
       "4-element Array{Float64,1}:\n",
       "  0.9092974268256817 \n",
       " -0.7568024953079282 \n",
       " -0.27941549819892586\n",
       "  0.9893582466233818 "
      ]
     },
     "execution_count": 44,
     "metadata": {},
     "output_type": "execute_result"
    }
   ],
   "source": [
    "y_vec = sin.(x_vec)"
   ]
  },
  {
   "cell_type": "code",
   "execution_count": 45,
   "metadata": {},
   "outputs": [
    {
     "data": {
      "text/plain": [
       "chisq (generic function with 1 method)"
      ]
     },
     "execution_count": 45,
     "metadata": {},
     "output_type": "execute_result"
    }
   ],
   "source": [
    "function chisq(k)\n",
    "    @assert k > 0\n",
    "    z = randn(k)\n",
    "    return sum(z -> z^2, z)  # same as `sum(x^2 for x in z)`\n",
    "end"
   ]
  },
  {
   "cell_type": "code",
   "execution_count": 51,
   "metadata": {},
   "outputs": [
    {
     "ename": "AssertionError",
     "evalue": "AssertionError: k > 0",
     "output_type": "error",
     "traceback": [
      "AssertionError: k > 0",
      "",
      "Stacktrace:",
      " [1] chisq(::Int64) at ./In[45]:2",
      " [2] top-level scope at In[51]:1"
     ]
    }
   ],
   "source": [
    "chisq(-10)"
   ]
  },
  {
   "cell_type": "code",
   "execution_count": 52,
   "metadata": {},
   "outputs": [
    {
     "data": {
      "text/plain": [
       "3-element Array{Float64,1}:\n",
       " 2.9747770014138344\n",
       " 0.8040463958405469\n",
       " 3.663107853992227 "
      ]
     },
     "execution_count": 52,
     "metadata": {},
     "output_type": "execute_result"
    }
   ],
   "source": [
    "chisq.([2, 4, 6])"
   ]
  },
  {
   "cell_type": "code",
   "execution_count": 54,
   "metadata": {},
   "outputs": [
    {
     "data": {
      "text/plain": [
       "5-element Array{Float64,1}:\n",
       "  2.1585290151921033\n",
       "  5.090702573174318 \n",
       "  7.858879991940133 \n",
       " 10.756802495307928 \n",
       " 13.958924274663138 "
      ]
     },
     "execution_count": 54,
     "metadata": {},
     "output_type": "execute_result"
    }
   ],
   "source": [
    "x = 1.0:1.0:5.0\n",
    "x\n",
    "\n",
    "y = [2.0, 4.0, 5.0, 6.0, 8.0]\n",
    "z = similar(y)\n",
    "z = x .+ y .- sin.(x) # generates efficient code instead of many temporaries"
   ]
  },
  {
   "cell_type": "code",
   "execution_count": 55,
   "metadata": {},
   "outputs": [
    {
     "data": {
      "text/plain": [
       "5-element Array{Float64,1}:\n",
       "  2.1585290151921033\n",
       "  5.090702573174318 \n",
       "  7.858879991940133 \n",
       " 10.756802495307928 \n",
       " 13.958924274663138 "
      ]
     },
     "execution_count": 55,
     "metadata": {},
     "output_type": "execute_result"
    }
   ],
   "source": [
    "@. z = x + y - sin(x)"
   ]
  },
  {
   "cell_type": "code",
   "execution_count": 56,
   "metadata": {},
   "outputs": [
    {
     "data": {
      "text/plain": [
       "linapprox (generic function with 1 method)"
      ]
     },
     "execution_count": 56,
     "metadata": {},
     "output_type": "execute_result"
    }
   ],
   "source": [
    "function linapprox(f, a, b, n, x)\n",
    "    # evaluates the piecewise linear interpolant of f at x,\n",
    "    # on the interval [a, b], with n evenly spaced grid points.\n",
    "\n",
    "    length_of_interval = b - a\n",
    "    num_subintervals = n - 1\n",
    "    step = length_of_interval / num_subintervals\n",
    "\n",
    "    # find first grid point larger than x\n",
    "    point = a\n",
    "    while point ≤ x\n",
    "        point += step\n",
    "    end\n",
    "\n",
    "    # x must lie between the gridpoints (point - step) and point\n",
    "    u, v = point - step, point\n",
    "\n",
    "    return f(u) + (x - u) * (f(v) - f(u)) / (v - u)\n",
    "end"
   ]
  },
  {
   "cell_type": "code",
   "execution_count": 57,
   "metadata": {},
   "outputs": [
    {
     "data": {
      "text/plain": [
       "g_ex5 (generic function with 1 method)"
      ]
     },
     "execution_count": 57,
     "metadata": {},
     "output_type": "execute_result"
    }
   ],
   "source": [
    "f_ex5(x) = x^2\n",
    "g_ex5(x) = linapprox(f_ex5, -1, 1, 3, x)"
   ]
  },
  {
   "cell_type": "code",
   "execution_count": 58,
   "metadata": {},
   "outputs": [
    {
     "data": {
      "image/png": "[encoded data removed]"
     },
     "execution_count": 58,
     "metadata": {},
     "output_type": "execute_result"
    }
   ],
   "source": [
    "x_grid = range(-1.0, 1.0, length = 100)\n",
    "y_vals = f_ex5.(x_grid)\n",
    "y = g_ex5.(x_grid)\n",
    "plot(x_grid, y_vals, label = \"true\")\n",
    "plot!(x_grid, y, label = \"approximation\")"
   ]
  },
  {
   "cell_type": "code",
   "execution_count": 59,
   "metadata": {},
   "outputs": [
    {
     "data": {
      "text/plain": [
       "167"
      ]
     },
     "execution_count": 59,
     "metadata": {},
     "output_type": "execute_result"
    }
   ],
   "source": [
    "open(\"us_cities.txt\", \"w\") do f\n",
    "  write(f,\n",
    "\"new york: 8244910\n",
    "los angeles: 3819702\n",
    "chicago: 2707120\n",
    "houston: 2145146\n",
    "philadelphia: 1536471\n",
    "phoenix: 1469471\n",
    "san antonio: 1359758\n",
    "san diego: 1326179\n",
    "dallas: 1223229\")\n",
    "end"
   ]
  },
  {
   "cell_type": "code",
   "execution_count": 60,
   "metadata": {},
   "outputs": [
    {
     "name": "stdout",
     "output_type": "stream",
     "text": [
      "Total population = 23831986\n"
     ]
    }
   ],
   "source": [
    "f_ex6 = open(\"us_cities.txt\", \"r\")\n",
    "total_pop = 0\n",
    "for line in eachline(f_ex6)\n",
    "    city, population = split(line, ':')  # tuple unpacking\n",
    "    total_pop += parse(Int, population)\n",
    "end\n",
    "close(f_ex6)\n",
    "println(\"Total population = $total_pop\")"
   ]
  },
  {
   "cell_type": "code",
   "execution_count": 63,
   "metadata": {},
   "outputs": [
    {
     "data": {
      "text/plain": [
       "2×2 Diagonal{Float64,Array{Float64,1}}:\n",
       " 1.0   ⋅ \n",
       "  ⋅   2.0"
      ]
     },
     "execution_count": 63,
     "metadata": {},
     "output_type": "execute_result"
    }
   ],
   "source": [
    "d = [1.0 , 2.0]\n",
    "a = Diagonal(d)"
   ]
  },
  {
   "cell_type": "code",
   "execution_count": 64,
   "metadata": {},
   "outputs": [
    {
     "data": {
      "text/plain": [
       "2×2 Array{Int64,2}:\n",
       " 1  2\n",
       " 2  3"
      ]
     },
     "execution_count": 64,
     "metadata": {},
     "output_type": "execute_result"
    }
   ],
   "source": [
    "A = [1 2; 2 3]"
   ]
  },
  {
   "cell_type": "code",
   "execution_count": 65,
   "metadata": {},
   "outputs": [
    {
     "data": {
      "text/plain": [
       "2×2 Array{Float64,2}:\n",
       " 1.0  1.0\n",
       " 1.0  1.0"
      ]
     },
     "execution_count": 65,
     "metadata": {},
     "output_type": "execute_result"
    }
   ],
   "source": [
    "B = ones(2, 2)"
   ]
  },
  {
   "cell_type": "code",
   "execution_count": 66,
   "metadata": {},
   "outputs": [
    {
     "data": {
      "text/plain": [
       "2×2 Array{Float64,2}:\n",
       " -1.0  -1.0\n",
       "  1.0   1.0"
      ]
     },
     "execution_count": 66,
     "metadata": {},
     "output_type": "execute_result"
    }
   ],
   "source": [
    "A \\ B"
   ]
  },
  {
   "cell_type": "code",
   "execution_count": 67,
   "metadata": {},
   "outputs": [
    {
     "data": {
      "text/plain": [
       "2×2 Array{Float64,2}:\n",
       " -1.0  -1.0\n",
       "  1.0   1.0"
      ]
     },
     "execution_count": 67,
     "metadata": {},
     "output_type": "execute_result"
    }
   ],
   "source": [
    "inv(A) * B"
   ]
  },
  {
   "cell_type": "code",
   "execution_count": 68,
   "metadata": {},
   "outputs": [
    {
     "name": "stdout",
     "output_type": "stream",
     "text": [
      "Int64 <: Signed <: Integer <: Real <: Number <: Any"
     ]
    }
   ],
   "source": [
    "using Base: show_supertypes  # import the function from the `Base` package\n",
    "\n",
    "show_supertypes(Int64)"
   ]
  },
  {
   "cell_type": "code",
   "execution_count": 71,
   "metadata": {},
   "outputs": [
    {
     "data": {
      "image/png": "[encoded data removed]"
     },
     "execution_count": 71,
     "metadata": {},
     "output_type": "execute_result"
    }
   ],
   "source": [
    "using Plots, ForwardDiff\n",
    "\n",
    "# operator to get the derivative of this function using AD\n",
    "D(f) = x -> ForwardDiff.derivative(f, x)\n",
    "\n",
    "derivatives(f::AbstractVector, x::AbstractRange) = diff(f) / step(x)\n",
    "\n",
    "q(x) = sin(x)\n",
    "x = 0.0:0.1:4.0\n",
    "q_x = q.(x)\n",
    "D_q_x = derivatives(q_x, x)\n",
    "\n",
    "plot(x[1:end-1], D(q).(x[1:end-1]), label = \"q' with AD\")\n",
    "plot!(x[1:end-1], D_q_x, label = \"q'\")"
   ]
  },
  {
   "cell_type": "code",
   "execution_count": 74,
   "metadata": {},
   "outputs": [
    {
     "name": "stderr",
     "output_type": "stream",
     "text": [
      "┌ Info: Recompiling stale cache file /Users/ygzheng/.julia/compiled/v1.1/Polynomials/OaK78.ji for Polynomials [f27b6e38-b328-58d1-80ce-0feddd5e7a45]\n",
      "└ @ Base loading.jl:1184\n"
     ]
    },
    {
     "name": "stdout",
     "output_type": "stream",
     "text": [
      "p = Poly(2 - 5*x + 2*x^2)\n",
      "(p(0.1), p′(0.1)) = (1.52, -4.6)\n",
      "roots(p) = [2.0, 0.5]\n"
     ]
    }
   ],
   "source": [
    "using Polynomials\n",
    "\n",
    "p = Poly([2, -5, 2], :x)  # :x just gives a symbol for display\n",
    "\n",
    "@show p\n",
    "p′ = polyder(p)   # gives the derivative of p, another polynomial\n",
    "@show p(0.1), p′(0.1)  # call like a function\n",
    "@show roots(p);   # find roots such that p(x) = 0"
   ]
  },
  {
   "cell_type": "code",
   "execution_count": 75,
   "metadata": {},
   "outputs": [
    {
     "data": {
      "text/plain": [
       "-2.0:0.04040404040404041:2.0"
      ]
     },
     "execution_count": 75,
     "metadata": {},
     "output_type": "execute_result"
    }
   ],
   "source": [
    "x = range(-2, stop=2, length=100)"
   ]
  },
  {
   "cell_type": "code",
   "execution_count": 85,
   "metadata": {},
   "outputs": [
    {
     "data": {
      "text/plain": [
       "3-element Array{Poly{Int64},1}:\n",
       " Poly(0)  \n",
       " Poly(-5) \n",
       " Poly(4*x)"
      ]
     },
     "execution_count": 85,
     "metadata": {},
     "output_type": "execute_result"
    }
   ],
   "source": [
    "p′ = polyder.(p)"
   ]
  },
  {
   "cell_type": "code",
   "execution_count": 81,
   "metadata": {},
   "outputs": [
    {
     "ename": "MethodError",
     "evalue": "MethodError: no method matching adjoint(::Poly{Int64})\nClosest candidates are:\n  adjoint(!Matched::Missing) at missing.jl:83\n  adjoint(!Matched::Number) at number.jl:193\n  adjoint(!Matched::Adjoint{#s177,#s176} where #s176<:Union{StaticArray{Tuple{N},T,1} where T where N, StaticArray{Tuple{N,M},T,2} where T where M where N} where #s177) at /Users/ygzheng/.julia/packages/StaticArrays/mcf7t/src/linalg.jl:78\n  ...",
     "output_type": "error",
     "traceback": [
      "MethodError: no method matching adjoint(::Poly{Int64})\nClosest candidates are:\n  adjoint(!Matched::Missing) at missing.jl:83\n  adjoint(!Matched::Number) at number.jl:193\n  adjoint(!Matched::Adjoint{#s177,#s176} where #s176<:Union{StaticArray{Tuple{N},T,1} where T where N, StaticArray{Tuple{N,M},T,2} where T where M where N} where #s177) at /Users/ygzheng/.julia/packages/StaticArrays/mcf7t/src/linalg.jl:78\n  ...",
      "",
      "Stacktrace:",
      " [1] top-level scope at In[81]:1"
     ]
    }
   ],
   "source": [
    "plot(x, p'(x), label = \"p\")"
   ]
  },
  {
   "cell_type": "code",
   "execution_count": null,
   "metadata": {},
   "outputs": [],
   "source": []
  }
 ],
 "metadata": {
  "kernelspec": {
   "display_name": "Julia 1.1.0",
   "language": "julia",
   "name": "julia-1.1"
  },
  "language_info": {
   "file_extension": ".jl",
   "mimetype": "application/julia",
   "name": "julia",
   "version": "1.1.0"
  }
 },
 "nbformat": 4,
 "nbformat_minor": 2
}
