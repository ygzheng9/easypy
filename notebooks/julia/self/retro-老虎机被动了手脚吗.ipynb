{
 "cells": [
  {
   "cell_type": "code",
   "execution_count": 1,
   "metadata": {},
   "outputs": [
    {
     "data": {
      "text/plain": [
       "5.199999999999999"
      ]
     },
     "execution_count": 1,
     "metadata": {},
     "output_type": "execute_result"
    }
   ],
   "source": [
    "Obs = [10 7 10 6 14 8 11 11 12 11]\n",
    "Exp = [10 10 10 10 10 10 10 10 10 10]\n",
    "\n",
    "# 卡方统计量\n",
    "sum(((Obs-Exp) .^ 2 ./ Exp))"
   ]
  },
  {
   "cell_type": "code",
   "execution_count": 2,
   "metadata": {},
   "outputs": [],
   "source": [
    "using HypothesisTests"
   ]
  },
  {
   "cell_type": "code",
   "execution_count": 3,
   "metadata": {},
   "outputs": [
    {
     "data": {
      "text/plain": [
       "Pearson's Chi-square Test\n",
       "-------------------------\n",
       "Population details:\n",
       "    parameter of interest:   Multinomial Probabilities\n",
       "    value under h_0:         [0.1, 0.1, 0.1, 0.1, 0.1, 0.1, 0.1, 0.1, 0.1, 0.1]\n",
       "    point estimate:          [0.1, 0.07, 0.1, 0.06, 0.14, 0.08, 0.11, 0.11, 0.12, 0.11]\n",
       "    95% confidence interval: Tuple{Float64,Float64}[(0.02, 0.1837), (0.0, 0.1537), (0.02, 0.1837), (0.0, 0.1437), (0.06, 0.2237), (0.0, 0.1637), (0.03, 0.1937), (0.03, 0.1937), (0.04, 0.2037), (0.03, 0.1937)]\n",
       "\n",
       "Test summary:\n",
       "    outcome with 95% confidence: fail to reject h_0\n",
       "    one-sided p-value:           0.8165\n",
       "\n",
       "Details:\n",
       "    Sample size:        100\n",
       "    statistic:          5.200000000000001\n",
       "    degrees of freedom: 9\n",
       "    residuals:          [0.0, -0.948683, 0.0, -1.26491, 1.26491, -0.632456, 0.316228, 0.316228, 0.632456, 0.316228]\n",
       "    std. residuals:     [0.0, -1.0, 0.0, -1.33333, 1.33333, -0.666667, 0.333333, 0.333333, 0.666667, 0.333333]\n"
      ]
     },
     "execution_count": 3,
     "metadata": {},
     "output_type": "execute_result"
    }
   ],
   "source": [
    "# 注意，这里只有一个参数，检验的是各个值是等概率出现的\n",
    "ChisqTest(Obs)"
   ]
  },
  {
   "cell_type": "markdown",
   "metadata": {},
   "source": [
    "# 场景1：老虎机是不是被动了手脚？\n",
    "1. 老虎机有公布出来的抽奖比例；\n",
    "2. 根据实际抽奖结果，判断公布的比例对不对；\n",
    "### goodness-of-fit test 拟合优度检验，H0 拟合得很好"
   ]
  },
  {
   "cell_type": "code",
   "execution_count": 42,
   "metadata": {},
   "outputs": [
    {
     "name": "stdout",
     "output_type": "stream",
     "text": [
      "38.272389969293755\n"
     ]
    },
    {
     "data": {
      "text/plain": [
       "Pearson's Chi-square Test\n",
       "-------------------------\n",
       "Population details:\n",
       "    parameter of interest:   Multinomial Probabilities\n",
       "    value under h_0:         [0.977, 0.008, 0.008, 0.006, 0.001]\n",
       "    point estimate:          [0.965, 0.01, 0.009, 0.009, 0.007]\n",
       "    95% confidence interval: Tuple{Float64,Float64}[(0.956, 0.9759), (0.001, 0.0209), (0.0, 0.0199), (0.0, 0.0199), (0.0, 0.0179)]\n",
       "\n",
       "Test summary:\n",
       "    outcome with 95% confidence: reject h_0\n",
       "    one-sided p-value:           <1e-7\n",
       "\n",
       "Details:\n",
       "    Sample size:        1000\n",
       "    statistic:          38.27238996929373\n",
       "    degrees of freedom: 4\n",
       "    residuals:          [-0.383914, 0.707107, 0.353553, 1.22474, 6.0]\n",
       "    std. residuals:     [-2.53145, 0.709952, 0.354976, 1.22844, 6.003]\n"
      ]
     },
     "execution_count": 42,
     "metadata": {},
     "output_type": "execute_result"
    }
   ],
   "source": [
    "# 有 逗号，表示是 列向量\n",
    "actual = [965, 10, 9, 9, 7]\n",
    "expect = [977, 8, 8, 6, 1]\n",
    "\n",
    "# 根据 卡方统计量 的公式，手工计算统计量\n",
    "println(sum( (actual - expect) .^ 2 ./ expect ) )\n",
    "\n",
    "\n",
    "# 第二个参数是 H0 的比例\n",
    "theta0 = expect ./ sum(expect)\n",
    "\n",
    "ChisqTest(actual, theta0)"
   ]
  },
  {
   "cell_type": "markdown",
   "metadata": {},
   "source": [
    "## 上面拒绝的 H0，也即：公布的标准和实际情况有显著的差异"
   ]
  },
  {
   "cell_type": "code",
   "execution_count": 31,
   "metadata": {},
   "outputs": [
    {
     "name": "stdout",
     "output_type": "stream",
     "text": [
      "search: \u001b[0m\u001b[1mC\u001b[22m\u001b[0m\u001b[1mh\u001b[22m\u001b[0m\u001b[1mi\u001b[22m\u001b[0m\u001b[1ms\u001b[22m\u001b[0m\u001b[1mq\u001b[22m\u001b[0m\u001b[1mT\u001b[22m\u001b[0m\u001b[1me\u001b[22m\u001b[0m\u001b[1ms\u001b[22m\u001b[0m\u001b[1mt\u001b[22m\n",
      "\n"
     ]
    },
    {
     "data": {
      "text/latex": [
       "\\begin{verbatim}\n",
       "ChisqTest(x[, y][, theta0 = ones(length(x))/length(x)])\n",
       "\\end{verbatim}\n",
       "Perform a Pearson chi-squared test (equivalent to a \\href{@ref}{\\texttt{PowerDivergenceTest}} with $λ = 1$).\n",
       "\n",
       "If \\texttt{y} is not given and \\texttt{x} is a matrix with one row or column, or \\texttt{x} is a vector, then a goodness-of-fit test is performed (\\texttt{x} is treated as a one-dimensional contingency table). In this case, the hypothesis tested is whether the population probabilities equal those in \\texttt{theta0}, or are all equal if \\texttt{theta0} is not given.\n",
       "\n",
       "If \\texttt{x} is a matrix with at least two rows and columns, it is taken as a two-dimensional contingency table. Otherwise, \\texttt{x} and \\texttt{y} must be vectors of the same length. The contingency table is calculated using \\texttt{counts} function from the \\texttt{StatsBase} package. Then the power divergence test is conducted under the null hypothesis that the joint distribution of the cell counts in a 2-dimensional contingency table is the product of the row and column marginals.\n",
       "\n",
       "Note that the entries of \\texttt{x} (and \\texttt{y} if provided) must be non-negative integers.\n",
       "\n",
       "Implements: \\href{@ref}{\\texttt{pvalue}}, \\href{@ref}{\\texttt{confint}}\n",
       "\n"
      ],
      "text/markdown": [
       "```\n",
       "ChisqTest(x[, y][, theta0 = ones(length(x))/length(x)])\n",
       "```\n",
       "\n",
       "Perform a Pearson chi-squared test (equivalent to a [`PowerDivergenceTest`](@ref) with $λ = 1$).\n",
       "\n",
       "If `y` is not given and `x` is a matrix with one row or column, or `x` is a vector, then a goodness-of-fit test is performed (`x` is treated as a one-dimensional contingency table). In this case, the hypothesis tested is whether the population probabilities equal those in `theta0`, or are all equal if `theta0` is not given.\n",
       "\n",
       "If `x` is a matrix with at least two rows and columns, it is taken as a two-dimensional contingency table. Otherwise, `x` and `y` must be vectors of the same length. The contingency table is calculated using `counts` function from the `StatsBase` package. Then the power divergence test is conducted under the null hypothesis that the joint distribution of the cell counts in a 2-dimensional contingency table is the product of the row and column marginals.\n",
       "\n",
       "Note that the entries of `x` (and `y` if provided) must be non-negative integers.\n",
       "\n",
       "Implements: [`pvalue`](@ref), [`confint`](@ref)\n"
      ],
      "text/plain": [
       "\u001b[36m  ChisqTest(x[, y][, theta0 = ones(length(x))/length(x)])\u001b[39m\n",
       "\n",
       "  Perform a Pearson chi-squared test (equivalent to a \u001b[36mPowerDivergenceTest\u001b[39m with\n",
       "  \u001b[35mλ = 1\u001b[39m).\n",
       "\n",
       "  If \u001b[36my\u001b[39m is not given and \u001b[36mx\u001b[39m is a matrix with one row or column, or \u001b[36mx\u001b[39m is a\n",
       "  vector, then a goodness-of-fit test is performed (\u001b[36mx\u001b[39m is treated as a\n",
       "  one-dimensional contingency table). In this case, the hypothesis tested is\n",
       "  whether the population probabilities equal those in \u001b[36mtheta0\u001b[39m, or are all equal\n",
       "  if \u001b[36mtheta0\u001b[39m is not given.\n",
       "\n",
       "  If \u001b[36mx\u001b[39m is a matrix with at least two rows and columns, it is taken as a\n",
       "  two-dimensional contingency table. Otherwise, \u001b[36mx\u001b[39m and \u001b[36my\u001b[39m must be vectors of the\n",
       "  same length. The contingency table is calculated using \u001b[36mcounts\u001b[39m function from\n",
       "  the \u001b[36mStatsBase\u001b[39m package. Then the power divergence test is conducted under the\n",
       "  null hypothesis that the joint distribution of the cell counts in a\n",
       "  2-dimensional contingency table is the product of the row and column\n",
       "  marginals.\n",
       "\n",
       "  Note that the entries of \u001b[36mx\u001b[39m (and \u001b[36my\u001b[39m if provided) must be non-negative\n",
       "  integers.\n",
       "\n",
       "  Implements: \u001b[36mpvalue\u001b[39m, \u001b[36mconfint\u001b[39m"
      ]
     },
     "execution_count": 31,
     "metadata": {},
     "output_type": "execute_result"
    }
   ],
   "source": [
    "?ChisqTest\n"
   ]
  },
  {
   "cell_type": "markdown",
   "metadata": {},
   "source": [
    "# 场景2：赌局的结果和庄家是否有关\n",
    "1. 这是列表表 Contingency Table，也即：有两个变量\n",
    "\n",
    "### 检验两个变量的独立性，也即：H0 是两个变量独立（无关）"
   ]
  },
  {
   "cell_type": "code",
   "execution_count": 44,
   "metadata": {},
   "outputs": [
    {
     "data": {
      "text/plain": [
       "3×3 Array{Int64,2}:\n",
       " 43  49  22\n",
       "  8   2   5\n",
       " 47  44  30"
      ]
     },
     "execution_count": 44,
     "metadata": {},
     "output_type": "execute_result"
    }
   ],
   "source": [
    "# 空格表示是同一行；\n",
    "# 分号/逗号表示换一行；\n",
    "a = [43 49 22; 8 2 5; 47 44 30]"
   ]
  },
  {
   "cell_type": "code",
   "execution_count": 48,
   "metadata": {},
   "outputs": [
    {
     "data": {
      "text/plain": [
       "Pearson's Chi-square Test\n",
       "-------------------------\n",
       "Population details:\n",
       "    parameter of interest:   Multinomial Probabilities\n",
       "    value under h_0:         [0.178752, 0.02352, 0.189728, 0.17328, 0.0228, 0.18392, 0.103968, 0.01368, 0.110352]\n",
       "    point estimate:          [0.172, 0.032, 0.188, 0.196, 0.008, 0.176, 0.088, 0.02, 0.12]\n",
       "    95% confidence interval: Tuple{Float64,Float64}[(0.116, 0.2347), (0.0, 0.0947), (0.132, 0.2507), (0.14, 0.2587), (0.0, 0.0707), (0.12, 0.2387), (0.032, 0.1507), (0.0, 0.0827), (0.064, 0.1827)]\n",
       "\n",
       "Test summary:\n",
       "    outcome with 95% confidence: fail to reject h_0\n",
       "    one-sided p-value:           0.2296\n",
       "\n",
       "Details:\n",
       "    Sample size:        250\n",
       "    statistic:          5.617747972948174\n",
       "    degrees of freedom: 4\n",
       "    residuals:          [-0.252509, 0.874273, -0.0627261, 0.862987, -1.54976, -0.291999, -0.783016, 0.854366, 0.459216]\n",
       "    std. residuals:     [-0.439062, 1.15646, -0.111988, 1.48597, -2.03004, -0.51625, -1.20827, 1.00293, 0.727585]\n"
      ]
     },
     "execution_count": 48,
     "metadata": {},
     "output_type": "execute_result"
    }
   ],
   "source": [
    "# 这是级联表，行列各代表一个变量，所以，行列互换也不影响结果\n",
    "ChisqTest(a)"
   ]
  },
  {
   "cell_type": "markdown",
   "metadata": {},
   "source": [
    "## 这里不能拒绝 H0，也即 不能否定 赌局和庄家没关系；"
   ]
  },
  {
   "cell_type": "markdown",
   "metadata": {},
   "source": [
    "# 总结：卡方检验有两个用途，\n",
    "1. 拟合得好不好；参数是列向量（用逗号或分号声明），H0的比例是通过 theta0 传入的，默认是等比例；\n",
    "2. 两个变量是否相互独立；参数是 列联表 contingency table，也即：二维数组，每个维度表示一个变量；行列互换也没关系； "
   ]
  },
  {
   "cell_type": "markdown",
   "metadata": {},
   "source": [
    "# F检验，是方差检验\n",
    "1. 组内、组间"
   ]
  },
  {
   "cell_type": "markdown",
   "metadata": {},
   "source": [
    "# 场景3：头发颜色和眼睛颜色是否相关"
   ]
  },
  {
   "cell_type": "code",
   "execution_count": 49,
   "metadata": {},
   "outputs": [
    {
     "data": {
      "text/plain": [
       "Pearson's Chi-square Test\n",
       "-------------------------\n",
       "Population details:\n",
       "    parameter of interest:   Multinomial Probabilities\n",
       "    value under h_0:         [0.066255, 0.077911, 0.175453, 0.0435565, 0.0677958, 0.0797229, 0.179533, 0.0445695, 0.0197224, 0.0231921, 0.0522279, 0.0129657, 0.0286591, 0.033701, 0.0758937, 0.0188407]\n",
       "    point estimate:          [0.0337838, 0.158784, 0.141892, 0.0287162, 0.114865, 0.0118243, 0.201014, 0.0439189, 0.00844595, 0.027027, 0.0489865, 0.0236486, 0.0253378, 0.0168919, 0.0912162, 0.0236486]\n",
       "    95% confidence interval: Tuple{Float64,Float64}[(0.0, 0.0713), (0.1233, 0.1963), (0.1064, 0.1794), (0.0, 0.0663), (0.0794, 0.1524), (0.0, 0.0494), (0.1655, 0.2386), (0.0084, 0.0815), (0.0, 0.046), (0.0, 0.0646), (0.0135, 0.0865), (0.0, 0.0612), (0.0, 0.0629), (0.0, 0.0544), (0.0557, 0.1288), (0.0, 0.0612)]\n",
       "\n",
       "Test summary:\n",
       "    outcome with 95% confidence: reject h_0\n",
       "    one-sided p-value:           <1e-24\n",
       "\n",
       "Details:\n",
       "    Sample size:        592\n",
       "    statistic:          138.2898416260083\n",
       "    degrees of freedom: 9\n",
       "    residuals:          [-3.06938, 7.04959, -1.94948, -1.73013, 4.3984, -5.851, 1.23346, -0.0749779, -1.95368, 0.612698, -0.3451, 2.28274, -0.477352, -2.22784, 1.35328, 0.852253]\n",
       "    std. residuals:     [-4.25382, 9.96755, -3.39788, -2.31105, 6.13652, -8.32825, 2.16428, -0.100824, -2.2879, 0.732023, -0.508263, 2.57657, -0.575026, -2.73798, 2.05022, 0.989512]\n"
      ]
     },
     "execution_count": 49,
     "metadata": {},
     "output_type": "execute_result"
    }
   ],
   "source": [
    "a = [20 68 5 15; 94 7 16 10; 84 119 29 54; 17 26 14 14]\n",
    "ChisqTest(a)"
   ]
  }
 ],
 "metadata": {
  "kernelspec": {
   "display_name": "Julia 1.1.0",
   "language": "julia",
   "name": "julia-1.1"
  },
  "language_info": {
   "file_extension": ".jl",
   "mimetype": "application/julia",
   "name": "julia",
   "version": "1.1.0"
  }
 },
 "nbformat": 4,
 "nbformat_minor": 2
}
