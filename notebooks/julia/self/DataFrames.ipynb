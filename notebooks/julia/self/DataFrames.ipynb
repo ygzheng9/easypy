{
 "cells": [
  {
   "cell_type": "code",
   "execution_count": 1,
   "metadata": {
    "collapsed": true
   },
   "outputs": [],
   "source": [
    "using DataFrames"
   ]
  },
  {
   "cell_type": "code",
   "execution_count": 2,
   "metadata": {
    "collapsed": true
   },
   "outputs": [],
   "source": [
    "train = readtable(\"train.csv\");"
   ]
  },
  {
   "cell_type": "markdown",
   "metadata": {},
   "source": [
    "### EDA using DataFrames"
   ]
  },
  {
   "cell_type": "code",
   "execution_count": 3,
   "metadata": {},
   "outputs": [
    {
     "data": {
      "text/plain": [
       "(614, 13)"
      ]
     },
     "execution_count": 3,
     "metadata": {},
     "output_type": "execute_result"
    }
   ],
   "source": [
    "size(train)                            #Shape of dataset "
   ]
  },
  {
   "cell_type": "code",
   "execution_count": 4,
   "metadata": {},
   "outputs": [
    {
     "data": {
      "text/plain": [
       "13-element Array{Symbol,1}:\n",
       " :Loan_ID          \n",
       " :Gender           \n",
       " :Married          \n",
       " :Dependents       \n",
       " :Education        \n",
       " :Self_Employed    \n",
       " :ApplicantIncome  \n",
       " :CoapplicantIncome\n",
       " :LoanAmount       \n",
       " :Loan_Amount_Term \n",
       " :Credit_History   \n",
       " :Property_Area    \n",
       " :Loan_Status      "
      ]
     },
     "execution_count": 4,
     "metadata": {},
     "output_type": "execute_result"
    }
   ],
   "source": [
    "names(train)                           #List of columns"
   ]
  },
  {
   "cell_type": "code",
   "execution_count": 5,
   "metadata": {},
   "outputs": [
    {
     "data": {
      "text/html": [
       "<table class=\"data-frame\"><thead><tr><th></th><th>Loan_ID</th><th>Gender</th><th>Married</th><th>Dependents</th><th>Education</th><th>Self_Employed</th><th>ApplicantIncome</th><th>CoapplicantIncome</th><th>LoanAmount</th><th>Loan_Amount_Term</th><th>Credit_History</th><th>Property_Area</th><th>Loan_Status</th></tr></thead><tbody><tr><th>1</th><td>LP001002</td><td>Male</td><td>No</td><td>0</td><td>Graduate</td><td>No</td><td>5849</td><td>0.0</td><td>NA</td><td>360</td><td>1</td><td>Urban</td><td>Y</td></tr><tr><th>2</th><td>LP001003</td><td>Male</td><td>Yes</td><td>1</td><td>Graduate</td><td>No</td><td>4583</td><td>1508.0</td><td>128</td><td>360</td><td>1</td><td>Rural</td><td>N</td></tr><tr><th>3</th><td>LP001005</td><td>Male</td><td>Yes</td><td>0</td><td>Graduate</td><td>Yes</td><td>3000</td><td>0.0</td><td>66</td><td>360</td><td>1</td><td>Urban</td><td>Y</td></tr><tr><th>4</th><td>LP001006</td><td>Male</td><td>Yes</td><td>0</td><td>Not Graduate</td><td>No</td><td>2583</td><td>2358.0</td><td>120</td><td>360</td><td>1</td><td>Urban</td><td>Y</td></tr><tr><th>5</th><td>LP001008</td><td>Male</td><td>No</td><td>0</td><td>Graduate</td><td>No</td><td>6000</td><td>0.0</td><td>141</td><td>360</td><td>1</td><td>Urban</td><td>Y</td></tr><tr><th>6</th><td>LP001011</td><td>Male</td><td>Yes</td><td>2</td><td>Graduate</td><td>Yes</td><td>5417</td><td>4196.0</td><td>267</td><td>360</td><td>1</td><td>Urban</td><td>Y</td></tr></tbody></table>"
      ],
      "text/plain": [
       "6×13 DataFrames.DataFrame\n",
       "│ Row │ Loan_ID    │ Gender │ Married │ Dependents │ Education      │\n",
       "├─────┼────────────┼────────┼─────────┼────────────┼────────────────┤\n",
       "│ 1   │ \"LP001002\" │ \"Male\" │ \"No\"    │ \"0\"        │ \"Graduate\"     │\n",
       "│ 2   │ \"LP001003\" │ \"Male\" │ \"Yes\"   │ \"1\"        │ \"Graduate\"     │\n",
       "│ 3   │ \"LP001005\" │ \"Male\" │ \"Yes\"   │ \"0\"        │ \"Graduate\"     │\n",
       "│ 4   │ \"LP001006\" │ \"Male\" │ \"Yes\"   │ \"0\"        │ \"Not Graduate\" │\n",
       "│ 5   │ \"LP001008\" │ \"Male\" │ \"No\"    │ \"0\"        │ \"Graduate\"     │\n",
       "│ 6   │ \"LP001011\" │ \"Male\" │ \"Yes\"   │ \"2\"        │ \"Graduate\"     │\n",
       "\n",
       "│ Row │ Self_Employed │ ApplicantIncome │ CoapplicantIncome │ LoanAmount │\n",
       "├─────┼───────────────┼─────────────────┼───────────────────┼────────────┤\n",
       "│ 1   │ \"No\"          │ 5849            │ 0.0               │ NA         │\n",
       "│ 2   │ \"No\"          │ 4583            │ 1508.0            │ 128        │\n",
       "│ 3   │ \"Yes\"         │ 3000            │ 0.0               │ 66         │\n",
       "│ 4   │ \"No\"          │ 2583            │ 2358.0            │ 120        │\n",
       "│ 5   │ \"No\"          │ 6000            │ 0.0               │ 141        │\n",
       "│ 6   │ \"Yes\"         │ 5417            │ 4196.0            │ 267        │\n",
       "\n",
       "│ Row │ Loan_Amount_Term │ Credit_History │ Property_Area │ Loan_Status │\n",
       "├─────┼──────────────────┼────────────────┼───────────────┼─────────────┤\n",
       "│ 1   │ 360              │ 1              │ \"Urban\"       │ \"Y\"         │\n",
       "│ 2   │ 360              │ 1              │ \"Rural\"       │ \"N\"         │\n",
       "│ 3   │ 360              │ 1              │ \"Urban\"       │ \"Y\"         │\n",
       "│ 4   │ 360              │ 1              │ \"Urban\"       │ \"Y\"         │\n",
       "│ 5   │ 360              │ 1              │ \"Urban\"       │ \"Y\"         │\n",
       "│ 6   │ 360              │ 1              │ \"Urban\"       │ \"Y\"         │"
      ]
     },
     "execution_count": 5,
     "metadata": {},
     "output_type": "execute_result"
    }
   ],
   "source": [
    "head(train)                            #Dataset overview"
   ]
  },
  {
   "cell_type": "code",
   "execution_count": 6,
   "metadata": {},
   "outputs": [
    {
     "name": "stdout",
     "output_type": "stream",
     "text": [
      "614×13 DataFrames.DataFrame\n",
      "│ Col # │ Name              │ Eltype  │ Missing │\n",
      "├───────┼───────────────────┼─────────┼─────────┤\n",
      "│ 1     │ Loan_ID           │ String  │ 0       │\n",
      "│ 2     │ Gender            │ String  │ 13      │\n",
      "│ 3     │ Married           │ String  │ 3       │\n",
      "│ 4     │ Dependents        │ String  │ 15      │\n",
      "│ 5     │ Education         │ String  │ 0       │\n",
      "│ 6     │ Self_Employed     │ String  │ 32      │\n",
      "│ 7     │ ApplicantIncome   │ Int64   │ 0       │\n",
      "│ 8     │ CoapplicantIncome │ Float64 │ 0       │\n",
      "│ 9     │ LoanAmount        │ Int64   │ 22      │\n",
      "│ 10    │ Loan_Amount_Term  │ Int64   │ 14      │\n",
      "│ 11    │ Credit_History    │ Int64   │ 50      │\n",
      "│ 12    │ Property_Area     │ String  │ 0       │\n",
      "│ 13    │ Loan_Status       │ String  │ 0       │"
     ]
    }
   ],
   "source": [
    "showcols(train)                          #Columns overview"
   ]
  },
  {
   "cell_type": "code",
   "execution_count": 7,
   "metadata": {},
   "outputs": [
    {
     "name": "stdout",
     "output_type": "stream",
     "text": [
      "Summary Stats:\n",
      "Mean:           146.412162\n",
      "Minimum:        9.000000\n",
      "1st Quartile:   100.000000\n",
      "Median:         128.000000\n",
      "3rd Quartile:   168.000000\n",
      "Maximum:        700.000000\n",
      "Length:         592\n",
      "Type:           Int64\n",
      "Number Missing: 22\n",
      "% Missing:      3.583062\n"
     ]
    }
   ],
   "source": [
    "describe(train[:LoanAmount]) #Cetral tendency metrics \n",
    "                             #of continous variable"
   ]
  },
  {
   "cell_type": "code",
   "execution_count": 8,
   "metadata": {},
   "outputs": [
    {
     "data": {
      "text/plain": [
       "Dict{Union{DataArrays.NAtype, String},Int64} with 3 entries:\n",
       "  \"Urban\"     => 202\n",
       "  \"Rural\"     => 179\n",
       "  \"Semiurban\" => 233"
      ]
     },
     "execution_count": 8,
     "metadata": {},
     "output_type": "execute_result"
    }
   ],
   "source": [
    "countmap(train[:Property_Area])        #Frequency map for categorical variable, like value_counts() of pandas"
   ]
  }
 ],
 "metadata": {
  "kernelspec": {
   "display_name": "Julia 1.1.0",
   "language": "julia",
   "name": "julia-1.1"
  },
  "language_info": {
   "file_extension": ".jl",
   "mimetype": "application/julia",
   "name": "julia",
   "version": "1.1.0"
  }
 },
 "nbformat": 4,
 "nbformat_minor": 2
}
