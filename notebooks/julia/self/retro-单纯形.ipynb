{
 "cells": [
  {
   "cell_type": "code",
   "execution_count": 73,
   "metadata": {},
   "outputs": [],
   "source": [
    "using JuMP\n",
    "using GLPK\n",
    "using Test\n",
    "using Clp\n",
    "# using Cbc\n",
    "# using Gurobi\n",
    "\n",
    "using LinearAlgebra"
   ]
  },
  {
   "cell_type": "markdown",
   "metadata": {},
   "source": [
    "# 用 线性代数 表示约束"
   ]
  },
  {
   "cell_type": "code",
   "execution_count": 83,
   "metadata": {},
   "outputs": [
    {
     "data": {
      "text/plain": [
       "CarpenterPrimal (generic function with 1 method)"
      ]
     },
     "execution_count": 83,
     "metadata": {},
     "output_type": "execute_result"
    }
   ],
   "source": [
    "\n",
    "# 利用JuMP求解原问题\n",
    "function CarpenterPrimal(c,A,b)\n",
    "    # 定义Model对象, OutputFlag = 0指不输出log\n",
    "    Primal = Model(solver = ClpSolver())\n",
    "    # 定义变量，注意这里使用了宏（macro），宏的调用也是Julia&JuMP高效编译/元编程(metaprogramming)的重要技巧\n",
    "    @variable(Primal, x[1:2]>=0)\n",
    "    # 定义不等式约束\n",
    "    constr = @constraint(Primal, A*x .<= b)\n",
    "    # 定义目标函数\n",
    "    @objective(Primal, Max, dot(c, x))\n",
    "    # 求解\n",
    "    solve(Primal)\n",
    "    # 返回最优目标函数值，最优解（原问题），最优解（对偶问题）\n",
    "    return getobjectivevalue(Primal), getvalue(x), getdual(constr)\n",
    "end\n"
   ]
  },
  {
   "cell_type": "code",
   "execution_count": 84,
   "metadata": {},
   "outputs": [
    {
     "data": {
      "text/plain": [
       "(300.0, [30.0, 0.0], [-0.0, 3.33333])"
      ]
     },
     "execution_count": 84,
     "metadata": {},
     "output_type": "execute_result"
    }
   ],
   "source": [
    "c = [10, 3]\n",
    "A = [5 2 ; 3 1]\n",
    "b = [200, 90]\n",
    "\n",
    "r = CarpenterPrimal(c, A, b)"
   ]
  },
  {
   "cell_type": "code",
   "execution_count": 85,
   "metadata": {},
   "outputs": [
    {
     "data": {
      "text/plain": [
       "(7.0, [5.0, 2.0], [0.333333, 0.333333])"
      ]
     },
     "execution_count": 85,
     "metadata": {},
     "output_type": "execute_result"
    }
   ],
   "source": [
    "c = [1, 1]\n",
    "A = [2 1 ; 1 2]\n",
    "b = [12, 9]\n",
    "\n",
    "r = CarpenterPrimal(c, A, b)"
   ]
  },
  {
   "cell_type": "markdown",
   "metadata": {},
   "source": [
    "# 直观例子"
   ]
  },
  {
   "cell_type": "code",
   "execution_count": 50,
   "metadata": {},
   "outputs": [
    {
     "name": "stdout",
     "output_type": "stream",
     "text": [
      "Number of Tea Cups: 6.5\n",
      "Number of Coffee Mugs : 11.5\n"
     ]
    }
   ],
   "source": [
    "lpModel = Model(solver = ClpSolver())\n",
    "\n",
    "@variable(lpModel, x >= 5)\n",
    "@variable(lpModel, y >= 6)\n",
    "\n",
    "@constraint(lpModel, x+y == 18)\n",
    "@constraint(lpModel, 20x + 30y <= 475)\n",
    "\n",
    "@objective(lpModel, Max, 2x + 3y)\n",
    "\n",
    "status = JuMP.solve(lpModel)\n",
    "\n",
    "println(\"Number of Tea Cups: $(getvalue(x))\")\n",
    "println(\"Number of Coffee Mugs : $(getvalue(y))\")"
   ]
  },
  {
   "cell_type": "code",
   "execution_count": 42,
   "metadata": {},
   "outputs": [
    {
     "name": "stdout",
     "output_type": "stream",
     "text": [
      "Max 5 x + 3 y\n",
      "Subject to\n",
      " x + 5 y ≤ 3\n",
      " 0 ≤ x ≤ 2\n",
      " 0 ≤ y ≤ 30\n",
      "Objective value: 10.6\n",
      "x = 2.0\n",
      "y = 0.2\n"
     ]
    }
   ],
   "source": [
    "m = Model(solver = ClpSolver())\n",
    "\n",
    "@variable(m, 0 <= x <= 2)\n",
    "@variable(m, 0 <= y <= 30)\n",
    "\n",
    "@objective(m, Max, 5x + 3y)\n",
    "@constraint(m, 1x + 5y <= 3.0)\n",
    "\n",
    "print(m)\n",
    "\n",
    "status = solve(m)\n",
    "\n",
    "println(\"Objective value: \", getobjectivevalue(m))\n",
    "println(\"x = \", getvalue(x))\n",
    "println(\"y = \", getvalue(y))"
   ]
  }
 ],
 "metadata": {
  "kernelspec": {
   "display_name": "Julia 1.1.0",
   "language": "julia",
   "name": "julia-1.1"
  },
  "language_info": {
   "file_extension": ".jl",
   "mimetype": "application/julia",
   "name": "julia",
   "version": "1.1.0"
  }
 },
 "nbformat": 4,
 "nbformat_minor": 2
}
