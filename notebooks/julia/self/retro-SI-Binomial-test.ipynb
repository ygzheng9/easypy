{
 "cells": [
  {
   "cell_type": "code",
   "execution_count": 2,
   "metadata": {},
   "outputs": [],
   "source": [
    "using HypothesisTests\n",
    "\n",
    "using Distributions"
   ]
  },
  {
   "cell_type": "markdown",
   "metadata": {},
   "source": [
    "# 场景1：宣称收视率 25%，实际1500人，观看人数23%，判定宣称错误"
   ]
  },
  {
   "cell_type": "code",
   "execution_count": 8,
   "metadata": {},
   "outputs": [
    {
     "data": {
      "text/plain": [
       "Binomial test\n",
       "-------------\n",
       "Population details:\n",
       "    parameter of interest:   Probability of success\n",
       "    value under h_0:         0.25\n",
       "    point estimate:          0.23\n",
       "    95% confidence interval: (0.2089, 0.2521)\n",
       "\n",
       "Test summary:\n",
       "    outcome with 95% confidence: fail to reject h_0\n",
       "    two-sided p-value:           0.0767\n",
       "\n",
       "Details:\n",
       "    number of observations: 1500\n",
       "    number of successes:    345\n"
      ]
     },
     "execution_count": 8,
     "metadata": {},
     "output_type": "execute_result"
    }
   ],
   "source": [
    "n = 1500\n",
    "p = 0.23\n",
    "ns = n * p\n",
    "h0 = 0.25\n",
    "BinomialTest(ns, n, h0)"
   ]
  },
  {
   "cell_type": "code",
   "execution_count": 17,
   "metadata": {},
   "outputs": [
    {
     "data": {
      "text/plain": [
       "Binomial test\n",
       "-------------\n",
       "Population details:\n",
       "    parameter of interest:   Probability of success\n",
       "    value under h_0:         0.25\n",
       "    point estimate:          0.22697368421052633\n",
       "    95% confidence interval: (0.2061, 0.2489)\n",
       "\n",
       "Test summary:\n",
       "    outcome with 95% confidence: reject h_0\n",
       "    two-sided p-value:           0.0394\n",
       "\n",
       "Details:\n",
       "    number of observations: 1520\n",
       "    number of successes:    345\n"
      ]
     },
     "execution_count": 17,
     "metadata": {},
     "output_type": "execute_result"
    }
   ],
   "source": [
    "# 样本稍微增大一点点，就可以拒绝 H0\n",
    "n = 1520\n",
    "BinomialTest(ns, n, h0)"
   ]
  },
  {
   "cell_type": "markdown",
   "metadata": {},
   "source": [
    "# 场景2：A(1200 * 0.2)，B(1300 * 0.21)，判定B比A比例高\n",
    "+ 通过 FisherExactTest 来做，H0 是相等；\n",
    "+ point estimate 是 两个比例的 比值；"
   ]
  },
  {
   "cell_type": "code",
   "execution_count": 20,
   "metadata": {},
   "outputs": [
    {
     "name": "stdout",
     "output_type": "stream",
     "text": [
      "point estimate: 0.952396363195353 = 0.2 / 0.21\n"
     ]
    },
    {
     "data": {
      "text/plain": [
       "Fisher's exact test\n",
       "-------------------\n",
       "Population details:\n",
       "    parameter of interest:   Odds ratio\n",
       "    value under h_0:         1.0\n",
       "    point estimate:          0.952396363195353\n",
       "    95% confidence interval: (0.7835, 1.1572)\n",
       "\n",
       "Test summary:\n",
       "    outcome with 95% confidence: fail to reject h_0\n",
       "    two-sided p-value:           0.6502\n",
       "\n",
       "Details:\n",
       "    contingency table:\n",
       "         240   273\n",
       "        1200  1300\n"
      ]
     },
     "execution_count": 20,
     "metadata": {},
     "output_type": "execute_result"
    }
   ],
   "source": [
    "println(\"point estimate: 0.952396363195353 = 0.2 / 0.21\")\n",
    "\n",
    "FisherExactTest(round(Int, 1200*0.2), round(Int, 1300*0.21), 1200, 1300)"
   ]
  },
  {
   "cell_type": "code",
   "execution_count": 5,
   "metadata": {},
   "outputs": [
    {
     "data": {
      "text/plain": [
       "Fisher's exact test\n",
       "-------------------\n",
       "Population details:\n",
       "    parameter of interest:   Odds ratio\n",
       "    value under h_0:         1.0\n",
       "    point estimate:          2.2815332313148176\n",
       "    95% confidence interval: (1.8883, 2.7619)\n",
       "\n",
       "Test summary:\n",
       "    outcome with 95% confidence: reject h_0\n",
       "    two-sided p-value:           <1e-18\n",
       "\n",
       "Details:\n",
       "    contingency table:\n",
       "        423   215\n",
       "        950  1102\n"
      ]
     },
     "execution_count": 5,
     "metadata": {},
     "output_type": "execute_result"
    }
   ],
   "source": [
    "a = FisherExactTest(423, 215, 950, 1102)"
   ]
  },
  {
   "cell_type": "code",
   "execution_count": 24,
   "metadata": {},
   "outputs": [
    {
     "name": "stdout",
     "output_type": "stream",
     "text": [
      "p1 = 0.44526315789473686, p2 = 0.19509981851179672, p1/p2 = 2.282232558139535\n"
     ]
    }
   ],
   "source": [
    "p1 = 423 / 950\n",
    "p2 = 215 / 1102\n",
    "\n",
    "println(\"p1 = $p1, p2 = $p2, p1/p2 = $(p1/p2)\")"
   ]
  },
  {
   "cell_type": "code",
   "execution_count": 27,
   "metadata": {},
   "outputs": [
    {
     "data": {
      "text/plain": [
       "1×2 Array{Float64,2}:\n",
       " 0.173307  0.343746"
      ]
     },
     "execution_count": 27,
     "metadata": {},
     "output_type": "execute_result"
    }
   ],
   "source": [
    "# 如果要计算百分比，而不是比例，那么通过代换\n",
    "# p1 - p2 = 1.8883 * p2 - p2 \n",
    "\n",
    "# 95% 对应的 置信区间\n",
    "a = [1.8883 2.7619]\n",
    "\n",
    "# 比例 转换成 百分比\n",
    "(a .- 1) .* p2"
   ]
  },
  {
   "cell_type": "markdown",
   "metadata": {},
   "source": [
    "# 两个词开头很像，但是 Bernoulli 和 Binomial 不一样\n",
    "+ Bernoulli 结果只是 0\\1\n",
    "+ Binomial 累积 1 的个数"
   ]
  },
  {
   "cell_type": "code",
   "execution_count": 18,
   "metadata": {},
   "outputs": [
    {
     "data": {
      "text/plain": [
       "10-element Array{Int64,1}:\n",
       " 1\n",
       " 0\n",
       " 0\n",
       " 0\n",
       " 0\n",
       " 0\n",
       " 1\n",
       " 1\n",
       " 0\n",
       " 0"
      ]
     },
     "execution_count": 18,
     "metadata": {},
     "output_type": "execute_result"
    }
   ],
   "source": [
    "# 正面概率25%，掷硬币 10 次\n",
    "rand(Bernoulli(0.25), 10)"
   ]
  },
  {
   "cell_type": "code",
   "execution_count": 19,
   "metadata": {},
   "outputs": [
    {
     "data": {
      "text/plain": [
       "10-element Array{Int64,1}:\n",
       " 2\n",
       " 1\n",
       " 2\n",
       " 5\n",
       " 3\n",
       " 4\n",
       " 1\n",
       " 3\n",
       " 2\n",
       " 1"
      ]
     },
     "execution_count": 19,
     "metadata": {},
     "output_type": "execute_result"
    }
   ],
   "source": [
    "# 抽样 20 次；每次都是 25% 概率，掷 10 次的正面数\n",
    "rand(Binomial(10, 0.25), 20)"
   ]
  },
  {
   "cell_type": "code",
   "execution_count": null,
   "metadata": {},
   "outputs": [],
   "source": []
  }
 ],
 "metadata": {
  "kernelspec": {
   "display_name": "Julia 1.1.0",
   "language": "julia",
   "name": "julia-1.1"
  },
  "language_info": {
   "file_extension": ".jl",
   "mimetype": "application/julia",
   "name": "julia",
   "version": "1.1.0"
  }
 },
 "nbformat": 4,
 "nbformat_minor": 2
}
