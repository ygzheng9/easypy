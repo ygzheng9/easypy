{
 "cells": [
  {
   "cell_type": "markdown",
   "metadata": {},
   "source": [
    "# HP 只用来检验 均值(参数)，中位数(无参)；不关心 方差；\n",
    "+ SignTest：检验中位数\n",
    "+ SignedRankTest：检验单变量，中位数是否为零；或两个相互依赖变量的差（变成一个变量），中位数是否为零；\n",
    "+ MannWhitneyUTest：检验两个变量（相互独立），中位数是否相等"
   ]
  },
  {
   "cell_type": "code",
   "execution_count": null,
   "metadata": {},
   "outputs": [],
   "source": []
  }
 ],
 "metadata": {
  "kernelspec": {
   "display_name": "Julia 1.1.0",
   "language": "julia",
   "name": "julia-1.1"
  },
  "language_info": {
   "file_extension": ".jl",
   "mimetype": "application/julia",
   "name": "julia",
   "version": "1.1.0"
  }
 },
 "nbformat": 4,
 "nbformat_minor": 2
}
