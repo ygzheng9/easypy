{
 "cells": [
  {
   "cell_type": "code",
   "execution_count": 1,
   "metadata": {},
   "outputs": [],
   "source": [
    "library(lpSolve)"
   ]
  },
  {
   "cell_type": "markdown",
   "metadata": {},
   "source": [
    "# 基本示例"
   ]
  },
  {
   "cell_type": "code",
   "execution_count": 2,
   "metadata": {},
   "outputs": [],
   "source": [
    "objective.in <- c(25, 20)\n",
    "const.mat <- matrix(c(20, 12, 1/15, 1/15), nrow=2, byrow=TRUE) \n",
    "const.rhs <- c(1800, 8)\n",
    "const.dir <- c(\"<=\", \"<=\")\n",
    "\n",
    "optimum <- lp(direction=\"max\", objective.in, const.mat, const.dir, const.rhs)\n"
   ]
  },
  {
   "cell_type": "code",
   "execution_count": 47,
   "metadata": {},
   "outputs": [
    {
     "data": {
      "text/html": [
       "<ol class=list-inline>\n",
       "\t<li>250</li>\n",
       "\t<li>100</li>\n",
       "</ol>\n"
      ],
      "text/latex": [
       "\\begin{enumerate*}\n",
       "\\item 250\n",
       "\\item 100\n",
       "\\end{enumerate*}\n"
      ],
      "text/markdown": [
       "1. 250\n",
       "2. 100\n",
       "\n",
       "\n"
      ],
      "text/plain": [
       "[1] 250 100"
      ]
     },
     "metadata": {},
     "output_type": "display_data"
    },
    {
     "data": {
      "text/html": [
       "800"
      ],
      "text/latex": [
       "800"
      ],
      "text/markdown": [
       "800"
      ],
      "text/plain": [
       "[1] 800"
      ]
     },
     "metadata": {},
     "output_type": "display_data"
    },
    {
     "data": {
      "text/plain": [
       "                 Length Class  Mode     \n",
       "direction         1     -none- numeric  \n",
       "x.count           1     -none- numeric  \n",
       "objective         2     -none- numeric  \n",
       "const.count       1     -none- numeric  \n",
       "constraints      12     -none- numeric  \n",
       "int.count         1     -none- numeric  \n",
       "int.vec           1     -none- numeric  \n",
       "bin.count         1     -none- numeric  \n",
       "binary.vec        1     -none- numeric  \n",
       "num.bin.solns     1     -none- numeric  \n",
       "objval            1     -none- numeric  \n",
       "solution          2     -none- numeric  \n",
       "presolve          1     -none- numeric  \n",
       "compute.sens      1     -none- numeric  \n",
       "sens.coef.from    1     -none- numeric  \n",
       "sens.coef.to      1     -none- numeric  \n",
       "duals             1     -none- numeric  \n",
       "duals.from        1     -none- numeric  \n",
       "duals.to          1     -none- numeric  \n",
       "scale             1     -none- numeric  \n",
       "use.dense         1     -none- numeric  \n",
       "dense.col         1     -none- numeric  \n",
       "dense.val         1     -none- numeric  \n",
       "dense.const.nrow  1     -none- numeric  \n",
       "dense.ctr         1     -none- numeric  \n",
       "use.rw            1     -none- numeric  \n",
       "tmp               1     -none- character\n",
       "status            1     -none- numeric  "
      ]
     },
     "metadata": {},
     "output_type": "display_data"
    }
   ],
   "source": [
    "optimum$solution\n",
    "optimum$objval\n",
    "summary(optimum)"
   ]
  },
  {
   "cell_type": "code",
   "execution_count": 7,
   "metadata": {},
   "outputs": [
    {
     "data": {
      "text/html": [
       "2625.00000000094"
      ],
      "text/latex": [
       "2625.00000000094"
      ],
      "text/markdown": [
       "2625.00000000094"
      ],
      "text/plain": [
       "[1] 2625"
      ]
     },
     "metadata": {},
     "output_type": "display_data"
    }
   ],
   "source": []
  },
  {
   "cell_type": "markdown",
   "metadata": {},
   "source": [
    "## 例子-1"
   ]
  },
  {
   "cell_type": "code",
   "execution_count": 48,
   "metadata": {},
   "outputs": [],
   "source": [
    "objective.in <- c(50, 100)\n",
    "const.mat <- matrix(c(1, 1, 2, 1, 0, 1), nrow=3, byrow=TRUE) \n",
    "const.rhs <- c(300, 400, 250)\n",
    "const.dir <- c(\"<=\", \"<=\", \"<=\")\n",
    "\n",
    "optimum <- lp(direction=\"max\", objective.in, const.mat, const.dir, const.rhs, compute.sens=TRUE)\n"
   ]
  },
  {
   "cell_type": "code",
   "execution_count": 49,
   "metadata": {},
   "outputs": [
    {
     "name": "stdout",
     "output_type": "stream",
     "text": [
      "[1]  50 250\n",
      "\n",
      "obj:  27500"
     ]
    }
   ],
   "source": [
    "# 最优解，极值\n",
    "print(optimum$solution)\n",
    "cat(paste(\"\\nobj: \", optimum$objval))"
   ]
  },
  {
   "cell_type": "code",
   "execution_count": 53,
   "metadata": {},
   "outputs": [
    {
     "name": "stdout",
     "output_type": "stream",
     "text": [
      "[1]  0 50\n",
      "[1] 1e+02 1e+30\n"
     ]
    }
   ],
   "source": [
    "# P27\n",
    "# 敏感度分析\n",
    "# 第一个是第一个变量的变化范围 [0, 100]；第二个是第二个变量的变化范围 [50, 10^30 无穷大]\n",
    "print(optimum$sens.coef.from)\n",
    "print(optimum$sens.coef.to)"
   ]
  },
  {
   "cell_type": "code",
   "execution_count": 51,
   "metadata": {},
   "outputs": [
    {
     "name": "stdout",
     "output_type": "stream",
     "text": [
      "[1] 50  0 50  0  0\n",
      "[1]  2.5e+02 -1.0e+30  2.0e+02 -1.0e+30 -1.0e+30\n",
      "[1] 3.25e+02 1.00e+30 3.00e+02 1.00e+30 1.00e+30\n"
     ]
    }
   ],
   "source": [
    "# 对偶价格\n",
    "# 总共是 5 个限制条件，其中 3 个是显式的，2个是变量自带的（自变量变化 参看 敏感度分析）\n",
    "# 每一列 是 对应一个限制条件的 对偶价格，以及 范围；也即：只需要看 前三列，并且 对偶价格不为零\n",
    "print(optimum$duals)\n",
    "print(optimum$duals.from)\n",
    "print(optimum$duals.to)\n"
   ]
  },
  {
   "cell_type": "code",
   "execution_count": 55,
   "metadata": {},
   "outputs": [],
   "source": [
    "# P29\n",
    "objective.in <- c(2, 3)\n",
    "const.mat <- matrix(c(1, 1, 1, 0, 2, 1), nrow=3, byrow=TRUE) \n",
    "const.rhs <- c(350, 125, 600)\n",
    "const.dir <- c(\">=\", \">=\", \"<=\")\n",
    "\n",
    "optimum <- lp(direction=\"min\", objective.in, const.mat, const.dir, const.rhs, compute.sens=TRUE)\n"
   ]
  },
  {
   "cell_type": "code",
   "execution_count": 58,
   "metadata": {},
   "outputs": [
    {
     "name": "stdout",
     "output_type": "stream",
     "text": [
      "[1] \"最优解，极值\"\n",
      "[1] 250 100\n",
      "[1] \"obj:  800\"\n",
      "[1] \"敏感度分析\"\n",
      "[1] -1e+30  2e+00\n",
      "[1] 3e+00 1e+30\n",
      "[1] \"对偶价格\"\n",
      "[1]  4  0 -1  0  0\n",
      "[1]  3.00e+02 -1.00e+30  4.75e+02 -1.00e+30 -1.00e+30\n",
      "[1] 4.75e+02 1.00e+30 7.00e+02 1.00e+30 1.00e+30\n"
     ]
    }
   ],
   "source": [
    "# 最优解，极值\n",
    "print(\"最优解，极值\")\n",
    "print(optimum$solution)\n",
    "print(paste(\"obj: \", optimum$objval))\n",
    "\n",
    "\n",
    "# 敏感度分析\n",
    "print(\"敏感度分析\")\n",
    "print(optimum$sens.coef.from)\n",
    "print(optimum$sens.coef.to)\n",
    "\n",
    "\n",
    "# 对偶价格\n",
    "print(\"对偶价格\")\n",
    "print(optimum$duals)\n",
    "print(optimum$duals.from)\n",
    "print(optimum$duals.to)\n"
   ]
  },
  {
   "cell_type": "markdown",
   "metadata": {},
   "source": [
    "# 例子-2"
   ]
  },
  {
   "cell_type": "code",
   "execution_count": 46,
   "metadata": {},
   "outputs": [
    {
     "name": "stdout",
     "output_type": "stream",
     "text": [
      "Success: the objective function is 800 \n",
      "[1] 250 100\n",
      "\n",
      "obj:  800"
     ]
    }
   ],
   "source": [
    "objective.in <- c(2, 3)\n",
    "const.mat <- matrix(c(1, 1, 2, 0, 2, 1), nrow=3, byrow=TRUE) \n",
    "const.rhs <- c(350, 125, 600)\n",
    "const.dir <- c(\">=\", \">=\", \"<=\")\n",
    "\n",
    "optimum <- lp(direction=\"min\", objective.in, const.mat, const.dir, const.rhs)\n",
    "\n",
    "print(optimum)\n",
    "print(optimum$solution)\n",
    "cat(paste(\"\\nobj: \", optimum$objval))\n"
   ]
  },
  {
   "cell_type": "code",
   "execution_count": 44,
   "metadata": {},
   "outputs": [
    {
     "name": "stdout",
     "output_type": "stream",
     "text": [
      "0 0"
     ]
    }
   ],
   "source": [
    "s <- paste(optimum$sens.coef.from, optimum$sens.coef.to)\n",
    "cat(s)"
   ]
  },
  {
   "cell_type": "code",
   "execution_count": 45,
   "metadata": {},
   "outputs": [
    {
     "data": {
      "text/html": [
       "0"
      ],
      "text/latex": [
       "0"
      ],
      "text/markdown": [
       "0"
      ],
      "text/plain": [
       "[1] 0"
      ]
     },
     "metadata": {},
     "output_type": "display_data"
    }
   ],
   "source": [
    "optimum$duals"
   ]
  },
  {
   "cell_type": "markdown",
   "metadata": {},
   "source": [
    "# 例子-无可行解"
   ]
  },
  {
   "cell_type": "code",
   "execution_count": 35,
   "metadata": {},
   "outputs": [
    {
     "name": "stdout",
     "output_type": "stream",
     "text": [
      "Error: no feasible solution found[1] 0 0\n",
      "\n",
      "obj:  0"
     ]
    }
   ],
   "source": [
    "objective.in <- c(20, 30)\n",
    "const.mat <- matrix(c(3, 10, 1, 0, 1, 1), nrow=3, byrow=TRUE) \n",
    "const.rhs <- c(150, 30, 40)\n",
    "const.dir <- c(\"<=\", \"<=\", \">=\")\n",
    "\n",
    "optimum <- lp(direction=\"max\", objective.in, const.mat, const.dir, const.rhs)\n",
    "\n",
    "print(optimum)\n",
    "print(optimum$solution)\n",
    "cat(paste(\"\\nobj: \", optimum$objval))\n"
   ]
  },
  {
   "cell_type": "markdown",
   "metadata": {},
   "source": [
    "# 例子 无界解 --> 可以无限好"
   ]
  },
  {
   "cell_type": "code",
   "execution_count": 36,
   "metadata": {},
   "outputs": [
    {
     "name": "stdout",
     "output_type": "stream",
     "text": [
      "Error: status 3 \n",
      "[1] 0 0\n",
      "\n",
      "obj:  0"
     ]
    }
   ],
   "source": [
    "objective.in <- c(1, 1)\n",
    "const.mat <- matrix(c(1, -1, -3, 2), nrow=2, byrow=TRUE) \n",
    "const.rhs <- c(1, 6)\n",
    "const.dir <- c(\"<=\", \"<=\")\n",
    "\n",
    "optimum <- lp(direction=\"max\", objective.in, const.mat, const.dir, const.rhs)\n",
    "\n",
    "print(optimum)\n",
    "print(optimum$solution)\n",
    "cat(paste(\"\\nobj: \", optimum$objval))\n"
   ]
  },
  {
   "cell_type": "markdown",
   "metadata": {},
   "source": [
    "# 例子 无穷多解 --> 无穷多解，都一样好"
   ]
  },
  {
   "cell_type": "code",
   "execution_count": 37,
   "metadata": {},
   "outputs": [
    {
     "name": "stdout",
     "output_type": "stream",
     "text": [
      "Success: the objective function is 15000 \n",
      "[1]  50 250\n",
      "\n",
      "obj:  15000"
     ]
    }
   ],
   "source": [
    "objective.in <- c(50, 50)\n",
    "const.mat <- matrix(c(1, 1, 2, 1, 0, 1), nrow=3, byrow=TRUE) \n",
    "const.rhs <- c(300, 400, 250)\n",
    "const.dir <- c(\"<=\", \"<=\", \"<=\")\n",
    "\n",
    "optimum <- lp(direction=\"max\", objective.in, const.mat, const.dir, const.rhs)\n",
    "\n",
    "print(optimum)\n",
    "print(optimum$solution)\n",
    "cat(paste(\"\\nobj: \", optimum$objval))"
   ]
  },
  {
   "cell_type": "code",
   "execution_count": null,
   "metadata": {},
   "outputs": [],
   "source": []
  }
 ],
 "metadata": {
  "kernelspec": {
   "display_name": "R",
   "language": "R",
   "name": "ir"
  },
  "language_info": {
   "codemirror_mode": "r",
   "file_extension": ".r",
   "mimetype": "text/x-r-source",
   "name": "R",
   "pygments_lexer": "r",
   "version": "3.5.2"
  }
 },
 "nbformat": 4,
 "nbformat_minor": 2
}
