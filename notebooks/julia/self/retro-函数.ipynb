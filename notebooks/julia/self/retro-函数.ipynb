{
 "cells": [
  {
   "cell_type": "code",
   "execution_count": 1,
   "metadata": {},
   "outputs": [
    {
     "data": {
      "text/plain": [
       "myappend (generic function with 1 method)"
      ]
     },
     "execution_count": 1,
     "metadata": {},
     "output_type": "execute_result"
    }
   ],
   "source": [
    "# 函数参数的类型 \n",
    "# constraints on type parameters\n",
    "myappend(v::Vector{T}, x::T) where {T} = [v..., x]"
   ]
  },
  {
   "cell_type": "code",
   "execution_count": 2,
   "metadata": {},
   "outputs": [
    {
     "data": {
      "text/plain": [
       "5-element Array{Int64,1}:\n",
       " 1\n",
       " 2\n",
       " 3\n",
       " 4\n",
       " 5"
      ]
     },
     "execution_count": 2,
     "metadata": {},
     "output_type": "execute_result"
    }
   ],
   "source": [
    "a = myappend([1,2,3,4], 5)\n",
    "a"
   ]
  },
  {
   "cell_type": "code",
   "execution_count": 3,
   "metadata": {},
   "outputs": [
    {
     "ename": "MethodError",
     "evalue": "MethodError: no method matching myappend(::Array{Int64,1}, ::Float64)\nClosest candidates are:\n  myappend(::Array{T,1}, !Matched::T) where T at In[1]:1",
     "output_type": "error",
     "traceback": [
      "MethodError: no method matching myappend(::Array{Int64,1}, ::Float64)\nClosest candidates are:\n  myappend(::Array{T,1}, !Matched::T) where T at In[1]:1",
      "",
      "Stacktrace:",
      " [1] top-level scope at In[3]:1"
     ]
    }
   ],
   "source": [
    "myappend([1,2,3,4], 5.0)"
   ]
  },
  {
   "cell_type": "code",
   "execution_count": 4,
   "metadata": {},
   "outputs": [
    {
     "data": {
      "text/plain": [
       "tryeval (generic function with 1 method)"
      ]
     },
     "execution_count": 4,
     "metadata": {},
     "output_type": "execute_result"
    }
   ],
   "source": [
    "function tryeval()\n",
    "   @eval newfun() = 1\n",
    "    \n",
    "    #  but can't be immediately called. \n",
    "   newfun()\n",
    "end\n"
   ]
  },
  {
   "cell_type": "code",
   "execution_count": 5,
   "metadata": {},
   "outputs": [
    {
     "ename": "MethodError",
     "evalue": "MethodError: no method matching newfun()\nThe applicable method may be too new: running in world age 25574, while current world is 25575.\nClosest candidates are:\n  newfun() at In[4]:2 (method too new to be called from this world context.)",
     "output_type": "error",
     "traceback": [
      "MethodError: no method matching newfun()\nThe applicable method may be too new: running in world age 25574, while current world is 25575.\nClosest candidates are:\n  newfun() at In[4]:2 (method too new to be called from this world context.)",
      "",
      "Stacktrace:",
      " [1] tryeval() at ./In[4]:3",
      " [2] top-level scope at In[5]:1"
     ]
    }
   ],
   "source": [
    "tryeval()"
   ]
  },
  {
   "cell_type": "code",
   "execution_count": 6,
   "metadata": {},
   "outputs": [
    {
     "data": {
      "text/plain": [
       "tryeval (generic function with 1 method)"
      ]
     },
     "execution_count": 6,
     "metadata": {},
     "output_type": "execute_result"
    }
   ],
   "source": [
    "function tryeval()\n",
    "   @eval newfun() = 1\n",
    "   return newfun\n",
    "end"
   ]
  },
  {
   "cell_type": "code",
   "execution_count": 8,
   "metadata": {},
   "outputs": [
    {
     "data": {
      "text/plain": [
       "newfun (generic function with 1 method)"
      ]
     },
     "execution_count": 8,
     "metadata": {},
     "output_type": "execute_result"
    }
   ],
   "source": [
    "a = tryeval()"
   ]
  },
  {
   "cell_type": "code",
   "execution_count": 9,
   "metadata": {},
   "outputs": [
    {
     "data": {
      "text/plain": [
       "1"
      ]
     },
     "execution_count": 9,
     "metadata": {},
     "output_type": "execute_result"
    }
   ],
   "source": [
    "a()"
   ]
  },
  {
   "cell_type": "code",
   "execution_count": 21,
   "metadata": {},
   "outputs": [],
   "source": [
    "# 动态类型\n",
    "abstract type GlassOfWine \n",
    "end;\n",
    "\n"
   ]
  },
  {
   "cell_type": "code",
   "execution_count": 29,
   "metadata": {},
   "outputs": [
    {
     "ename": "ErrorException",
     "evalue": "invalid redefinition of constant PinotNoir",
     "output_type": "error",
     "traceback": [
      "invalid redefinition of constant PinotNoir",
      "",
      "Stacktrace:",
      " [1] top-level scope at none:0"
     ]
    }
   ],
   "source": [
    "mutable struct PinotNoir <: GlassOfWine\n",
    "    region::String\n",
    "    volume::Float64 # ounces\n",
    "    price::Float64 # $\n",
    "end\n",
    "\n",
    "mutable struct Grenache <: GlassOfWine\n",
    "    region::String \n",
    "    volume::Float64 # ounces\n",
    "end"
   ]
  },
  {
   "cell_type": "code",
   "execution_count": 27,
   "metadata": {},
   "outputs": [
    {
     "data": {
      "text/plain": [
       "sip! (generic function with 1 method)"
      ]
     },
     "execution_count": 27,
     "metadata": {},
     "output_type": "execute_result"
    }
   ],
   "source": [
    "function sip!(glass_of_wine::GlassOfWine)\n",
    "    glass_of_wine.volume -= 0.1\n",
    "end\n"
   ]
  },
  {
   "cell_type": "code",
   "execution_count": 28,
   "metadata": {},
   "outputs": [
    {
     "ename": "ErrorException",
     "evalue": "setfield! immutable struct of type PinotNoir cannot be changed",
     "output_type": "error",
     "traceback": [
      "setfield! immutable struct of type PinotNoir cannot be changed",
      "",
      "Stacktrace:",
      " [1] setproperty! at ./sysimg.jl:19 [inlined]",
      " [2] sip!(::PinotNoir) at ./In[27]:2",
      " [3] top-level scope at In[28]:2"
     ]
    }
   ],
   "source": [
    "wg = PinotNoir(\"Oregon\", 5.0, 25.0)\n",
    "sip!(wg)\n",
    "wg.volume # 4.9\n",
    "\n",
    "wg = Grenache(\"Spain\", 5.0)\n",
    "sip!(wg)\n",
    "wg.volume # 4.9\n"
   ]
  },
  {
   "cell_type": "code",
   "execution_count": 20,
   "metadata": {},
   "outputs": [
    {
     "ename": "ErrorException",
     "evalue": "invalid subtyping in definition of AInt32",
     "output_type": "error",
     "traceback": [
      "invalid subtyping in definition of AInt32",
      "",
      "Stacktrace:",
      " [1] top-level scope at none:0"
     ]
    }
   ],
   "source": [
    "struct AInt32 <: Int32\n",
    "    a::Int32\n",
    "end "
   ]
  }
 ],
 "metadata": {
  "kernelspec": {
   "display_name": "Julia 1.1.0",
   "language": "julia",
   "name": "julia-1.1"
  },
  "language_info": {
   "file_extension": ".jl",
   "mimetype": "application/julia",
   "name": "julia",
   "version": "1.1.0"
  }
 },
 "nbformat": 4,
 "nbformat_minor": 2
}
