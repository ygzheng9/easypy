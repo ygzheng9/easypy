{
 "cells": [
  {
   "cell_type": "markdown",
   "metadata": {},
   "source": [
    "## Loading packages and dataset"
   ]
  },
  {
   "cell_type": "code",
   "execution_count": 10,
   "metadata": {},
   "outputs": [
    {
     "name": "stderr",
     "output_type": "stream",
     "text": [
      "WARNING: redefining constant LabelEncoder\n",
      "WARNING: redefining constant cross_val_score\n",
      "WARNING: redefining constant accuracy_score\n",
      "WARNING: redefining constant LogisticRegression\n",
      "WARNING: redefining constant RandomForestClassifier\n",
      "WARNING: redefining constant DecisionTreeClassifier\n"
     ]
    },
    {
     "data": {
      "text/plain": [
       "PyObject <class 'sklearn.tree.tree.DecisionTreeClassifier'>"
      ]
     },
     "execution_count": 10,
     "metadata": {},
     "output_type": "execute_result"
    }
   ],
   "source": [
    "using DataFrames\n",
    "using ScikitLearn: fit!, predict, @sk_import, fit_transform!\n",
    "\n",
    "@sk_import preprocessing: LabelEncoder\n",
    "@sk_import model_selection: cross_val_score \n",
    "@sk_import metrics: accuracy_score\n",
    "@sk_import linear_model: LogisticRegression\n",
    "@sk_import ensemble: RandomForestClassifier\n",
    "@sk_import tree: DecisionTreeClassifier"
   ]
  },
  {
   "cell_type": "code",
   "execution_count": 3,
   "metadata": {},
   "outputs": [],
   "source": [
    "train = readtable(\"train.csv\");\n",
    "test = readtable(\"test.csv\");\n",
    "samplesub = readtable(\"sample_sub.csv\");"
   ]
  },
  {
   "cell_type": "markdown",
   "metadata": {},
   "source": [
    "## Imputing Missing Values from dataset"
   ]
  },
  {
   "cell_type": "code",
   "execution_count": 4,
   "metadata": {},
   "outputs": [
    {
     "name": "stdout",
     "output_type": "stream",
     "text": [
      "614×13 DataFrames.DataFrame\n",
      "│ Col # │ Name              │ Eltype  │ Missing │\n",
      "├───────┼───────────────────┼─────────┼─────────┤\n",
      "│ 1     │ Loan_ID           │ String  │ 0       │\n",
      "│ 2     │ Gender            │ String  │ 13      │\n",
      "│ 3     │ Married           │ String  │ 3       │\n",
      "│ 4     │ Dependents        │ String  │ 15      │\n",
      "│ 5     │ Education         │ String  │ 0       │\n",
      "│ 6     │ Self_Employed     │ String  │ 32      │\n",
      "│ 7     │ ApplicantIncome   │ Int64   │ 0       │\n",
      "│ 8     │ CoapplicantIncome │ Float64 │ 0       │\n",
      "│ 9     │ LoanAmount        │ Int64   │ 22      │\n",
      "│ 10    │ Loan_Amount_Term  │ Int64   │ 14      │\n",
      "│ 11    │ Credit_History    │ Int64   │ 50      │\n",
      "│ 12    │ Property_Area     │ String  │ 0       │\n",
      "│ 13    │ Loan_Status       │ String  │ 0       │"
     ]
    }
   ],
   "source": [
    "showcols(train)"
   ]
  },
  {
   "cell_type": "code",
   "execution_count": 5,
   "metadata": {},
   "outputs": [],
   "source": [
    "train[isna.(train[:LoanAmount]), :LoanAmount] = floor(mean(dropna(train[:LoanAmount])));\n",
    "train[train[:LoanAmount] .== 0, :LoanAmount] = floor(mean(dropna(train[:LoanAmount])));\n",
    "train[isna.(train[:Gender]), :Gender] = mode(dropna(train[:Gender]));\n",
    "train[isna.(train[:Married]), :Married] = mode(dropna(train[:Married]));\n",
    "train[isna.(train[:Dependents]), :Dependents] = mode(dropna(train[:Dependents]));\n",
    "train[isna.(train[:Self_Employed]), :Self_Employed] = mode(dropna(train[:Self_Employed]));\n",
    "train[isna.(train[:Loan_Amount_Term]), :Loan_Amount_Term] = mode(dropna(train[:Loan_Amount_Term]));\n",
    "train[isna.(train[:Credit_History]), :Credit_History] = mode(dropna(train[:Credit_History]));"
   ]
  },
  {
   "cell_type": "code",
   "execution_count": 6,
   "metadata": {},
   "outputs": [
    {
     "name": "stdout",
     "output_type": "stream",
     "text": [
      "367×12 DataFrames.DataFrame\n",
      "│ Col # │ Name              │ Eltype │ Missing │\n",
      "├───────┼───────────────────┼────────┼─────────┤\n",
      "│ 1     │ Loan_ID           │ String │ 0       │\n",
      "│ 2     │ Gender            │ String │ 11      │\n",
      "│ 3     │ Married           │ String │ 0       │\n",
      "│ 4     │ Dependents        │ String │ 10      │\n",
      "│ 5     │ Education         │ String │ 0       │\n",
      "│ 6     │ Self_Employed     │ String │ 23      │\n",
      "│ 7     │ ApplicantIncome   │ Int64  │ 0       │\n",
      "│ 8     │ CoapplicantIncome │ Int64  │ 0       │\n",
      "│ 9     │ LoanAmount        │ Int64  │ 5       │\n",
      "│ 10    │ Loan_Amount_Term  │ Int64  │ 6       │\n",
      "│ 11    │ Credit_History    │ Int64  │ 29      │\n",
      "│ 12    │ Property_Area     │ String │ 0       │"
     ]
    }
   ],
   "source": [
    "showcols(test)"
   ]
  },
  {
   "cell_type": "code",
   "execution_count": 7,
   "metadata": {},
   "outputs": [],
   "source": [
    "test[isna.(test[:Gender]), :Gender] = mode(dropna(test[:Gender]));\n",
    "test[isna.(test[:Dependents]), :Dependents] = mode(dropna(test[:Dependents]));\n",
    "test[isna.(test[:Self_Employed]), :Self_Employed] = mode(dropna(test[:Self_Employed]));\n",
    "test[isna.(test[:LoanAmount]), :LoanAmount] = floor(mean(dropna(test[:LoanAmount])));\n",
    "test[test[:LoanAmount] .== 0, :LoanAmount] = floor(mean(dropna(test[:LoanAmount])));\n",
    "test[isna.(test[:Loan_Amount_Term]), :Loan_Amount_Term] = mode(dropna(test[:Loan_Amount_Term]));\n",
    "test[isna.(test[:Credit_History]), :Credit_History] = mode(dropna(test[:Credit_History]));"
   ]
  },
  {
   "cell_type": "markdown",
   "metadata": {},
   "source": [
    "## Label Encoding categorical data"
   ]
  },
  {
   "cell_type": "code",
   "execution_count": 11,
   "metadata": {},
   "outputs": [],
   "source": [
    "labelencoder = LabelEncoder()\n",
    "categories = [2 3 4 5 6 12 13]\n",
    "\n",
    "for col in categories\n",
    "    train[col] = fit_transform!(labelencoder, train[col])\n",
    "    if col != 13\n",
    "        test[col] = fit_transform!(labelencoder, test[col])\n",
    "    end\n",
    "end"
   ]
  },
  {
   "cell_type": "markdown",
   "metadata": {},
   "source": [
    "## Building Model"
   ]
  },
  {
   "cell_type": "code",
   "execution_count": 62,
   "metadata": {},
   "outputs": [
    {
     "data": {
      "text/plain": [
       "classification_model (generic function with 2 methods)"
      ]
     },
     "execution_count": 62,
     "metadata": {},
     "output_type": "execute_result"
    }
   ],
   "source": [
    "function classification_model(model, predictors)\n",
    "    y = convert(Array, train[:13])\n",
    "    X = convert(Array, train[predictors])\n",
    "    X2 = convert(Array, test[predictors])                 \n",
    "\n",
    "    #Fit the model:\n",
    "    fit!(model, X, y)\n",
    "\n",
    "    #Make predictions on training set:\n",
    "    predictions = predict(model, X)\n",
    "\n",
    "    #Print accuracy\n",
    "    accuracy = accuracy_score(predictions, y)\n",
    "    println(\"\\naccuracy: \",accuracy)\n",
    "\n",
    "    #5 fold cross validation\n",
    "    cross_score = cross_val_score(model, X, y, cv=5)\n",
    "    \n",
    "    #print cross_val_score\n",
    "    println(\"cross_validation_score: \", mean(cross_score))\n",
    "    \n",
    "    #return predictions\n",
    "    fit!(model, X, y)\n",
    "    pred = predict(model, X2)\n",
    "    return pred\n",
    "end"
   ]
  },
  {
   "cell_type": "code",
   "execution_count": 78,
   "metadata": {},
   "outputs": [
    {
     "data": {
      "text/plain": [
       "7-element Array{Symbol,1}:\n",
       " :ApplicantIncome  \n",
       " :CoapplicantIncome\n",
       " :LoanAmount       \n",
       " :Credit_History   \n",
       " :Loan_Amount_Term \n",
       " :Gender           \n",
       " :Dependents       "
      ]
     },
     "execution_count": 78,
     "metadata": {},
     "output_type": "execute_result"
    }
   ],
   "source": [
    "predictors = [:ApplicantIncome, :CoapplicantIncome, :LoanAmount, :Credit_History, :Loan_Amount_Term, :Gender, :Dependents]"
   ]
  },
  {
   "cell_type": "markdown",
   "metadata": {},
   "source": [
    "### Logistic Regression"
   ]
  },
  {
   "cell_type": "code",
   "execution_count": 103,
   "metadata": {},
   "outputs": [
    {
     "name": "stdout",
     "output_type": "stream",
     "text": [
      "\n",
      "accuracy: 0.8127035830618893\n",
      "cross_validation_score: 0.8095716552088842\n"
     ]
    }
   ],
   "source": [
    "lrmodel = LogisticRegression()\n",
    "lrpred = classification_model(lrmodel, predictors);"
   ]
  },
  {
   "cell_type": "markdown",
   "metadata": {},
   "source": [
    "### Decision Tree Classifier"
   ]
  },
  {
   "cell_type": "code",
   "execution_count": 104,
   "metadata": {},
   "outputs": [
    {
     "name": "stdout",
     "output_type": "stream",
     "text": [
      "\n",
      "accuracy: 1.0\n",
      "cross_validation_score: 0.718455843469064\n"
     ]
    }
   ],
   "source": [
    "dtcmodel = DecisionTreeClassifier()\n",
    "dtcpred = classification_model(dtcmodel, predictors);"
   ]
  },
  {
   "cell_type": "markdown",
   "metadata": {},
   "source": [
    "### Random Forest Classifier"
   ]
  },
  {
   "cell_type": "code",
   "execution_count": 105,
   "metadata": {},
   "outputs": [
    {
     "name": "stdout",
     "output_type": "stream",
     "text": [
      "\n",
      "accuracy: 0.8159609120521173\n",
      "cross_validation_score: 0.8030671602326811\n"
     ]
    }
   ],
   "source": [
    "rfmodel = RandomForestClassifier(n_estimators=25, min_samples_split=25, max_depth=7, max_features=1, n_jobs=-1)\n",
    "rfpred = classification_model(rfmodel, predictors);"
   ]
  },
  {
   "cell_type": "markdown",
   "metadata": {},
   "source": [
    "## Create Submission File"
   ]
  },
  {
   "cell_type": "code",
   "execution_count": 93,
   "metadata": {},
   "outputs": [],
   "source": [
    "pred = map(x-> if x==1 \"Y\" else \"N\" end, lrpred)  #Convert to \"Y\" and \"N\" \n",
    "outdf = DataFrame(Loan_ID=test[:Loan_ID], Loan_Status=pred)\n",
    "writetable(\"sub.csv\", outdf)"
   ]
  },
  {
   "cell_type": "code",
   "execution_count": null,
   "metadata": {},
   "outputs": [],
   "source": []
  }
 ],
 "metadata": {
  "kernelspec": {
   "display_name": "Julia 0.6.0",
   "language": "julia",
   "name": "julia-0.6"
  },
  "language_info": {
   "file_extension": ".jl",
   "mimetype": "application/julia",
   "name": "julia",
   "version": "0.6.0"
  }
 },
 "nbformat": 4,
 "nbformat_minor": 2
}
