{
 "cells": [
  {
   "cell_type": "code",
   "execution_count": 1,
   "metadata": {},
   "outputs": [],
   "source": [
    "using HypothesisTests\n",
    "\n",
    "using Distributions"
   ]
  },
  {
   "cell_type": "markdown",
   "metadata": {},
   "source": [
    "# t-test 场景1：根据抽检数据，判断供应商不达标\n",
    "+ 单变量观测值，与总体预期的期望 是否一致；\n",
    "+ 注意：方差不考虑，只看期望\n",
    "+ t-testing 有假设条件：总体是正态分布"
   ]
  },
  {
   "cell_type": "code",
   "execution_count": 19,
   "metadata": {},
   "outputs": [
    {
     "data": {
      "text/plain": [
       "One sample t-test\n",
       "-----------------\n",
       "Population details:\n",
       "    parameter of interest:   Mean\n",
       "    value under h_0:         2.3\n",
       "    point estimate:          3.0\n",
       "    95% confidence interval: (1.0368, 4.9632)\n",
       "\n",
       "Test summary:\n",
       "    outcome with 95% confidence: fail to reject h_0\n",
       "    two-sided p-value:           0.3782\n",
       "\n",
       "Details:\n",
       "    number of observations:   5\n",
       "    t-statistic:              0.9899494936611667\n",
       "    degrees of freedom:       4\n",
       "    empirical standard error: 0.7071067811865476\n"
      ]
     },
     "execution_count": 19,
     "metadata": {},
     "output_type": "execute_result"
    }
   ],
   "source": [
    "# 默认是 alpha=0.05\n",
    "a = OneSampleTTest([1,2,3,4,5], 2.3)"
   ]
  },
  {
   "cell_type": "code",
   "execution_count": 20,
   "metadata": {},
   "outputs": [
    {
     "data": {
      "text/plain": [
       "(1.4925566809376776, 4.507443319062323)"
      ]
     },
     "execution_count": 20,
     "metadata": {},
     "output_type": "execute_result"
    }
   ],
   "source": [
    "# alpha 强化成 0.1, 也即 90%，confidenc interval 变窄了（上面是 95% 范围）\n",
    "confint(a, 0.1)"
   ]
  },
  {
   "cell_type": "code",
   "execution_count": 35,
   "metadata": {},
   "outputs": [
    {
     "name": "stdout",
     "output_type": "stream",
     "text": [
      "left: 0.8108811935805822\n",
      "right: 0.18911880641941775\n",
      "both: 0.3782376128388355\n"
     ]
    }
   ],
   "source": [
    "# pvalue 和 alpha 没关系；是 t-statistic 在 该自由度 下的概率； \n",
    "# 如果小于 1% 则拒绝 H0，否则不能拒绝 H0；\n",
    "tails = [:left :right :both]\n",
    "for t in tails\n",
    "    print(\"$t: $(pvalue(a, tail = t))\", \"\\n\")\n",
    "end "
   ]
  },
  {
   "cell_type": "code",
   "execution_count": 42,
   "metadata": {},
   "outputs": [
    {
     "name": "stdout",
     "output_type": "stream",
     "text": [
      "left: 0.8108811935805822\tright: 0.18911880641941775, \tboth=right*2=0.3782376128388355"
     ]
    }
   ],
   "source": [
    "# t 分布验证\n",
    "tstat = 0.9899494936611667\n",
    "freedom = 4\n",
    "d = TDist(freedom)\n",
    "\n",
    "print(\"left: \", cdf(d, tstat), \"\\tright: $(ccdf(d, tstat)), \\tboth=right*2=\",ccdf(d, tstat) * 2)"
   ]
  },
  {
   "cell_type": "markdown",
   "metadata": {},
   "source": [
    "# t-test 场景2：通过前后两次的成绩，判定某项措施有效\n",
    "+ 同一个观察对象，前后两次的表现，必须是 pair;\n",
    "+ 为了证明措施有效，也即：否定H0，样本个数需要多些；"
   ]
  },
  {
   "cell_type": "code",
   "execution_count": 78,
   "metadata": {},
   "outputs": [
    {
     "data": {
      "text/plain": [
       "One sample t-test\n",
       "-----------------\n",
       "Population details:\n",
       "    parameter of interest:   Mean\n",
       "    value under h_0:         0\n",
       "    point estimate:          -0.3333333333333333\n",
       "    95% confidence interval: (-1.1902, 0.5235)\n",
       "\n",
       "Test summary:\n",
       "    outcome with 95% confidence: fail to reject h_0\n",
       "    two-sided p-value:           0.3632\n",
       "\n",
       "Details:\n",
       "    number of observations:   6\n",
       "    t-statistic:              -0.9999999999999999\n",
       "    degrees of freedom:       5\n",
       "    empirical standard error: 0.33333333333333337\n"
      ]
     },
     "execution_count": 78,
     "metadata": {},
     "output_type": "execute_result"
    }
   ],
   "source": [
    "before = vec([1 2 3 4 5 6])\n",
    "after = vec([2 1 4 4 6 6])\n",
    "OneSampleTTest(before, after)"
   ]
  },
  {
   "cell_type": "code",
   "execution_count": 71,
   "metadata": {},
   "outputs": [
    {
     "data": {
      "text/plain": [
       "(3.5, 4.0)"
      ]
     },
     "execution_count": 71,
     "metadata": {},
     "output_type": "execute_result"
    }
   ],
   "source": [
    "# 即使均值前后相差很明显，但是由于有方差的存在，不能拒绝 H0，也即：不能拒绝“措施无效”\n",
    "# 只是由于样本太少导致的，同样的数据，样本量扩大为 4 被，则可以拒绝 H0\n",
    "(mean(before), mean(after))"
   ]
  },
  {
   "cell_type": "code",
   "execution_count": 76,
   "metadata": {},
   "outputs": [
    {
     "data": {
      "text/plain": [
       "One sample t-test\n",
       "-----------------\n",
       "Population details:\n",
       "    parameter of interest:   Mean\n",
       "    value under h_0:         0\n",
       "    point estimate:          -0.3333333333333333\n",
       "    95% confidence interval: (-0.6548, -0.0118)\n",
       "\n",
       "Test summary:\n",
       "    outcome with 95% confidence: reject h_0\n",
       "    two-sided p-value:           0.0428\n",
       "\n",
       "Details:\n",
       "    number of observations:   24\n",
       "    t-statistic:              -2.1447610589527213\n",
       "    degrees of freedom:       23\n",
       "    empirical standard error: 0.1554174680400523\n"
      ]
     },
     "execution_count": 76,
     "metadata": {},
     "output_type": "execute_result"
    }
   ],
   "source": [
    "# 扩大到 4 被\n",
    "before = vec([1 2 3 4 5 6 1 2 3 4 5 6 1 2 3 4 5 6 1 2 3 4 5 6])\n",
    "after = vec([2 1 4 4 6 6 2 1 4 4 6 6 2 1 4 4 6 6 2 1 4 4 6 6])\n",
    "OneSampleTTest(before, after)"
   ]
  },
  {
   "cell_type": "code",
   "execution_count": 77,
   "metadata": {},
   "outputs": [
    {
     "data": {
      "text/plain": [
       "(3.5, 3.8333333333333335)"
      ]
     },
     "execution_count": 77,
     "metadata": {},
     "output_type": "execute_result"
    }
   ],
   "source": [
    "# 样本量扩大后，可以拒绝 H0，也即：措施无效 是不对的；\n",
    "# 假设检验，样本要不少于 25 个，这样才容易否定 H0；\n",
    "(mean(before), mean(after))"
   ]
  },
  {
   "cell_type": "markdown",
   "metadata": {},
   "source": [
    "# t-test 场景3：判定区域A和区域B的销售均值有差异\n",
    "+ 两个不相关的变量，不是成对出现，个数可以不同；\n",
    "+ 注意，这里不判断方差是否相等， 直接使用方差不等的检验；"
   ]
  },
  {
   "cell_type": "code",
   "execution_count": 87,
   "metadata": {},
   "outputs": [
    {
     "data": {
      "text/plain": [
       "Two sample t-test (unequal variance)\n",
       "------------------------------------\n",
       "Population details:\n",
       "    parameter of interest:   Mean difference\n",
       "    value under h_0:         0\n",
       "    point estimate:          1.5259740259740262\n",
       "    95% confidence interval: (-0.1904, 3.2423)\n",
       "\n",
       "Test summary:\n",
       "    outcome with 95% confidence: fail to reject h_0\n",
       "    two-sided p-value:           0.0778\n",
       "\n",
       "Details:\n",
       "    number of observations:   [11,14]\n",
       "    t-statistic:              1.8833892094339233\n",
       "    degrees of freedom:       16.142854579130507\n",
       "    empirical standard error: 0.8102276567851194\n"
      ]
     },
     "execution_count": 87,
     "metadata": {},
     "output_type": "execute_result"
    }
   ],
   "source": [
    "a = vec([12 13 15 16 14 15 11 10 12 9 10])\n",
    "b = vec([11 10 12 9 10 13 14 12 10 11 10 12 9 10])\n",
    "UnequalVarianceTTest(a, b)"
   ]
  },
  {
   "cell_type": "code",
   "execution_count": 88,
   "metadata": {},
   "outputs": [
    {
     "data": {
      "text/plain": [
       "(12.454545454545455, 10.928571428571429)"
      ]
     },
     "execution_count": 88,
     "metadata": {},
     "output_type": "execute_result"
    }
   ],
   "source": [
    "# 由于样本量不够，所以不能拒绝 H0\n",
    "(mean(a), mean(b))"
   ]
  },
  {
   "cell_type": "code",
   "execution_count": 89,
   "metadata": {},
   "outputs": [
    {
     "data": {
      "text/plain": [
       "Two sample t-test (unequal variance)\n",
       "------------------------------------\n",
       "Population details:\n",
       "    parameter of interest:   Mean difference\n",
       "    value under h_0:         0\n",
       "    point estimate:          1.5259740259740262\n",
       "    95% confidence interval: (0.3882, 2.6638)\n",
       "\n",
       "Test summary:\n",
       "    outcome with 95% confidence: reject h_0\n",
       "    two-sided p-value:           0.0101\n",
       "\n",
       "Details:\n",
       "    number of observations:   [22,28]\n",
       "    t-statistic:              2.7256263604068245\n",
       "    degrees of freedom:       33.99921886310137\n",
       "    empirical standard error: 0.5598617800813538\n"
      ]
     },
     "execution_count": 89,
     "metadata": {},
     "output_type": "execute_result"
    }
   ],
   "source": [
    "# 扩大样本量，即使均值都不变，也可以拒绝 H0，也即：证明有差异\n",
    "a = vec([12 13 15 16 14 15 11 10 12 9 10 12 13 15 16 14 15 11 10 12 9 10])\n",
    "b = vec([11 10 12 9 10 13 14 12 10 11 10 12 9 10 11 10 12 9 10 13 14 12 10 11 10 12 9 10])\n",
    "UnequalVarianceTTest(a, b)"
   ]
  },
  {
   "cell_type": "code",
   "execution_count": 90,
   "metadata": {},
   "outputs": [
    {
     "data": {
      "text/plain": [
       "(12.454545454545455, 10.928571428571429)"
      ]
     },
     "execution_count": 90,
     "metadata": {},
     "output_type": "execute_result"
    }
   ],
   "source": [
    "(mean(a), mean(b))"
   ]
  },
  {
   "cell_type": "markdown",
   "metadata": {},
   "source": [
    "# t-test 的目的是拒绝H0，并且不能太激进(太激进就是 typeI 的错误)\n",
    "+ 在样本小于30情况下，t分布比z分布钟形更胖，也即：t分布更稳妥；\n",
    "+ 如果 t-test 都拒绝 H0 了，那么 z-test 也一定拒绝 H0；"
   ]
  },
  {
   "cell_type": "markdown",
   "metadata": {},
   "source": [
    "# 区间估计 和 假设推断 是一回事\n",
    "1. t-test 是连续随机变量；\n",
    "2. 单变量区间估计；--> 对总体的均值的区间估计\n",
    "3. 两个变量，均值差的区间估计；分为方差相等，方差不等；可以都按方差不等处理；\n",
    "3. 两个变量，但是成对的； -->  等同于单变量区间估计，传入两个 vector；"
   ]
  },
  {
   "cell_type": "code",
   "execution_count": 2,
   "metadata": {},
   "outputs": [
    {
     "data": {
      "text/plain": [
       "One sample t-test\n",
       "-----------------\n",
       "Population details:\n",
       "    parameter of interest:   Mean\n",
       "    value under h_0:         0\n",
       "    point estimate:          3.0\n",
       "    95% confidence interval: (1.0368, 4.9632)\n",
       "\n",
       "Test summary:\n",
       "    outcome with 95% confidence: reject h_0\n",
       "    two-sided p-value:           0.0132\n",
       "\n",
       "Details:\n",
       "    number of observations:   5\n",
       "    t-statistic:              4.242640687119285\n",
       "    degrees of freedom:       4\n",
       "    empirical standard error: 0.7071067811865476\n"
      ]
     },
     "execution_count": 2,
     "metadata": {},
     "output_type": "execute_result"
    }
   ],
   "source": [
    "# 区间估计\n",
    "\n",
    "a = OneSampleTTest([1,2,3,4,5])"
   ]
  },
  {
   "cell_type": "code",
   "execution_count": 3,
   "metadata": {},
   "outputs": [
    {
     "data": {
      "text/plain": [
       "(1.0367568385224428, 4.963243161477557)"
      ]
     },
     "execution_count": 3,
     "metadata": {},
     "output_type": "execute_result"
    }
   ],
   "source": [
    "# 置信度为 95% 时的置信区间\n",
    "confint(a, 0.05)"
   ]
  },
  {
   "cell_type": "code",
   "execution_count": null,
   "metadata": {},
   "outputs": [],
   "source": []
  }
 ],
 "metadata": {
  "kernelspec": {
   "display_name": "Julia 1.1.0",
   "language": "julia",
   "name": "julia-1.1"
  },
  "language_info": {
   "file_extension": ".jl",
   "mimetype": "application/julia",
   "name": "julia",
   "version": "1.1.0"
  }
 },
 "nbformat": 4,
 "nbformat_minor": 2
}
